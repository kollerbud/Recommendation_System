{
 "cells": [
  {
   "cell_type": "code",
   "execution_count": 1,
   "id": "15302750",
   "metadata": {},
   "outputs": [],
   "source": [
    "import pyspark.sql.functions as func\n",
    "from pyspark.sql import Window\n",
    "from pyspark.sql.types import IntegerType\n",
    "from pyspark.sql.types import StructType, StructField, IntegerType, StringType, TimestampType\n",
    "from pyspark.sql import SparkSession\n",
    "import os\n",
    "from pyspark.sql.functions import rand\n",
    "from pyspark.ml.recommendation import ALS\n",
    "from pyspark.ml.evaluation import RegressionEvaluator"
   ]
  },
  {
   "cell_type": "code",
   "execution_count": 4,
   "id": "e45ff709",
   "metadata": {},
   "outputs": [],
   "source": [
    "spark = SparkSession.builder \\\n",
    "    .appName(\"Restaurant Recommendation\") \\\n",
    "    .getOrCreate()\n",
    "\n",
    "spark.conf.set(\"spark.sql.legacy.style\", \"false\")"
   ]
  },
  {
   "cell_type": "code",
   "execution_count": 3,
   "id": "04fe399b",
   "metadata": {},
   "outputs": [],
   "source": [
    "cwd = os.getcwd()\n",
    "business_df = spark.read.json('C:/Users/Haley/OneDrive - Georgia Institute of Technology/ISyE 6740/Project/yelp_dataset/yelp_academic_dataset_business.json')\n",
    "reviews_df = spark.read.json('C:/Users/Haley/OneDrive - Georgia Institute of Technology/ISyE 6740/Project/yelp_dataset/yelp_academic_dataset_review.json')\n",
    "users_df = spark.read.json('C:/Users/Haley/OneDrive - Georgia Institute of Technology/ISyE 6740/Project/yelp_dataset/yelp_academic_dataset_user.json')"
   ]
  },
  {
   "cell_type": "code",
   "execution_count": null,
   "id": "26368a1b",
   "metadata": {},
   "outputs": [],
   "source": [
    "business_df.columns"
   ]
  },
  {
   "cell_type": "code",
   "execution_count": null,
   "id": "ad82563f",
   "metadata": {},
   "outputs": [],
   "source": [
    "business_df.show()"
   ]
  },
  {
   "cell_type": "code",
   "execution_count": null,
   "id": "5c8827fa",
   "metadata": {},
   "outputs": [],
   "source": [
    "users_df.columns"
   ]
  },
  {
   "cell_type": "code",
   "execution_count": null,
   "id": "7dda9f90",
   "metadata": {},
   "outputs": [],
   "source": [
    "reviews_df.columns"
   ]
  },
  {
   "cell_type": "code",
   "execution_count": 5,
   "id": "26301c01",
   "metadata": {},
   "outputs": [],
   "source": [
    "#Generic numeric user_id and business_id to use later for modeling functions\n",
    "user_window = Window.orderBy(\"user_id\")\n",
    "business_window = Window.orderBy(\"business_id\")\n",
    "\n",
    "users_df = users_df.withColumn(\"user_number\", func.row_number().over(user_window)) #May need to do this only for PA\n",
    "business_df = business_df.withColumn(\"business_number\", func.row_number().over(business_window))\n",
    "\n",
    "#Create temp views for SQL\n",
    "business_df.createOrReplaceTempView(\"business\")\n",
    "reviews_df.createOrReplaceTempView(\"reviews\")\n",
    "users_df.createOrReplaceTempView(\"users\")"
   ]
  },
  {
   "cell_type": "code",
   "execution_count": 6,
   "id": "191af0d3",
   "metadata": {},
   "outputs": [
    {
     "data": {
      "text/plain": [
       "1987897"
      ]
     },
     "execution_count": 6,
     "metadata": {},
     "output_type": "execute_result"
    }
   ],
   "source": [
    "users_df.select(func.max(users_df['user_number'])).collect()[0][0]"
   ]
  },
  {
   "cell_type": "code",
   "execution_count": 7,
   "id": "80748b1b",
   "metadata": {},
   "outputs": [],
   "source": [
    "#Data Filtering\n",
    "state = 'PA'\n",
    "\n",
    "#Restaurants\n",
    "restaurant_sql = f'''\n",
    "        SELECT \n",
    "            b.*\n",
    "        FROM \n",
    "            business b\n",
    "        WHERE \n",
    "            b.is_open = 1 AND LOWER(b.categories) LIKE '%restaurant%' AND b.state = '{state}'\n",
    "        ;\n",
    "    '''\n",
    "\n",
    "restaurants = spark.sql(restaurant_sql)\n",
    "restaurants.createOrReplaceTempView(\"restaurants\")\n",
    "\n",
    "\n",
    "#Reviews for Restaurants\n",
    "restaurant_reviews_sql = f'''\n",
    "        SELECT \n",
    "            rv.*, r.city, r.state\n",
    "        FROM \n",
    "            reviews rv\n",
    "        INNER JOIN\n",
    "            restaurants r\n",
    "        ON rv.business_id = r.business_id\n",
    "        ;\n",
    "    '''\n",
    "\n",
    "restaurant_reviews = spark.sql(restaurant_reviews_sql)\n",
    "restaurant_reviews.createOrReplaceTempView(\"restaurant_reviews\")\n",
    "\n",
    "#Restaurant review volume by state\n",
    "restaurant_review_volume_sql = f'''\n",
    "        SELECT \n",
    "           rv.state, count(*) as review_count\n",
    "        FROM \n",
    "            restaurant_reviews rv\n",
    "        GROUP BY rv.state ORDER BY review_count DESC\n",
    "        ;\n",
    "    '''\n",
    "\n",
    "restaurant_review_volume = spark.sql(restaurant_review_volume_sql)\n",
    "\n",
    "\n",
    "#Users with at least 2 restaurant reviews\n",
    "min_review_per_user = 2\n",
    "\n",
    "multi_restaurant_users_sql = f'''\n",
    "        SELECT \n",
    "            u.user_id, COUNT(DISTINCT r.business_id) AS restaurant_review_count\n",
    "        FROM \n",
    "            users u\n",
    "        INNER JOIN \n",
    "            restaurant_reviews r\n",
    "        ON u.user_id = r.user_id\n",
    "        GROUP BY \n",
    "            u.user_id\n",
    "        HAVING \n",
    "            COUNT(DISTINCT r.business_id) >= {min_review_per_user}\n",
    "        ;\n",
    "    '''\n",
    "\n",
    "multi_restaurant_users = spark.sql(multi_restaurant_users_sql)\n",
    "multi_restaurant_users.createOrReplaceTempView(\"multi_restaurant_users\")\n",
    "\n",
    "\n",
    "#Data for restaurant reviews for users with at least 2 reviews\n",
    "final_reviews_sql = f'''\n",
    "        SELECT \n",
    "            r.user_id, ub.user_number, ub.average_stars, ub.elite, ub.fans, ub.friends, ub.name, ub.review_count, ub.yelping_since,\n",
    "            r.business_id, b.business_number, b.address, b.attributes, b.categories, b.city, b.state, b.hours, b.latitude, b.longitude, b.name, b.postal_code, b.review_count, b.stars AS business_stars,\n",
    "            r.review_id, r.date, r.stars AS review_stars, r.cool, r.funny, r.useful\n",
    "        FROM \n",
    "            restaurant_reviews r\n",
    "        INNER JOIN \n",
    "            multi_restaurant_users u\n",
    "        ON r.user_id = u.user_id\n",
    "        INNER JOIN\n",
    "            users ub\n",
    "        ON r.user_id = ub.user_id\n",
    "        INNER JOIN\n",
    "            restaurants b\n",
    "        ON r.business_id = b.business_id\n",
    "        ;\n",
    "    '''\n",
    "\n",
    "final_reviews = spark.sql(final_reviews_sql)\n",
    "final_reviews.createOrReplaceTempView(\"final_reviews\")"
   ]
  },
  {
   "cell_type": "code",
   "execution_count": 14,
   "id": "189f6bf9",
   "metadata": {},
   "outputs": [
    {
     "name": "stdout",
     "output_type": "stream",
     "text": [
      "+--------------------------------------------------------------------------------------------------------------------------------------------------------------------------------------------------------------------------------------------------------------------------------------------------------------------------------------------------------------------------------------------------------------------------------------------------------------------------------------------------------------------------------------------------------------------------------------------------------------------------------------------------------------------------------------------------------------------------------------------------------------------------------------------------------------------------------------------------------------------------+\n",
      "|attributes                                                                                                                                                                                                                                                                                                                                                                                                                                                                                                                                                                                                                                                                                                                                                                                                                                                                |\n",
      "+--------------------------------------------------------------------------------------------------------------------------------------------------------------------------------------------------------------------------------------------------------------------------------------------------------------------------------------------------------------------------------------------------------------------------------------------------------------------------------------------------------------------------------------------------------------------------------------------------------------------------------------------------------------------------------------------------------------------------------------------------------------------------------------------------------------------------------------------------------------------------+\n",
      "|{null, null, u'full_bar', {'touristy': False, 'hipster': False, 'romantic': False, 'divey': False, 'intimate': False, 'trendy': True, 'upscale': False, 'classy': True, 'casual': False}, null, null, {'monday': False, 'tuesday': True, 'friday': True, 'wednesday': True, 'thursday': False, 'sunday': False, 'saturday': False}, True, null, True, {'garage': False, 'street': True, 'validated': False, 'lot': False, 'valet': False}, False, True, False, null, null, False, False, False, False, {u'breakfast': False, u'brunch': False, u'lunch': None, u'dinner': True, u'latenight': None, u'dessert': False}, null, True, False, {'dj': False, 'background_music': False, 'no_music': False, 'jukebox': False, 'live': False, 'video': False, 'karaoke': False}, u'average', null, True, u'casual', null, True, False, 2, False, True, True, u'no', True, u'no'}|\n",
      "|{null, null, u'full_bar', {'touristy': False, 'hipster': False, 'romantic': True, 'divey': False, 'intimate': True, 'trendy': False, 'upscale': True, 'classy': True, 'casual': False}, null, null, null, True, null, True, {'garage': False, 'street': True, 'validated': False, 'lot': True, 'valet': False}, null, False, null, null, null, null, null, null, False, {'dessert': False, 'latenight': False, 'lunch': False, 'dinner': True, 'brunch': False, 'breakfast': False}, null, null, True, null, u'average', null, True, 'dressy', null, None, False, 4, True, True, True, null, null, u'no'}                                                                                                                                                                                                                                                                 |\n",
      "|{null, null, 'none', {'romantic': False, 'intimate': False, 'classy': False, 'hipster': False, 'divey': False, 'touristy': False, 'trendy': False, 'upscale': False, 'casual': True}, null, 'no', null, True, False, True, {'garage': False, 'street': False, 'validated': False, 'lot': True, 'valet': False}, null, True, null, null, null, False, null, null, True, {'dessert': False, 'latenight': False, 'lunch': True, 'dinner': False, 'brunch': False, 'breakfast': False}, null, null, False, null, u'average', null, True, 'casual', null, False, True, 1, False, False, True, null, True, u'free'}                                                                                                                                                                                                                                                             |\n",
      "|{null, null, u'none', {'touristy': False, 'hipster': False, 'romantic': False, 'divey': False, 'intimate': False, 'trendy': False, 'upscale': False, 'classy': True, 'casual': True}, True, null, null, True, null, True, {'garage': True, 'street': True, 'validated': False, 'lot': True, 'valet': False}, null, True, null, False, null, False, null, null, True, {'dessert': False, 'latenight': None, 'lunch': True, 'dinner': True, 'brunch': False, 'breakfast': False}, null, True, True, null, u'average', null, True, u'casual', null, True, True, 1, False, True, True, null, True, u'no'}                                                                                                                                                                                                                                                                     |\n",
      "|{null, null, 'full_bar', {'touristy': False, 'hipster': False, 'romantic': False, 'divey': False, 'intimate': False, 'trendy': False, 'upscale': False, 'classy': True, 'casual': True}, null, null, {'monday': True, 'tuesday': False, 'friday': True, 'wednesday': False, 'thursday': False, 'sunday': False, 'saturday': True}, True, null, True, {'garage': True, 'street': False, 'validated': False, 'lot': False, 'valet': False}, null, False, False, null, null, False, null, False, True, {'dessert': None, 'latenight': None, 'lunch': True, 'dinner': True, 'brunch': None, 'breakfast': False}, null, True, True, {'dj': False, 'background_music': False, 'no_music': False, 'jukebox': False, 'live': False, 'video': False, 'karaoke': False}, 'loud', null, True, 'casual', null, True, True, 2, True, True, True, u'no', True, 'free'}                  |\n",
      "|{null, null, 'none', {u'divey': None, u'hipster': False, u'casual': True, u'touristy': False, u'trendy': False, u'intimate': False, u'romantic': False, u'classy': False, u'upscale': False}, null, 'no', null, True, null, False, {'garage': False, 'street': True, 'validated': False, 'lot': False, 'valet': False}, null, True, null, null, null, False, null, null, True, {'dessert': False, 'latenight': False, 'lunch': True, 'dinner': True, 'brunch': False, 'breakfast': False}, null, null, True, null, u'average', null, None, 'casual', null, True, True, 1, False, False, True, null, True, u'no'}                                                                                                                                                                                                                                                          |\n",
      "|{null, null, u'none', {'touristy': False, 'hipster': False, 'romantic': False, 'divey': False, 'intimate': False, 'trendy': False, 'upscale': False, 'classy': True, 'casual': True}, null, null, null, True, False, True, {'garage': False, 'street': True, 'validated': False, 'lot': False, 'valet': False}, null, True, null, null, null, null, null, null, True, null, null, null, False, null, u'average', null, False, u'casual', null, True, True, 2, False, null, True, null, null, u'free'}                                                                                                                                                                                                                                                                                                                                                                     |\n",
      "|{null, null, u'none', {'romantic': False, 'intimate': False, 'classy': False, 'hipster': False, 'divey': False, 'touristy': False, 'trendy': False, 'upscale': False, 'casual': True}, null, null, null, True, null, True, {'garage': False, 'street': True, 'validated': False, 'lot': False, 'valet': False}, null, True, null, null, null, null, null, null, True, {'dessert': False, 'latenight': False, 'lunch': True, 'dinner': True, 'brunch': False, 'breakfast': False}, null, null, False, null, u'quiet', null, False, u'casual', null, True, False, 2, False, null, True, null, null, u'no'}                                                                                                                                                                                                                                                                  |\n",
      "|{null, null, u'none', {'touristy': None, 'hipster': False, 'romantic': False, 'divey': None, 'intimate': False, 'trendy': False, 'upscale': False, 'classy': False, 'casual': True}, null, null, null, True, null, False, {'garage': False, 'street': False, 'validated': False, 'lot': True, 'valet': False}, null, False, null, null, null, null, null, null, True, {'dessert': False, 'latenight': False, 'lunch': True, 'dinner': None, 'brunch': False, 'breakfast': False}, null, null, True, null, u'average', null, False, 'casual', null, False, True, 1, False, False, True, null, null, u'no'}                                                                                                                                                                                                                                                                 |\n",
      "|{null, null, 'none', {'romantic': False, 'intimate': False, 'touristy': False, 'hipster': False, 'divey': False, 'classy': False, 'trendy': False, 'upscale': False, 'casual': True}, null, null, null, False, null, False, {'garage': False, 'street': True, 'validated': False, 'lot': False, 'valet': False}, null, True, null, null, null, null, null, null, True, {'dessert': False, 'latenight': False, 'lunch': True, 'dinner': False, 'brunch': False, 'breakfast': False}, null, False, False, null, u'average', null, False, 'casual', null, False, True, 1, False, null, True, null, null, u'no'}                                                                                                                                                                                                                                                              |\n",
      "|{null, null, null, {'touristy': False, 'hipster': False, 'romantic': False, 'divey': False, 'intimate': False, 'trendy': False, 'upscale': False, 'classy': False, 'casual': False}, null, null, null, null, False, True, {u'valet': False, u'garage': None, u'street': None, u'lot': False, u'validated': None}, null, True, null, null, null, null, null, null, null, {'dessert': False, 'latenight': False, 'lunch': False, 'dinner': False, 'brunch': False, 'breakfast': False}, null, null, False, null, null, null, False, null, null, True, null, null, False, False, True, null, True, u'free'}                                                                                                                                                                                                                                                                  |\n",
      "|{null, null, u'none', {'touristy': False, 'hipster': False, 'romantic': False, 'divey': False, 'intimate': False, 'trendy': False, 'upscale': False, 'classy': True, 'casual': True}, True, null, null, True, True, True, {'garage': True, 'street': True, 'validated': False, 'lot': False, 'valet': False}, null, True, null, False, null, True, null, null, True, {'dessert': None, 'latenight': False, 'lunch': True, 'dinner': True, 'brunch': False, 'breakfast': False}, null, False, False, null, u'quiet', null, True, 'casual', null, True, True, 2, True, True, True, null, True, u'free'}                                                                                                                                                                                                                                                                     |\n",
      "|{null, null, u'full_bar', {'touristy': False, 'hipster': False, 'romantic': False, 'divey': False, 'intimate': False, 'trendy': True, 'upscale': False, 'classy': True, 'casual': False}, null, null, null, True, null, True, {'garage': False, 'street': False, 'validated': False, 'lot': True, 'valet': False}, null, True, null, null, null, null, null, null, False, {u'breakfast': False, u'brunch': False, u'lunch': None, u'dinner': True, u'latenight': False, u'dessert': None}, null, True, True, null, u'average', null, True, u'casual', null, False, True, 3, True, True, True, null, True, u'free'}                                                                                                                                                                                                                                                        |\n",
      "|{null, null, u'none', {'romantic': False, 'intimate': False, 'classy': False, 'hipster': False, 'divey': False, 'touristy': False, 'trendy': False, 'upscale': False, 'casual': True}, null, null, null, True, null, True, {u'valet': False, u'garage': None, u'street': True, u'lot': False, u'validated': False}, null, False, null, null, null, False, null, null, True, null, null, null, False, null, u'loud', null, None, u'casual', null, True, True, 1, False, null, True, null, null, u'no'}                                                                                                                                                                                                                                                                                                                                                                     |\n",
      "|{null, null, u'full_bar', {u'divey': False, u'hipster': True, u'casual': None, u'touristy': False, u'trendy': True, u'intimate': False, u'romantic': False, u'classy': False, u'upscale': False}, null, null, null, True, null, True, {'garage': False, 'street': True, 'validated': False, 'lot': False, 'valet': False}, null, False, null, null, null, False, None, null, True, {'dessert': None, 'latenight': False, 'lunch': True, 'dinner': True, 'brunch': None, 'breakfast': False}, null, True, True, null, u'loud', null, True, u'casual', null, True, True, 2, False, True, True, null, False, u'free'}                                                                                                                                                                                                                                                        |\n",
      "|{null, null, 'full_bar', {'touristy': False, 'hipster': False, 'romantic': False, 'divey': False, 'intimate': False, 'trendy': True, 'upscale': False, 'classy': True, 'casual': False}, null, 'no', null, True, null, True, {'garage': False, 'street': True, 'validated': False, 'lot': False, 'valet': False}, null, False, True, False, null, False, None, null, True, {'dessert': False, 'latenight': None, 'lunch': None, 'dinner': True, 'brunch': None, 'breakfast': False}, null, True, False, null, u'loud', null, True, 'casual', null, True, True, 2, True, True, True, null, null, u'no'}                                                                                                                                                                                                                                                                    |\n",
      "|{null, null, u'none', {u'divey': None, u'hipster': True, u'casual': True, u'touristy': False, u'trendy': None, u'intimate': False, u'romantic': False, u'classy': False, u'upscale': False}, null, null, null, True, null, False, {'garage': False, 'street': True, 'validated': False, 'lot': False, 'valet': False}, null, False, null, null, null, null, null, null, True, {'dessert': False, 'latenight': True, 'lunch': True, 'dinner': True, 'brunch': False, 'breakfast': False}, null, null, True, null, u'average', null, True, u'casual', null, True, True, 1, False, False, True, null, null, u'no'}                                                                                                                                                                                                                                                           |\n",
      "|{null, null, null, {'touristy': False, 'hipster': False, 'romantic': False, 'divey': False, 'intimate': False, 'trendy': False, 'upscale': False, 'classy': False, 'casual': False}, null, null, null, True, null, True, {'garage': False, 'street': True, 'validated': False, 'lot': False, 'valet': False}, null, null, null, null, null, null, null, null, True, {'dessert': False, 'latenight': False, 'lunch': False, 'dinner': False, 'brunch': False, 'breakfast': False}, null, null, False, null, null, null, None, 'casual', null, True, False, 1, False, null, True, null, null, null}                                                                                                                                                                                                                                                                         |\n",
      "|{null, null, u'beer_and_wine', {'touristy': False, 'hipster': False, 'romantic': False, 'divey': False, 'intimate': True, 'trendy': False, 'upscale': False, 'classy': True, 'casual': False}, null, null, null, True, False, True, {'garage': False, 'street': False, 'validated': False, 'lot': True, 'valet': False}, null, True, null, null, null, True, null, null, False, {'dessert': False, 'latenight': False, 'lunch': None, 'dinner': True, 'brunch': False, 'breakfast': False}, null, True, False, null, u'average', null, True, u'casual', null, True, True, 3, True, True, True, null, null, u'free'}                                                                                                                                                                                                                                                       |\n",
      "|{null, null, null, null, null, null, null, null, null, True, {'garage': False, 'street': False, 'validated': False, 'lot': False, 'valet': False}, null, True, null, null, null, null, null, null, null, null, null, null, null, null, null, null, null, null, null, True, True, null, null, null, True, null, null, null}                                                                                                                                                                                                                                                                                                                                                                                                                                                                                                                                                |\n",
      "+--------------------------------------------------------------------------------------------------------------------------------------------------------------------------------------------------------------------------------------------------------------------------------------------------------------------------------------------------------------------------------------------------------------------------------------------------------------------------------------------------------------------------------------------------------------------------------------------------------------------------------------------------------------------------------------------------------------------------------------------------------------------------------------------------------------------------------------------------------------------------+\n",
      "only showing top 20 rows\n",
      "\n"
     ]
    }
   ],
   "source": [
    "final_reviews.select(func.col('attributes')).show(truncate=False)"
   ]
  },
  {
   "cell_type": "code",
   "execution_count": 15,
   "id": "96625c22",
   "metadata": {},
   "outputs": [
    {
     "name": "stdout",
     "output_type": "stream",
     "text": [
      "+------------------------------------------------------------------------------------------------------------------------------------------------------------------------------------------------------------------------------------------------------------------------------------------------------------------------------------------------------------------------------------------------------------------------------------------------------------------------------------------------------------------------------------------------------------------------------------------------------------------------------------------------------------------------------------------------------------------------------------------------------------------------------------------------------------------------------------------------------------------------------------------------------------------------------------------------------------------------------------------------------------------------------------------------------------------------------------------------------------------------------------------------------------------------------------------------------------------------------------------------------------------------------------------------------------------------------------+\n",
      "|to_json(attributes)                                                                                                                                                                                                                                                                                                                                                                                                                                                                                                                                                                                                                                                                                                                                                                                                                                                                                                                                                                                                                                                                                                                                                                                                                                                                                                                 |\n",
      "+------------------------------------------------------------------------------------------------------------------------------------------------------------------------------------------------------------------------------------------------------------------------------------------------------------------------------------------------------------------------------------------------------------------------------------------------------------------------------------------------------------------------------------------------------------------------------------------------------------------------------------------------------------------------------------------------------------------------------------------------------------------------------------------------------------------------------------------------------------------------------------------------------------------------------------------------------------------------------------------------------------------------------------------------------------------------------------------------------------------------------------------------------------------------------------------------------------------------------------------------------------------------------------------------------------------------------------+\n",
      "|{\"Alcohol\":\"u'full_bar'\",\"Ambience\":\"{'touristy': False, 'hipster': False, 'romantic': False, 'divey': False, 'intimate': False, 'trendy': True, 'upscale': False, 'classy': True, 'casual': False}\",\"BestNights\":\"{'monday': False, 'tuesday': True, 'friday': True, 'wednesday': True, 'thursday': False, 'sunday': False, 'saturday': False}\",\"BikeParking\":\"True\",\"BusinessAcceptsCreditCards\":\"True\",\"BusinessParking\":\"{'garage': False, 'street': True, 'validated': False, 'lot': False, 'valet': False}\",\"ByAppointmentOnly\":\"False\",\"Caters\":\"True\",\"CoatCheck\":\"False\",\"DogsAllowed\":\"False\",\"DriveThru\":\"False\",\"GoodForDancing\":\"False\",\"GoodForKids\":\"False\",\"GoodForMeal\":\"{u'breakfast': False, u'brunch': False, u'lunch': None, u'dinner': True, u'latenight': None, u'dessert': False}\",\"HappyHour\":\"True\",\"HasTV\":\"False\",\"Music\":\"{'dj': False, 'background_music': False, 'no_music': False, 'jukebox': False, 'live': False, 'video': False, 'karaoke': False}\",\"NoiseLevel\":\"u'average'\",\"OutdoorSeating\":\"True\",\"RestaurantsAttire\":\"u'casual'\",\"RestaurantsDelivery\":\"True\",\"RestaurantsGoodForGroups\":\"False\",\"RestaurantsPriceRange2\":\"2\",\"RestaurantsReservations\":\"False\",\"RestaurantsTableService\":\"True\",\"RestaurantsTakeOut\":\"True\",\"Smoking\":\"u'no'\",\"WheelchairAccessible\":\"True\",\"WiFi\":\"u'no'\"}|\n",
      "|{\"Alcohol\":\"u'full_bar'\",\"Ambience\":\"{'touristy': False, 'hipster': False, 'romantic': True, 'divey': False, 'intimate': True, 'trendy': False, 'upscale': True, 'classy': True, 'casual': False}\",\"BikeParking\":\"True\",\"BusinessAcceptsCreditCards\":\"True\",\"BusinessParking\":\"{'garage': False, 'street': True, 'validated': False, 'lot': True, 'valet': False}\",\"Caters\":\"False\",\"GoodForKids\":\"False\",\"GoodForMeal\":\"{'dessert': False, 'latenight': False, 'lunch': False, 'dinner': True, 'brunch': False, 'breakfast': False}\",\"HasTV\":\"True\",\"NoiseLevel\":\"u'average'\",\"OutdoorSeating\":\"True\",\"RestaurantsAttire\":\"'dressy'\",\"RestaurantsDelivery\":\"None\",\"RestaurantsGoodForGroups\":\"False\",\"RestaurantsPriceRange2\":\"4\",\"RestaurantsReservations\":\"True\",\"RestaurantsTableService\":\"True\",\"RestaurantsTakeOut\":\"True\",\"WiFi\":\"u'no'\"}                                                                                                                                                                                                                                                                                                                                                                                                                                                                                    |\n",
      "|{\"Alcohol\":\"'none'\",\"Ambience\":\"{'romantic': False, 'intimate': False, 'classy': False, 'hipster': False, 'divey': False, 'touristy': False, 'trendy': False, 'upscale': False, 'casual': True}\",\"BYOBCorkage\":\"'no'\",\"BikeParking\":\"True\",\"BusinessAcceptsBitcoin\":\"False\",\"BusinessAcceptsCreditCards\":\"True\",\"BusinessParking\":\"{'garage': False, 'street': False, 'validated': False, 'lot': True, 'valet': False}\",\"Caters\":\"True\",\"DogsAllowed\":\"False\",\"GoodForKids\":\"True\",\"GoodForMeal\":\"{'dessert': False, 'latenight': False, 'lunch': True, 'dinner': False, 'brunch': False, 'breakfast': False}\",\"HasTV\":\"False\",\"NoiseLevel\":\"u'average'\",\"OutdoorSeating\":\"True\",\"RestaurantsAttire\":\"'casual'\",\"RestaurantsDelivery\":\"False\",\"RestaurantsGoodForGroups\":\"True\",\"RestaurantsPriceRange2\":\"1\",\"RestaurantsReservations\":\"False\",\"RestaurantsTableService\":\"False\",\"RestaurantsTakeOut\":\"True\",\"WheelchairAccessible\":\"True\",\"WiFi\":\"u'free'\"}                                                                                                                                                                                                                                                                                                                                                                        |\n",
      "|{\"Alcohol\":\"u'none'\",\"Ambience\":\"{'touristy': False, 'hipster': False, 'romantic': False, 'divey': False, 'intimate': False, 'trendy': False, 'upscale': False, 'classy': True, 'casual': True}\",\"BYOB\":\"True\",\"BikeParking\":\"True\",\"BusinessAcceptsCreditCards\":\"True\",\"BusinessParking\":\"{'garage': True, 'street': True, 'validated': False, 'lot': True, 'valet': False}\",\"Caters\":\"True\",\"Corkage\":\"False\",\"DogsAllowed\":\"False\",\"GoodForKids\":\"True\",\"GoodForMeal\":\"{'dessert': False, 'latenight': None, 'lunch': True, 'dinner': True, 'brunch': False, 'breakfast': False}\",\"HappyHour\":\"True\",\"HasTV\":\"True\",\"NoiseLevel\":\"u'average'\",\"OutdoorSeating\":\"True\",\"RestaurantsAttire\":\"u'casual'\",\"RestaurantsDelivery\":\"True\",\"RestaurantsGoodForGroups\":\"True\",\"RestaurantsPriceRange2\":\"1\",\"RestaurantsReservations\":\"False\",\"RestaurantsTableService\":\"True\",\"RestaurantsTakeOut\":\"True\",\"WheelchairAccessible\":\"True\",\"WiFi\":\"u'no'\"}                                                                                                                                                                                                                                                                                                                                                                                   |\n",
      "|{\"Alcohol\":\"'full_bar'\",\"Ambience\":\"{'touristy': False, 'hipster': False, 'romantic': False, 'divey': False, 'intimate': False, 'trendy': False, 'upscale': False, 'classy': True, 'casual': True}\",\"BestNights\":\"{'monday': True, 'tuesday': False, 'friday': True, 'wednesday': False, 'thursday': False, 'sunday': False, 'saturday': True}\",\"BikeParking\":\"True\",\"BusinessAcceptsCreditCards\":\"True\",\"BusinessParking\":\"{'garage': True, 'street': False, 'validated': False, 'lot': False, 'valet': False}\",\"Caters\":\"False\",\"CoatCheck\":\"False\",\"DogsAllowed\":\"False\",\"GoodForDancing\":\"False\",\"GoodForKids\":\"True\",\"GoodForMeal\":\"{'dessert': None, 'latenight': None, 'lunch': True, 'dinner': True, 'brunch': None, 'breakfast': False}\",\"HappyHour\":\"True\",\"HasTV\":\"True\",\"Music\":\"{'dj': False, 'background_music': False, 'no_music': False, 'jukebox': False, 'live': False, 'video': False, 'karaoke': False}\",\"NoiseLevel\":\"'loud'\",\"OutdoorSeating\":\"True\",\"RestaurantsAttire\":\"'casual'\",\"RestaurantsDelivery\":\"True\",\"RestaurantsGoodForGroups\":\"True\",\"RestaurantsPriceRange2\":\"2\",\"RestaurantsReservations\":\"True\",\"RestaurantsTableService\":\"True\",\"RestaurantsTakeOut\":\"True\",\"Smoking\":\"u'no'\",\"WheelchairAccessible\":\"True\",\"WiFi\":\"'free'\"}                                                                |\n",
      "|{\"Alcohol\":\"'none'\",\"Ambience\":\"{u'divey': None, u'hipster': False, u'casual': True, u'touristy': False, u'trendy': False, u'intimate': False, u'romantic': False, u'classy': False, u'upscale': False}\",\"BYOBCorkage\":\"'no'\",\"BikeParking\":\"True\",\"BusinessAcceptsCreditCards\":\"False\",\"BusinessParking\":\"{'garage': False, 'street': True, 'validated': False, 'lot': False, 'valet': False}\",\"Caters\":\"True\",\"DogsAllowed\":\"False\",\"GoodForKids\":\"True\",\"GoodForMeal\":\"{'dessert': False, 'latenight': False, 'lunch': True, 'dinner': True, 'brunch': False, 'breakfast': False}\",\"HasTV\":\"True\",\"NoiseLevel\":\"u'average'\",\"OutdoorSeating\":\"None\",\"RestaurantsAttire\":\"'casual'\",\"RestaurantsDelivery\":\"True\",\"RestaurantsGoodForGroups\":\"True\",\"RestaurantsPriceRange2\":\"1\",\"RestaurantsReservations\":\"False\",\"RestaurantsTableService\":\"False\",\"RestaurantsTakeOut\":\"True\",\"WheelchairAccessible\":\"True\",\"WiFi\":\"u'no'\"}                                                                                                                                                                                                                                                                                                                                                                                                     |\n",
      "|{\"Alcohol\":\"u'none'\",\"Ambience\":\"{'touristy': False, 'hipster': False, 'romantic': False, 'divey': False, 'intimate': False, 'trendy': False, 'upscale': False, 'classy': True, 'casual': True}\",\"BikeParking\":\"True\",\"BusinessAcceptsBitcoin\":\"False\",\"BusinessAcceptsCreditCards\":\"True\",\"BusinessParking\":\"{'garage': False, 'street': True, 'validated': False, 'lot': False, 'valet': False}\",\"Caters\":\"True\",\"GoodForKids\":\"True\",\"HasTV\":\"False\",\"NoiseLevel\":\"u'average'\",\"OutdoorSeating\":\"False\",\"RestaurantsAttire\":\"u'casual'\",\"RestaurantsDelivery\":\"True\",\"RestaurantsGoodForGroups\":\"True\",\"RestaurantsPriceRange2\":\"2\",\"RestaurantsReservations\":\"False\",\"RestaurantsTakeOut\":\"True\",\"WiFi\":\"u'free'\"}                                                                                                                                                                                                                                                                                                                                                                                                                                                                                                                                                                                                              |\n",
      "|{\"Alcohol\":\"u'none'\",\"Ambience\":\"{'romantic': False, 'intimate': False, 'classy': False, 'hipster': False, 'divey': False, 'touristy': False, 'trendy': False, 'upscale': False, 'casual': True}\",\"BikeParking\":\"True\",\"BusinessAcceptsCreditCards\":\"True\",\"BusinessParking\":\"{'garage': False, 'street': True, 'validated': False, 'lot': False, 'valet': False}\",\"Caters\":\"True\",\"GoodForKids\":\"True\",\"GoodForMeal\":\"{'dessert': False, 'latenight': False, 'lunch': True, 'dinner': True, 'brunch': False, 'breakfast': False}\",\"HasTV\":\"False\",\"NoiseLevel\":\"u'quiet'\",\"OutdoorSeating\":\"False\",\"RestaurantsAttire\":\"u'casual'\",\"RestaurantsDelivery\":\"True\",\"RestaurantsGoodForGroups\":\"False\",\"RestaurantsPriceRange2\":\"2\",\"RestaurantsReservations\":\"False\",\"RestaurantsTakeOut\":\"True\",\"WiFi\":\"u'no'\"}                                                                                                                                                                                                                                                                                                                                                                                                                                                                                                                      |\n",
      "|{\"Alcohol\":\"u'none'\",\"Ambience\":\"{'touristy': None, 'hipster': False, 'romantic': False, 'divey': None, 'intimate': False, 'trendy': False, 'upscale': False, 'classy': False, 'casual': True}\",\"BikeParking\":\"True\",\"BusinessAcceptsCreditCards\":\"False\",\"BusinessParking\":\"{'garage': False, 'street': False, 'validated': False, 'lot': True, 'valet': False}\",\"Caters\":\"False\",\"GoodForKids\":\"True\",\"GoodForMeal\":\"{'dessert': False, 'latenight': False, 'lunch': True, 'dinner': None, 'brunch': False, 'breakfast': False}\",\"HasTV\":\"True\",\"NoiseLevel\":\"u'average'\",\"OutdoorSeating\":\"False\",\"RestaurantsAttire\":\"'casual'\",\"RestaurantsDelivery\":\"False\",\"RestaurantsGoodForGroups\":\"True\",\"RestaurantsPriceRange2\":\"1\",\"RestaurantsReservations\":\"False\",\"RestaurantsTableService\":\"False\",\"RestaurantsTakeOut\":\"True\",\"WiFi\":\"u'no'\"}                                                                                                                                                                                                                                                                                                                                                                                                                                                                                    |\n",
      "|{\"Alcohol\":\"'none'\",\"Ambience\":\"{'romantic': False, 'intimate': False, 'touristy': False, 'hipster': False, 'divey': False, 'classy': False, 'trendy': False, 'upscale': False, 'casual': True}\",\"BikeParking\":\"False\",\"BusinessAcceptsCreditCards\":\"False\",\"BusinessParking\":\"{'garage': False, 'street': True, 'validated': False, 'lot': False, 'valet': False}\",\"Caters\":\"True\",\"GoodForKids\":\"True\",\"GoodForMeal\":\"{'dessert': False, 'latenight': False, 'lunch': True, 'dinner': False, 'brunch': False, 'breakfast': False}\",\"HappyHour\":\"False\",\"HasTV\":\"False\",\"NoiseLevel\":\"u'average'\",\"OutdoorSeating\":\"False\",\"RestaurantsAttire\":\"'casual'\",\"RestaurantsDelivery\":\"False\",\"RestaurantsGoodForGroups\":\"True\",\"RestaurantsPriceRange2\":\"1\",\"RestaurantsReservations\":\"False\",\"RestaurantsTakeOut\":\"True\",\"WiFi\":\"u'no'\"}                                                                                                                                                                                                                                                                                                                                                                                                                                                                                               |\n",
      "|{\"Ambience\":\"{'touristy': False, 'hipster': False, 'romantic': False, 'divey': False, 'intimate': False, 'trendy': False, 'upscale': False, 'classy': False, 'casual': False}\",\"BusinessAcceptsBitcoin\":\"False\",\"BusinessAcceptsCreditCards\":\"True\",\"BusinessParking\":\"{u'valet': False, u'garage': None, u'street': None, u'lot': False, u'validated': None}\",\"Caters\":\"True\",\"GoodForMeal\":\"{'dessert': False, 'latenight': False, 'lunch': False, 'dinner': False, 'brunch': False, 'breakfast': False}\",\"HasTV\":\"False\",\"OutdoorSeating\":\"False\",\"RestaurantsDelivery\":\"True\",\"RestaurantsReservations\":\"False\",\"RestaurantsTableService\":\"False\",\"RestaurantsTakeOut\":\"True\",\"WheelchairAccessible\":\"True\",\"WiFi\":\"u'free'\"}                                                                                                                                                                                                                                                                                                                                                                                                                                                                                                                                                                                                   |\n",
      "|{\"Alcohol\":\"u'none'\",\"Ambience\":\"{'touristy': False, 'hipster': False, 'romantic': False, 'divey': False, 'intimate': False, 'trendy': False, 'upscale': False, 'classy': True, 'casual': True}\",\"BYOB\":\"True\",\"BikeParking\":\"True\",\"BusinessAcceptsBitcoin\":\"True\",\"BusinessAcceptsCreditCards\":\"True\",\"BusinessParking\":\"{'garage': True, 'street': True, 'validated': False, 'lot': False, 'valet': False}\",\"Caters\":\"True\",\"Corkage\":\"False\",\"DogsAllowed\":\"True\",\"GoodForKids\":\"True\",\"GoodForMeal\":\"{'dessert': None, 'latenight': False, 'lunch': True, 'dinner': True, 'brunch': False, 'breakfast': False}\",\"HappyHour\":\"False\",\"HasTV\":\"False\",\"NoiseLevel\":\"u'quiet'\",\"OutdoorSeating\":\"True\",\"RestaurantsAttire\":\"'casual'\",\"RestaurantsDelivery\":\"True\",\"RestaurantsGoodForGroups\":\"True\",\"RestaurantsPriceRange2\":\"2\",\"RestaurantsReservations\":\"True\",\"RestaurantsTableService\":\"True\",\"RestaurantsTakeOut\":\"True\",\"WheelchairAccessible\":\"True\",\"WiFi\":\"u'free'\"}                                                                                                                                                                                                                                                                                                                                                   |\n",
      "|{\"Alcohol\":\"u'full_bar'\",\"Ambience\":\"{'touristy': False, 'hipster': False, 'romantic': False, 'divey': False, 'intimate': False, 'trendy': True, 'upscale': False, 'classy': True, 'casual': False}\",\"BikeParking\":\"True\",\"BusinessAcceptsCreditCards\":\"True\",\"BusinessParking\":\"{'garage': False, 'street': False, 'validated': False, 'lot': True, 'valet': False}\",\"Caters\":\"True\",\"GoodForKids\":\"False\",\"GoodForMeal\":\"{u'breakfast': False, u'brunch': False, u'lunch': None, u'dinner': True, u'latenight': False, u'dessert': None}\",\"HappyHour\":\"True\",\"HasTV\":\"True\",\"NoiseLevel\":\"u'average'\",\"OutdoorSeating\":\"True\",\"RestaurantsAttire\":\"u'casual'\",\"RestaurantsDelivery\":\"False\",\"RestaurantsGoodForGroups\":\"True\",\"RestaurantsPriceRange2\":\"3\",\"RestaurantsReservations\":\"True\",\"RestaurantsTableService\":\"True\",\"RestaurantsTakeOut\":\"True\",\"WheelchairAccessible\":\"True\",\"WiFi\":\"u'free'\"}                                                                                                                                                                                                                                                                                                                                                                                                                          |\n",
      "|{\"Alcohol\":\"u'none'\",\"Ambience\":\"{'romantic': False, 'intimate': False, 'classy': False, 'hipster': False, 'divey': False, 'touristy': False, 'trendy': False, 'upscale': False, 'casual': True}\",\"BikeParking\":\"True\",\"BusinessAcceptsCreditCards\":\"True\",\"BusinessParking\":\"{u'valet': False, u'garage': None, u'street': True, u'lot': False, u'validated': False}\",\"Caters\":\"False\",\"DogsAllowed\":\"False\",\"GoodForKids\":\"True\",\"HasTV\":\"False\",\"NoiseLevel\":\"u'loud'\",\"OutdoorSeating\":\"None\",\"RestaurantsAttire\":\"u'casual'\",\"RestaurantsDelivery\":\"True\",\"RestaurantsGoodForGroups\":\"True\",\"RestaurantsPriceRange2\":\"1\",\"RestaurantsReservations\":\"False\",\"RestaurantsTakeOut\":\"True\",\"WiFi\":\"u'no'\"}                                                                                                                                                                                                                                                                                                                                                                                                                                                                                                                                                                                                                         |\n",
      "|{\"Alcohol\":\"u'full_bar'\",\"Ambience\":\"{u'divey': False, u'hipster': True, u'casual': None, u'touristy': False, u'trendy': True, u'intimate': False, u'romantic': False, u'classy': False, u'upscale': False}\",\"BikeParking\":\"True\",\"BusinessAcceptsCreditCards\":\"True\",\"BusinessParking\":\"{'garage': False, 'street': True, 'validated': False, 'lot': False, 'valet': False}\",\"Caters\":\"False\",\"DogsAllowed\":\"False\",\"DriveThru\":\"None\",\"GoodForKids\":\"True\",\"GoodForMeal\":\"{'dessert': None, 'latenight': False, 'lunch': True, 'dinner': True, 'brunch': None, 'breakfast': False}\",\"HappyHour\":\"True\",\"HasTV\":\"True\",\"NoiseLevel\":\"u'loud'\",\"OutdoorSeating\":\"True\",\"RestaurantsAttire\":\"u'casual'\",\"RestaurantsDelivery\":\"True\",\"RestaurantsGoodForGroups\":\"True\",\"RestaurantsPriceRange2\":\"2\",\"RestaurantsReservations\":\"False\",\"RestaurantsTableService\":\"True\",\"RestaurantsTakeOut\":\"True\",\"WheelchairAccessible\":\"False\",\"WiFi\":\"u'free'\"}                                                                                                                                                                                                                                                                                                                                                                                  |\n",
      "|{\"Alcohol\":\"'full_bar'\",\"Ambience\":\"{'touristy': False, 'hipster': False, 'romantic': False, 'divey': False, 'intimate': False, 'trendy': True, 'upscale': False, 'classy': True, 'casual': False}\",\"BYOBCorkage\":\"'no'\",\"BikeParking\":\"True\",\"BusinessAcceptsCreditCards\":\"True\",\"BusinessParking\":\"{'garage': False, 'street': True, 'validated': False, 'lot': False, 'valet': False}\",\"Caters\":\"False\",\"CoatCheck\":\"True\",\"Corkage\":\"False\",\"DogsAllowed\":\"False\",\"DriveThru\":\"None\",\"GoodForKids\":\"True\",\"GoodForMeal\":\"{'dessert': False, 'latenight': None, 'lunch': None, 'dinner': True, 'brunch': None, 'breakfast': False}\",\"HappyHour\":\"True\",\"HasTV\":\"False\",\"NoiseLevel\":\"u'loud'\",\"OutdoorSeating\":\"True\",\"RestaurantsAttire\":\"'casual'\",\"RestaurantsDelivery\":\"True\",\"RestaurantsGoodForGroups\":\"True\",\"RestaurantsPriceRange2\":\"2\",\"RestaurantsReservations\":\"True\",\"RestaurantsTableService\":\"True\",\"RestaurantsTakeOut\":\"True\",\"WiFi\":\"u'no'\"}                                                                                                                                                                                                                                                                                                                                                                   |\n",
      "|{\"Alcohol\":\"u'none'\",\"Ambience\":\"{u'divey': None, u'hipster': True, u'casual': True, u'touristy': False, u'trendy': None, u'intimate': False, u'romantic': False, u'classy': False, u'upscale': False}\",\"BikeParking\":\"True\",\"BusinessAcceptsCreditCards\":\"False\",\"BusinessParking\":\"{'garage': False, 'street': True, 'validated': False, 'lot': False, 'valet': False}\",\"Caters\":\"False\",\"GoodForKids\":\"True\",\"GoodForMeal\":\"{'dessert': False, 'latenight': True, 'lunch': True, 'dinner': True, 'brunch': False, 'breakfast': False}\",\"HasTV\":\"True\",\"NoiseLevel\":\"u'average'\",\"OutdoorSeating\":\"True\",\"RestaurantsAttire\":\"u'casual'\",\"RestaurantsDelivery\":\"True\",\"RestaurantsGoodForGroups\":\"True\",\"RestaurantsPriceRange2\":\"1\",\"RestaurantsReservations\":\"False\",\"RestaurantsTableService\":\"False\",\"RestaurantsTakeOut\":\"True\",\"WiFi\":\"u'no'\"}                                                                                                                                                                                                                                                                                                                                                                                                                                                                              |\n",
      "|{\"Ambience\":\"{'touristy': False, 'hipster': False, 'romantic': False, 'divey': False, 'intimate': False, 'trendy': False, 'upscale': False, 'classy': False, 'casual': False}\",\"BikeParking\":\"True\",\"BusinessAcceptsCreditCards\":\"True\",\"BusinessParking\":\"{'garage': False, 'street': True, 'validated': False, 'lot': False, 'valet': False}\",\"GoodForKids\":\"True\",\"GoodForMeal\":\"{'dessert': False, 'latenight': False, 'lunch': False, 'dinner': False, 'brunch': False, 'breakfast': False}\",\"HasTV\":\"False\",\"OutdoorSeating\":\"None\",\"RestaurantsAttire\":\"'casual'\",\"RestaurantsDelivery\":\"True\",\"RestaurantsGoodForGroups\":\"False\",\"RestaurantsPriceRange2\":\"1\",\"RestaurantsReservations\":\"False\",\"RestaurantsTakeOut\":\"True\"}                                                                                                                                                                                                                                                                                                                                                                                                                                                                                                                                                                                                |\n",
      "|{\"Alcohol\":\"u'beer_and_wine'\",\"Ambience\":\"{'touristy': False, 'hipster': False, 'romantic': False, 'divey': False, 'intimate': True, 'trendy': False, 'upscale': False, 'classy': True, 'casual': False}\",\"BikeParking\":\"True\",\"BusinessAcceptsBitcoin\":\"False\",\"BusinessAcceptsCreditCards\":\"True\",\"BusinessParking\":\"{'garage': False, 'street': False, 'validated': False, 'lot': True, 'valet': False}\",\"Caters\":\"True\",\"DogsAllowed\":\"True\",\"GoodForKids\":\"False\",\"GoodForMeal\":\"{'dessert': False, 'latenight': False, 'lunch': None, 'dinner': True, 'brunch': False, 'breakfast': False}\",\"HappyHour\":\"True\",\"HasTV\":\"False\",\"NoiseLevel\":\"u'average'\",\"OutdoorSeating\":\"True\",\"RestaurantsAttire\":\"u'casual'\",\"RestaurantsDelivery\":\"True\",\"RestaurantsGoodForGroups\":\"True\",\"RestaurantsPriceRange2\":\"3\",\"RestaurantsReservations\":\"True\",\"RestaurantsTableService\":\"True\",\"RestaurantsTakeOut\":\"True\",\"WiFi\":\"u'free'\"}                                                                                                                                                                                                                                                                                                                                                                                                  |\n",
      "|{\"BusinessAcceptsCreditCards\":\"True\",\"BusinessParking\":\"{'garage': False, 'street': False, 'validated': False, 'lot': False, 'valet': False}\",\"Caters\":\"True\",\"RestaurantsDelivery\":\"True\",\"RestaurantsGoodForGroups\":\"True\",\"RestaurantsTakeOut\":\"True\"}                                                                                                                                                                                                                                                                                                                                                                                                                                                                                                                                                                                                                                                                                                                                                                                                                                                                                                                                                                                                                                                                           |\n",
      "+------------------------------------------------------------------------------------------------------------------------------------------------------------------------------------------------------------------------------------------------------------------------------------------------------------------------------------------------------------------------------------------------------------------------------------------------------------------------------------------------------------------------------------------------------------------------------------------------------------------------------------------------------------------------------------------------------------------------------------------------------------------------------------------------------------------------------------------------------------------------------------------------------------------------------------------------------------------------------------------------------------------------------------------------------------------------------------------------------------------------------------------------------------------------------------------------------------------------------------------------------------------------------------------------------------------------------------+\n",
      "only showing top 20 rows\n",
      "\n"
     ]
    }
   ],
   "source": [
    "final_reviews.select(func.to_json(func.col('attributes'))).show(truncate=False)"
   ]
  },
  {
   "cell_type": "code",
   "execution_count": 13,
   "id": "38703a83",
   "metadata": {},
   "outputs": [],
   "source": [
    "#For each user, pull 70% for training and 30% for testing - do on user basis, so we can test user's recommendations\n",
    "# Define the percentage for training and testing data\n",
    "train_percentage = 0.7\n",
    "test_percentage = 1 - train_percentage\n",
    "seed = 42\n",
    "\n",
    "#Random shuffle\n",
    "shuffled_final = final_reviews.orderBy(func.rand(42))\n",
    "\n",
    "# Define window specification partitioned by the user_id column and corresponding row number\n",
    "window_spec = Window.partitionBy(\"user_id\").orderBy(\"user_id\")\n",
    "final_reviews_with_row_number = shuffled_final.withColumn(\"row_number\", func.row_number().over(window_spec))\n",
    "\n",
    "# Calculate the total number of rows for each user\n",
    "user_counts = final_reviews_with_row_number.groupBy(\"user_id\").count()\n",
    "\n",
    "# Calculate the number of rows to include in the training set for each user\n",
    "user_test_counts = user_counts.withColumn(\"test_count\", (func.col(\"count\") * test_percentage).cast(\"int\"))\n",
    "\n",
    "#Join row number data with test count\n",
    "final_with_test_counts = final_reviews_with_row_number.join(user_test_counts, \"user_id\", \"inner\")\n",
    "\n",
    "# Create training and testing DataFrames for each user\n",
    "train_data = final_with_test_counts.filter(func.col(\"row_number\") <= (func.col(\"count\") - func.col(\"test_count\")))\n",
    "test_data = final_with_test_counts.filter(func.col(\"row_number\") > (func.col(\"count\") - func.col(\"test_count\")))\n",
    "\n",
    "# Drop the intermediate columns\n",
    "train_data = train_data.drop(\"row_number\", \"count\", \"test_count\")\n",
    "test_data = test_data.drop(\"row_number\", \"count\", \"test_count\")"
   ]
  },
  {
   "cell_type": "code",
   "execution_count": null,
   "id": "cdbb38d2",
   "metadata": {},
   "outputs": [],
   "source": [
    "test_data.count()"
   ]
  },
  {
   "cell_type": "code",
   "execution_count": null,
   "id": "d1e40759",
   "metadata": {},
   "outputs": [],
   "source": [
    "train_data.count()"
   ]
  },
  {
   "cell_type": "code",
   "execution_count": null,
   "id": "014a2727",
   "metadata": {},
   "outputs": [],
   "source": [
    "#Collaborative Filtering\n",
    "\n",
    "#Build model\n",
    "#Tune maxIter, regParam, and rank\n",
    "als = ALS(maxIter=5, regParam=0.01, userCol=\"user_number\", itemCol=\"business_number\", ratingCol=\"review_stars\",\n",
    "          coldStartStrategy=\"drop\") \n",
    "model = als.fit(train_data)"
   ]
  },
  {
   "cell_type": "code",
   "execution_count": null,
   "id": "0900d360",
   "metadata": {},
   "outputs": [],
   "source": [
    "#Evaluate the model\n",
    "evaluator = RegressionEvaluator(metricName=\"rmse\", labelCol=\"review_stars\", predictionCol=\"prediction\")\n",
    "predictions = model.transform(test_data)"
   ]
  },
  {
   "cell_type": "code",
   "execution_count": null,
   "id": "236141b5",
   "metadata": {},
   "outputs": [],
   "source": [
    "rmse = evaluator.evaluate(predictions)\n",
    "print(\"Root Mean Squared Error (RMSE) =\", rmse)"
   ]
  },
  {
   "cell_type": "markdown",
   "id": "5d163a15",
   "metadata": {},
   "source": [
    "#Do we want to do the content-based? If we're able to process review text, could maybe do key word trends / sentiment analysis as part of it\n",
    "\n",
    "Not sure if we have enough information on the business to make informed decision - need to unnest some of the data because all my fields are captured under attributes. If we have enough attributes, can do content-based and knn to find \"similar\" restaurants\n",
    "\n",
    "Have issues with memory on my computer for the model fitting... Didn't try to do CV because it's already struggling\n",
    "\n",
    "If we use attributes, use PCA to cut down dimensions"
   ]
  },
  {
   "cell_type": "markdown",
   "id": "72b7e044",
   "metadata": {},
   "source": [
    "Try to run in Google Colab\n",
    "\n",
    "Content-based with text analysis of reviews (TFIDF)\n",
    "\n",
    "Content-based with attributes unnested\n",
    "\n",
    "Schedule\n",
    "\n",
    "Step 1: Dataset Overview\n",
    "The Yelp dataset includes several types of information, but for our content-based system, we'll focus on:\n",
    "Businesses: Information about individual businesses, including their categories (e.g., restaurants, bars).\n",
    "Reviews: Textual reviews written by users for businesses.\n",
    "Step 2: Data Preprocessing\n",
    "Filter Restaurants: From the businesses data, filter out to keep only those in the 'Restaurants' category.\n",
    "Aggregate Reviews: For each restaurant, aggregate all its reviews into a single text document. This creates a comprehensive text representation of each restaurant's reviews.\n",
    "Text Preprocessing: Clean and preprocess the aggregated review texts for each restaurant. This involves steps like converting to lowercase, removing punctuation and stop words, and possibly stemming or lemmatization.\n",
    "Step 3: Feature Extraction\n",
    "TF-IDF: Apply Term Frequency-Inverse Document Frequency (TF-IDF) vectorization to the preprocessed review texts. This converts the textual data into a numerical format that captures the importance of words in relation to the document they appear in and the entire corpus of review texts. The result is a sparse matrix where each row represents a restaurant and each column represents a term's TF-IDF score.\n",
    "Step 4: User Profile Creation\n",
    "Identify User Preferences: For the target user, identify a set of restaurants they have rated highly or reviewed positively.\n",
    "Aggregate Preferred Reviews: Aggregate the review texts of these preferred restaurants to create a \"preference profile\" for the user. This text represents the kind of language and themes the user appears to favor in their preferred dining experiences.\n",
    "Vectorize User Profile: Apply the same TF-IDF vectorization used on the restaurant reviews to this aggregated preference profile text. This results in a TF-IDF vector representing the user's preferences.\n",
    "Step 5: Recommendation Generation\n",
    "Calculate Similarity: Compute the similarity between the user's preference vector and each restaurant's TF-IDF vector. This can be done using cosine similarity, which measures the cosine of the angle between two vectors, providing a similarity score between 0 and 1.\n",
    "Rank Restaurants: Rank the restaurants based on their similarity scores relative to the user's preference vector. Higher scores indicate a closer match to the user's preferences as inferred from their favored reviews.\n",
    "Step 6: Provide Recommendations\n",
    "Select Top-N: Select the top N restaurants with the highest similarity scores. These are the system's recommendations to the user, as they are the most similar to the user's expressed preferences based on past reviews.\n",
    "Example Output\n",
    "Assume our target user has shown a preference for restaurants with words like \"cozy\", \"artisanal coffee\", and \"homemade pastries\" frequently appearing in their positive reviews. The system might recommend restaurants whose aggregated reviews also frequently mention these terms, indicating a potential match in ambiance and offerings.\n",
    "Considerations\n",
    "Performance: Depending on the size of the dataset, steps like TF-IDF vectorization and similarity calculation can be computationally expensive. Techniques like dimensionality reduction or efficient similarity search algorithms can help mitigate this.\n",
    "Cold Start Problem: New users or restaurants without sufficient reviews pose a challenge, as there's little data to base recommendations on. Hybrid approaches or content-based features not reliant on user interaction can help address this.\n",
    "Diversity and Serendipity: Pure content-based systems might over-specialize in recommending items too similar to what the user has already experienced. Incorporating elements to introduce diversity and serendipity can enhance user satisfaction."
   ]
  },
  {
   "cell_type": "markdown",
   "id": "689fa0d9",
   "metadata": {},
   "source": [
    "Performance - Use recall for content-based AND collaborative filtering; we also have RMSE\n",
    "\n",
    "\n",
    "Content-based filtering is a recommendation technique that utilizes information about the items themselves to make recommendations. When evaluating the performance of a content-based filtering system, you can use various metrics to assess its effectiveness. Here are some common performance metrics for content-based filtering:\n",
    "\n",
    "Precision and Recall: Precision measures the proportion of recommended items that are relevant to the user, while recall measures the proportion of relevant items that are recommended to the user. These metrics are typically calculated at different levels, such as precision@k and recall@k, where k is the number of recommended items.\n",
    "\n",
    "F1 Score: The F1 score is the harmonic mean of precision and recall and provides a single metric that balances both precision and recall. It's calculated as \n",
    "2\n",
    "×\n",
    "Precision\n",
    "×\n",
    "Recall\n",
    "Precision\n",
    "+\n",
    "Recall\n",
    "2× \n",
    "Precision+Recall\n",
    "Precision×Recall\n",
    "​\n",
    " .\n",
    "\n",
    "Mean Average Precision (MAP): MAP measures the average precision across all users. It considers both the relevance of recommended items and their rank in the list of recommendations.\n",
    "\n",
    "Normalized Discounted Cumulative Gain (NDCG): NDCG evaluates the ranking quality of recommended items by considering both relevance and rank. It penalizes items that are ranked lower in the list of recommendations.\n",
    "\n",
    "Mean Reciprocal Rank (MRR): MRR measures the average rank of the first relevant item in the list of recommendations. It provides an indication of how quickly relevant items are found.\n",
    "\n",
    "Coverage: Coverage measures the proportion of items in the catalog that are recommended to at least one user. It provides insights into the diversity of recommendations.\n",
    "\n",
    "Novelty: Novelty measures the degree to which recommended items are different from those that the user has interacted with before. It helps ensure that recommendations introduce users to new and interesting items.\n",
    "\n",
    "User Satisfaction: User satisfaction can be assessed through user feedback, surveys, or other qualitative measures. It provides insights into whether users find the recommendations useful and relevant.\n",
    "\n",
    "When evaluating a content-based filtering system, it's essential to consider a combination of these metrics to gain a comprehensive understanding of its performance. Additionally, the choice of metrics may depend on the specific goals and characteristics of the recommendation system and the domain in which it operates."
   ]
  },
  {
   "cell_type": "markdown",
   "id": "c838d8f9",
   "metadata": {},
   "source": [
    "Schedule\n",
    "Haley to commit data to GitHub for Daemon\n",
    "\n",
    "Due: Apr 27\n",
    "\n",
    "Try converting to parquet file first, but it might impact nested json\n",
    "\n",
    "Tues @ 9 PM EST - sync; have models ready with recall calculation for each model\n",
    "\n",
    "Paper (can start Wed and finish initial draft by Fri and final edits to submit Sat); do we want to meet Fri or Sat before submitting to review or just review / comment async?\n",
    "- Preprocessing\n",
    "  - Text analysis\n",
    "  - Train / test split\n",
    "- Analyze / compare results - does one model do better at recall for certain types of restaurants than the other; what about general performance (recall)\n"
   ]
  },
  {
   "cell_type": "code",
   "execution_count": null,
   "id": "c29c82f3",
   "metadata": {},
   "outputs": [],
   "source": []
  }
 ],
 "metadata": {
  "kernelspec": {
   "display_name": "Python 3 (ipykernel)",
   "language": "python",
   "name": "python3"
  },
  "language_info": {
   "codemirror_mode": {
    "name": "ipython",
    "version": 3
   },
   "file_extension": ".py",
   "mimetype": "text/x-python",
   "name": "python",
   "nbconvert_exporter": "python",
   "pygments_lexer": "ipython3",
   "version": "3.7.15"
  }
 },
 "nbformat": 4,
 "nbformat_minor": 5
}
