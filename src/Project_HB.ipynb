{
  "cells": [
    {
      "cell_type": "code",
      "source": [
        "pip install pyspark"
      ],
      "metadata": {
        "colab": {
          "base_uri": "https://localhost:8080/"
        },
        "id": "eRjV_Bdai1s4",
        "outputId": "8484b6d7-9b7d-4493-e07b-0703588c3792"
      },
      "id": "eRjV_Bdai1s4",
      "execution_count": 2,
      "outputs": [
        {
          "output_type": "stream",
          "name": "stdout",
          "text": [
            "Collecting pyspark\n",
            "  Downloading pyspark-3.5.1.tar.gz (317.0 MB)\n",
            "\u001b[2K     \u001b[90m━━━━━━━━━━━━━━━━━━━━━━━━━━━━━━━━━━━━━━━━\u001b[0m \u001b[32m317.0/317.0 MB\u001b[0m \u001b[31m3.2 MB/s\u001b[0m eta \u001b[36m0:00:00\u001b[0m\n",
            "\u001b[?25h  Preparing metadata (setup.py) ... \u001b[?25l\u001b[?25hdone\n",
            "Requirement already satisfied: py4j==0.10.9.7 in /usr/local/lib/python3.10/dist-packages (from pyspark) (0.10.9.7)\n",
            "Building wheels for collected packages: pyspark\n",
            "  Building wheel for pyspark (setup.py) ... \u001b[?25l\u001b[?25hdone\n",
            "  Created wheel for pyspark: filename=pyspark-3.5.1-py2.py3-none-any.whl size=317488491 sha256=1bba9d158e4c60adcffe03b1108b06e0ab2ce3760e104d8ba67914159a19827d\n",
            "  Stored in directory: /root/.cache/pip/wheels/80/1d/60/2c256ed38dddce2fdd93be545214a63e02fbd8d74fb0b7f3a6\n",
            "Successfully built pyspark\n",
            "Installing collected packages: pyspark\n",
            "Successfully installed pyspark-3.5.1\n"
          ]
        }
      ]
    },
    {
      "cell_type": "code",
      "execution_count": 3,
      "id": "15302750",
      "metadata": {
        "id": "15302750"
      },
      "outputs": [],
      "source": [
        "import pyspark.sql.functions as func\n",
        "from pyspark.sql import Window\n",
        "from pyspark.sql.types import IntegerType\n",
        "from pyspark.sql.types import StructType, StructField, IntegerType, StringType, TimestampType, BooleanType, MapType, FloatType, ArrayType, DoubleType\n",
        "from pyspark.sql import SparkSession\n",
        "import os\n",
        "from pyspark.sql.functions import rand\n",
        "from pyspark.ml.recommendation import ALS\n",
        "from pyspark.ml.evaluation import RegressionEvaluator\n",
        "from pyspark.ml.tuning import CrossValidator, ParamGridBuilder\n",
        "from google.colab import files\n",
        "from google.colab import drive"
      ]
    },
    {
      "cell_type": "code",
      "execution_count": 4,
      "id": "e45ff709",
      "metadata": {
        "id": "e45ff709"
      },
      "outputs": [],
      "source": [
        "spark = SparkSession.builder \\\n",
        "    .appName(\"Restaurant Recommendation\") \\\n",
        "    .getOrCreate()\n",
        "\n",
        "spark.conf.set(\"spark.sql.legacy.style\", \"false\")"
      ]
    },
    {
      "cell_type": "code",
      "source": [
        "drive.mount('/content/drive')"
      ],
      "metadata": {
        "colab": {
          "base_uri": "https://localhost:8080/"
        },
        "id": "jrf2WeWKjU7U",
        "outputId": "b2a35aca-752b-4a36-ff49-dde9be16c90d"
      },
      "id": "jrf2WeWKjU7U",
      "execution_count": 5,
      "outputs": [
        {
          "output_type": "stream",
          "name": "stdout",
          "text": [
            "Mounted at /content/drive\n"
          ]
        }
      ]
    },
    {
      "cell_type": "code",
      "source": [
        "schema = StructType([\n",
        "    StructField(\"business_id\", StringType()),\n",
        "    StructField(\"name\", StringType()),\n",
        "    StructField(\"address\", StringType()),\n",
        "    StructField(\"city\", StringType()),\n",
        "    StructField(\"state\", StringType()),\n",
        "    StructField(\"postal_code\", StringType()),\n",
        "    StructField(\"latitude\", FloatType()),\n",
        "    StructField(\"longitude\", FloatType()),\n",
        "    StructField(\"stars\", FloatType()),\n",
        "    StructField(\"review_count\", IntegerType()),\n",
        "    StructField(\"is_open\", IntegerType()),\n",
        "    StructField(\"attributes\", MapType(StringType(), StringType())),\n",
        "    StructField(\"categories\", StringType()),\n",
        "    StructField(\"hours\", MapType(StringType(), StringType()))\n",
        "])"
      ],
      "metadata": {
        "id": "BCVxrS1pt5gr"
      },
      "id": "BCVxrS1pt5gr",
      "execution_count": 6,
      "outputs": []
    },
    {
      "cell_type": "code",
      "execution_count": 7,
      "id": "04fe399b",
      "metadata": {
        "id": "04fe399b"
      },
      "outputs": [],
      "source": [
        "business_df = spark.read.schema(schema).json('/content/drive/My Drive/ISyE 6740 - Computational Analytics/Project/yelp_academic_dataset_business.json')"
      ]
    },
    {
      "cell_type": "code",
      "source": [
        "reviews_df = spark.read.json('/content/drive/My Drive/ISyE 6740 - Computational Analytics/Project/yelp_academic_dataset_review.json')"
      ],
      "metadata": {
        "id": "PEX39tczzbMC"
      },
      "id": "PEX39tczzbMC",
      "execution_count": 8,
      "outputs": []
    },
    {
      "cell_type": "code",
      "source": [
        "users_df = spark.read.json('/content/drive/My Drive/ISyE 6740 - Computational Analytics/Project/yelp_academic_dataset_user.json')"
      ],
      "metadata": {
        "id": "dAWiAAX1z5ne"
      },
      "id": "dAWiAAX1z5ne",
      "execution_count": 9,
      "outputs": []
    },
    {
      "cell_type": "code",
      "source": [
        "#Split out attributes into own fields\n",
        "all_keys = business_df.selectExpr(\"explode(map_keys(attributes)) as keys\").select(\"keys\").distinct().collect()\n",
        "select_expr = [\"attributes.\" + key[\"keys\"] + \" as \" + key[\"keys\"] for key in all_keys]\n",
        "business_df = business_df.selectExpr(\"*\", *select_expr)\n",
        "business_df = business_df.drop(\"attributes\")"
      ],
      "metadata": {
        "id": "450PGOmoy6dD"
      },
      "id": "450PGOmoy6dD",
      "execution_count": 10,
      "outputs": []
    },
    {
      "cell_type": "code",
      "source": [
        "business_df.show()"
      ],
      "metadata": {
        "colab": {
          "base_uri": "https://localhost:8080/"
        },
        "id": "LVOsodrapG1n",
        "outputId": "34c2f7bc-47da-4034-d2cb-1366a3c1124f"
      },
      "id": "LVOsodrapG1n",
      "execution_count": 11,
      "outputs": [
        {
          "output_type": "stream",
          "name": "stdout",
          "text": [
            "+--------------------+--------------------+--------------------+--------------+-----+-----------+---------+-----------+-----+------------+-------+--------------------+--------------------+----+-------+----------------+--------------------+-------------------+--------------+-------+-----------------------+----------------------+-----------------+-----------------+--------------+-----------------+-------------------------+-----+------------------+-----------+--------------------------+-----------+----------+---------+----------------------+---------+---------+-----+--------------------+-------+------+-----------+-----------+--------------------+----------+------------------------+-----------------------+-----------+-------------------+--------------------+-----------+-----------+\n",
            "|         business_id|                name|             address|          city|state|postal_code| latitude|  longitude|stars|review_count|is_open|          categories|               hours|BYOB|   WiFi|AcceptsInsurance|         GoodForMeal|DietaryRestrictions|GoodForDancing|Smoking|RestaurantsReservations|RestaurantsPriceRange2|HairSpecializesIn|ByAppointmentOnly|OutdoorSeating|RestaurantsAttire|RestaurantsCounterService|HasTV|RestaurantsTakeOut|BYOBCorkage|BusinessAcceptsCreditCards|Open24Hours|BestNights|CoatCheck|BusinessAcceptsBitcoin|HappyHour|DriveThru|Music|WheelchairAccessible|Corkage|Caters|    Alcohol|DogsAllowed|     BusinessParking|NoiseLevel|RestaurantsGoodForGroups|RestaurantsTableService|BikeParking|RestaurantsDelivery|            Ambience|GoodForKids|AgesAllowed|\n",
            "+--------------------+--------------------+--------------------+--------------+-----+-----------+---------+-----------+-----+------------+-------+--------------------+--------------------+----+-------+----------------+--------------------+-------------------+--------------+-------+-----------------------+----------------------+-----------------+-----------------+--------------+-----------------+-------------------------+-----+------------------+-----------+--------------------------+-----------+----------+---------+----------------------+---------+---------+-----+--------------------+-------+------+-----------+-----------+--------------------+----------+------------------------+-----------------------+-----------+-------------------+--------------------+-----------+-----------+\n",
            "|Pns2l4eNsfO8kk83d...|Abby Rappoport, L...|1616 Chapala St, ...| Santa Barbara|   CA|      93101|34.426678|  -119.7112|  5.0|           7|      0|Doctors, Traditio...|                NULL|NULL|   NULL|            NULL|                NULL|               NULL|          NULL|   NULL|                   NULL|                  NULL|             NULL|             True|          NULL|             NULL|                     NULL| NULL|              NULL|       NULL|                      NULL|       NULL|      NULL|     NULL|                  NULL|     NULL|     NULL| NULL|                NULL|   NULL|  NULL|       NULL|       NULL|                NULL|      NULL|                    NULL|                   NULL|       NULL|               NULL|                NULL|       NULL|       NULL|\n",
            "|mpf3x-BjTdTEA3yCZ...|       The UPS Store|87 Grasso Plaza S...|        Affton|   MO|      63123|38.551125|  -90.33569|  3.0|          15|      1|Shipping Centers,...|{Monday -> 0:0-0:...|NULL|   NULL|            NULL|                NULL|               NULL|          NULL|   NULL|                   NULL|                  NULL|             NULL|             NULL|          NULL|             NULL|                     NULL| NULL|              NULL|       NULL|                      True|       NULL|      NULL|     NULL|                  NULL|     NULL|     NULL| NULL|                NULL|   NULL|  NULL|       NULL|       NULL|                NULL|      NULL|                    NULL|                   NULL|       NULL|               NULL|                NULL|       NULL|       NULL|\n",
            "|tUFrWirKiKi_TAnsV...|              Target|5255 E Broadway Blvd|        Tucson|   AZ|      85711|32.223236|-110.880455|  3.5|          22|      0|Department Stores...|{Monday -> 8:0-22...|NULL|  u'no'|            NULL|                NULL|               NULL|          NULL|   NULL|                  False|                     2|             NULL|            False|         False|             NULL|                     NULL|False|             False|       NULL|                      True|       NULL|      NULL|    False|                  NULL|    False|     NULL| NULL|                True|   NULL| False|       NULL|      False|{'garage': False,...|      NULL|                    NULL|                   NULL|       True|              False|                NULL|       NULL|       NULL|\n",
            "|MTSW4McQd7CbVtyjq...|  St Honore Pastries|         935 Race St|  Philadelphia|   PA|      19107|39.955505|  -75.15556|  4.0|          80|      1|Restaurants, Food...|{Monday -> 7:0-20...|NULL|u'free'|            NULL|                NULL|               NULL|          NULL|   NULL|                   NULL|                     1|             NULL|            False|         False|             NULL|                     NULL| NULL|              True|       NULL|                     False|       NULL|      NULL|     NULL|                  NULL|     NULL|     NULL| NULL|                NULL|   NULL|  True|    u'none'|       NULL|{'garage': False,...|      NULL|                    NULL|                   NULL|       True|              False|                NULL|       NULL|       NULL|\n",
            "|mWMc6_wTdE0EUBKIG...|Perkiomen Valley ...|       101 Walnut St|    Green Lane|   PA|      18054|40.338184|  -75.47166|  4.5|          13|      1|Brewpubs, Breweri...|{Wednesday -> 14:...|NULL|   NULL|            NULL|                NULL|               NULL|          NULL|   NULL|                   NULL|                  NULL|             NULL|             NULL|          NULL|             NULL|                     NULL| NULL|              True|       NULL|                      True|       NULL|      NULL|     NULL|                  NULL|     NULL|     NULL| NULL|                True|   NULL| False|       NULL|       NULL|{'garage': None, ...|      NULL|                    NULL|                   NULL|       True|               NULL|                NULL|       True|       NULL|\n",
            "|CF33F8-E6oudUQ46H...|      Sonic Drive-In|       615 S Main St|  Ashland City|   TN|      37015|36.269592| -87.058945|  2.0|           6|      1|Burgers, Fast Foo...|{Monday -> 0:0-0:...|NULL|  u'no'|            NULL|                NULL|               NULL|          NULL|   NULL|                  False|                     1|             NULL|            False|          True|        u'casual'|                     NULL| True|              True|       NULL|                      True|       NULL|      NULL|    False|                  NULL|    False|     True| NULL|                True|   NULL| False|    u'none'|      False|                None|      NULL|                    True|                  False|      False|               True|                None|       True|       NULL|\n",
            "|n_0UpQx1hsNbnPUSl...|     Famous Footwear|8522 Eager Road, ...|     Brentwood|   MO|      63144|38.627693|  -90.34046|  2.5|          13|      1|Sporting Goods, F...|{Monday -> 0:0-0:...|NULL|   NULL|            NULL|                NULL|               NULL|          NULL|   NULL|                   NULL|                     2|             NULL|             NULL|          NULL|             NULL|                     NULL| NULL|              NULL|       NULL|                      True|       NULL|      NULL|     NULL|                  NULL|     NULL|     NULL| NULL|                NULL|   NULL|  NULL|       NULL|       NULL|{'garage': False,...|      NULL|                    NULL|                   NULL|       True|               NULL|                NULL|       NULL|       NULL|\n",
            "|qkRM_2X51Yqxk3btl...|      Temple Beth-El|  400 Pasadena Ave S|St. Petersburg|   FL|      33707| 27.76659|  -82.73299|  3.5|           5|      1|Synagogues, Relig...|{Monday -> 9:0-17...|NULL|   NULL|            NULL|                NULL|               NULL|          NULL|   NULL|                   NULL|                  NULL|             NULL|             NULL|          NULL|             NULL|                     NULL| NULL|              NULL|       NULL|                      NULL|       NULL|      NULL|     NULL|                  NULL|     NULL|     NULL| NULL|                NULL|   NULL|  NULL|       NULL|       NULL|                NULL|      NULL|                    NULL|                   NULL|       NULL|               NULL|                NULL|       NULL|       NULL|\n",
            "|k0hlBqXX-Bt0vf1op...|Tsevi's Pub And G...|   8025 Mackenzie Rd|        Affton|   MO|      63123|38.565166|  -90.32108|  3.0|          19|      0|Pubs, Restaurants...|                NULL|NULL|u'free'|            NULL|                NULL|               NULL|          NULL|   NULL|                  False|                     1|             NULL|             NULL|          True|        u'casual'|                     NULL| True|              True|       NULL|                      True|       NULL|      NULL|     NULL|                  NULL|     NULL|     NULL| NULL|                NULL|   NULL|  True|u'full_bar'|       NULL|{'garage': False,...|u'average'|                    True|                   NULL|       NULL|              False|{'romantic': Fals...|       True|       NULL|\n",
            "|bBDDEgkFA1Otx9Lfe...|      Sonic Drive-In| 2312 Dickerson Pike|     Nashville|   TN|      37207|36.208103|  -86.76817|  1.5|          10|      1|Ice Cream & Froze...|{Monday -> 0:0-0:...|NULL|  u'no'|            NULL|                NULL|               NULL|          NULL|   NULL|                  False|                     1|             NULL|            False|          True|         'casual'|                     NULL| True|              True|       NULL|                      True|       NULL|      NULL|    False|                  NULL|    False|     True| NULL|                True|   NULL| False|    u'none'|      False|{'garage': False,...|      NULL|                   False|                  False|       NULL|               True|                NULL|       True|       NULL|\n",
            "|UJsufbvfyfONHeWdv...|           Marshalls|21705 Village Lak...| Land O' Lakes|   FL|      34639|28.190458|  -82.45738|  3.5|           6|      1|Department Stores...|{Monday -> 9:30-2...|NULL|   NULL|            NULL|                NULL|               NULL|          NULL|   NULL|                   NULL|                     2|             NULL|             NULL|          NULL|             NULL|                     NULL| NULL|              NULL|       NULL|                      True|       NULL|      NULL|     NULL|                  NULL|     NULL|     NULL| NULL|                NULL|   NULL|  NULL|       NULL|       NULL|{'garage': False,...|      NULL|                    NULL|                   NULL|       True|               NULL|                NULL|       NULL|       NULL|\n",
            "|eEOYSgkmpB90uNA7l...|Vietnamese Food T...|                    |     Tampa Bay|   FL|      33602|27.955269|  -82.45632|  4.0|          10|      1|Vietnamese, Food,...|{Monday -> 11:0-1...|NULL|   NULL|            NULL|{'dessert': False...|               NULL|          NULL|   NULL|                  False|                  NULL|             NULL|             NULL|          None|             NULL|                     NULL| NULL|              NULL|       NULL|                      NULL|       NULL|      NULL|     NULL|                  NULL|     NULL|     NULL| NULL|                NULL|   NULL|  NULL|     'none'|       NULL|{'garage': False,...|      NULL|                    NULL|                   NULL|       NULL|               NULL|{'touristy': Fals...|       NULL|       NULL|\n",
            "|il_Ro8jwPlHresjw9...|             Denny's|        8901 US 31 S|  Indianapolis|   IN|      46227|39.637135|  -86.12722|  2.5|          28|      1|American (Traditi...|{Monday -> 6:0-22...|NULL|  u'no'|            NULL|{'dessert': False...|               NULL|          NULL|   NULL|                  False|                     1|             NULL|             NULL|         False|         'casual'|                     NULL| True|              True|       NULL|                      True|       NULL|      NULL|     NULL|                  NULL|     NULL|     NULL| NULL|                NULL|   NULL|  NULL|     'none'|       NULL|{'garage': None, ...|      NULL|                    True|                   NULL|      False|               True|{'touristy': None...|       True|       NULL|\n",
            "|jaxMSoInw8Poo3XeM...|        Adams Dental|   15 N Missouri Ave|    Clearwater|   FL|      33755|27.966234| -82.787415|  5.0|          10|      1|General Dentistry...|{Monday -> 7:30-1...|NULL|   NULL|            NULL|                NULL|               NULL|          NULL|   NULL|                   NULL|                  NULL|             NULL|             True|          NULL|             NULL|                     NULL| NULL|              NULL|       NULL|                      NULL|       NULL|      NULL|     NULL|                  NULL|     NULL|     NULL| NULL|                NULL|   NULL|  NULL|       NULL|       NULL|                NULL|      NULL|                    NULL|                   NULL|       NULL|               NULL|                NULL|       NULL|       NULL|\n",
            "|0bPLkL0QhhPO5kt1_...|Zio's Italian Market|       2575 E Bay Dr|         Largo|   FL|      33771|27.916117|  -82.76046|  4.5|         100|      0|Food, Delis, Ital...|{Monday -> 10:0-1...|NULL|  u'no'|            NULL|{'dessert': False...|               NULL|          NULL|   NULL|                  False|                     1|             NULL|             NULL|         False|        u'casual'|                     NULL| True|              True|       NULL|                      True|       NULL|      NULL|     NULL|                 False|     NULL|     NULL| NULL|                True|   NULL|  True|    u'none'|       NULL|{'garage': False,...|u'average'|                   False|                  False|       True|               True|{'romantic': Fals...|       True|       NULL|\n",
            "|MUTTqe8uqyMdBl186...|            Tuna Bar|         205 Race St|  Philadelphia|   PA|      19106| 39.95395|  -75.14323|  4.0|         245|      1|Sushi Bars, Resta...|{Tuesday -> 13:30...|NULL| 'free'|            NULL|{'dessert': True,...|               NULL|          NULL|   NULL|                   True|                     2|             NULL|             NULL|          True|         'casual'|                     NULL|False|              True|       NULL|                      True|       NULL|      NULL|     NULL|                  NULL|     True|     NULL| NULL|                True|   NULL|  NULL| 'full_bar'|      False|{u'valet': False,...|u'average'|                    True|                   True|       NULL|               True|{'touristy': Fals...|      False|       NULL|\n",
            "|rBmpy_Y1UbBx8ggHl...|Arizona Truck Out...|     625 N Stone Ave|        Tucson|   AZ|      85705|32.229874| -110.97234|  4.5|          10|      1|Automotive, Auto ...|{Monday -> 0:0-0:...|NULL|u'free'|            NULL|                NULL|               NULL|          NULL|   NULL|                   NULL|                  NULL|             NULL|            False|          NULL|             NULL|                     NULL| NULL|              NULL|       NULL|                      True|       NULL|      NULL|     NULL|                  NULL|     NULL|    False| NULL|                NULL|   NULL|  NULL|       NULL|       NULL|                NULL|      NULL|                    NULL|                   NULL|       NULL|               NULL|                NULL|       NULL|       NULL|\n",
            "|M0XSSHqrASOnhgbWD...|      Herb Import Co|        712 Adams St|   New Orleans|   LA|      70118|29.941467|  -90.12995|  4.0|           5|      1|Vape Shops, Tobac...|{Monday -> 10:0-1...|NULL|   NULL|            NULL|                NULL|               NULL|          NULL|   NULL|                   NULL|                     2|             NULL|             NULL|          NULL|             NULL|                     NULL| NULL|              NULL|       NULL|                      True|       NULL|      NULL|     NULL|                  NULL|     NULL|     NULL| NULL|                NULL|   NULL|  NULL|       NULL|       NULL|{'garage': False,...|      NULL|                    NULL|                   NULL|       True|               NULL|                NULL|       NULL|       NULL|\n",
            "|8wGISYjYkE2tSqn3c...|    Nifty Car Rental|     1241 Airline Dr|        Kenner|   LA|      70062|29.981182|  -90.25401|  3.5|          14|      1|Automotive, Car R...|{Monday -> 8:0-17...|NULL|   NULL|            NULL|                NULL|               NULL|          NULL|   NULL|                   NULL|                  NULL|             NULL|             NULL|          NULL|             NULL|                     NULL| NULL|              NULL|       NULL|                      NULL|       NULL|      NULL|     NULL|                  NULL|     NULL|     NULL| NULL|                NULL|   NULL|  NULL|       NULL|       NULL|                NULL|      NULL|                    NULL|                   NULL|       NULL|               NULL|                NULL|       NULL|       NULL|\n",
            "|ROeacJQwBeh05Rqg7...|                 BAP|       1224 South St|  Philadelphia|   PA|      19147|39.943222|  -75.16257|  4.5|         205|      1| Korean, Restaurants|{Monday -> 11:30-...|NULL|  u'no'|            NULL|{'dessert': False...|               NULL|          NULL|   NULL|                  False|                     1|             NULL|             NULL|          None|        u'casual'|                     NULL| True|              True|       NULL|                      True|       NULL|      NULL|     NULL|                  NULL|     NULL|     NULL| NULL|                NULL|   NULL|  True|    u'none'|       NULL|{'garage': False,...|  u'quiet'|                   False|                   True|       True|               None|{'touristy': Fals...|       True|       NULL|\n",
            "+--------------------+--------------------+--------------------+--------------+-----+-----------+---------+-----------+-----+------------+-------+--------------------+--------------------+----+-------+----------------+--------------------+-------------------+--------------+-------+-----------------------+----------------------+-----------------+-----------------+--------------+-----------------+-------------------------+-----+------------------+-----------+--------------------------+-----------+----------+---------+----------------------+---------+---------+-----+--------------------+-------+------+-----------+-----------+--------------------+----------+------------------------+-----------------------+-----------+-------------------+--------------------+-----------+-----------+\n",
            "only showing top 20 rows\n",
            "\n"
          ]
        }
      ]
    },
    {
      "cell_type": "code",
      "source": [
        "# Define a function to parse JSON strings\n",
        "def parse_json(json_str):\n",
        "    try:\n",
        "        parsed_json = eval(json_str)\n",
        "        return parsed_json if isinstance(parsed_json, dict) else {}\n",
        "    except Exception:\n",
        "        return {}\n",
        "\n",
        "parse_json_udf = func.udf(parse_json, MapType(StringType(), BooleanType()))\n",
        "\n",
        "parseColumns = [\"Ambience\",\"BusinessParking\",\"BestNights\",\"GoodForMeal\",\"Music\"]\n",
        "\n",
        "for i in parseColumns:\n",
        "  business_df = business_df.withColumn(i, parse_json_udf(func.col(i)))\n",
        "\n",
        "  keys = business_df.selectExpr(f\"explode(map_keys({i})) as keys\").select(\"keys\").distinct().collect()\n",
        "  select_expr = [f\"{i}.\" + key[\"keys\"] + f\" as {i}_\" + key[\"keys\"] for key in keys]\n",
        "  business_df = business_df.selectExpr(\"*\", *select_expr)\n",
        "  business_df = business_df.drop(i)\n",
        "\n",
        "business_df.show()"
      ],
      "metadata": {
        "colab": {
          "base_uri": "https://localhost:8080/"
        },
        "id": "rGda1ZQ4tYLu",
        "outputId": "80994a49-5136-413a-edfe-781de6eb157e"
      },
      "id": "rGda1ZQ4tYLu",
      "execution_count": 12,
      "outputs": [
        {
          "output_type": "stream",
          "name": "stdout",
          "text": [
            "+--------------------+--------------------+--------------------+--------------+-----+-----------+---------+-----------+-----+------------+-------+--------------------+--------------------+----+-------+----------------+-------------------+--------------+-------+-----------------------+----------------------+-----------------+-----------------+--------------+-----------------+-------------------------+-----+------------------+-----------+--------------------------+-----------+---------+----------------------+---------+---------+--------------------+-------+------+-----------+-----------+----------+------------------------+-----------------------+-----------+-------------------+-----------+-----------+-----------------+---------------+---------------+-----------------+----------------+----------------+--------------+-----------------+---------------+---------------------+-------------------+-------------------------+----------------------+----------------------+-----------------+-------------------+-----------------+--------------------+-------------------+-----------------+------------------+-----------------+------------------+------------------+---------------------+-------------------+---------------------+--------------+--------+----------+-------------+-----------+----------------------+-------------+\n",
            "|         business_id|                name|             address|          city|state|postal_code| latitude|  longitude|stars|review_count|is_open|          categories|               hours|BYOB|   WiFi|AcceptsInsurance|DietaryRestrictions|GoodForDancing|Smoking|RestaurantsReservations|RestaurantsPriceRange2|HairSpecializesIn|ByAppointmentOnly|OutdoorSeating|RestaurantsAttire|RestaurantsCounterService|HasTV|RestaurantsTakeOut|BYOBCorkage|BusinessAcceptsCreditCards|Open24Hours|CoatCheck|BusinessAcceptsBitcoin|HappyHour|DriveThru|WheelchairAccessible|Corkage|Caters|    Alcohol|DogsAllowed|NoiseLevel|RestaurantsGoodForGroups|RestaurantsTableService|BikeParking|RestaurantsDelivery|GoodForKids|AgesAllowed|Ambience_romantic|Ambience_casual|Ambience_trendy|Ambience_intimate|Ambience_hipster|Ambience_upscale|Ambience_divey|Ambience_touristy|Ambience_classy|BusinessParking_valet|BusinessParking_lot|BusinessParking_validated|BusinessParking_garage|BusinessParking_street|BestNights_sunday|BestNights_thursday|BestNights_monday|BestNights_wednesday|BestNights_saturday|BestNights_friday|BestNights_tuesday|GoodForMeal_lunch|GoodForMeal_brunch|GoodForMeal_dinner|GoodForMeal_latenight|GoodForMeal_dessert|GoodForMeal_breakfast|Music_no_music|Music_dj|Music_live|Music_karaoke|Music_video|Music_background_music|Music_jukebox|\n",
            "+--------------------+--------------------+--------------------+--------------+-----+-----------+---------+-----------+-----+------------+-------+--------------------+--------------------+----+-------+----------------+-------------------+--------------+-------+-----------------------+----------------------+-----------------+-----------------+--------------+-----------------+-------------------------+-----+------------------+-----------+--------------------------+-----------+---------+----------------------+---------+---------+--------------------+-------+------+-----------+-----------+----------+------------------------+-----------------------+-----------+-------------------+-----------+-----------+-----------------+---------------+---------------+-----------------+----------------+----------------+--------------+-----------------+---------------+---------------------+-------------------+-------------------------+----------------------+----------------------+-----------------+-------------------+-----------------+--------------------+-------------------+-----------------+------------------+-----------------+------------------+------------------+---------------------+-------------------+---------------------+--------------+--------+----------+-------------+-----------+----------------------+-------------+\n",
            "|Pns2l4eNsfO8kk83d...|Abby Rappoport, L...|1616 Chapala St, ...| Santa Barbara|   CA|      93101|34.426678|  -119.7112|  5.0|           7|      0|Doctors, Traditio...|                NULL|NULL|   NULL|            NULL|               NULL|          NULL|   NULL|                   NULL|                  NULL|             NULL|             True|          NULL|             NULL|                     NULL| NULL|              NULL|       NULL|                      NULL|       NULL|     NULL|                  NULL|     NULL|     NULL|                NULL|   NULL|  NULL|       NULL|       NULL|      NULL|                    NULL|                   NULL|       NULL|               NULL|       NULL|       NULL|             NULL|           NULL|           NULL|             NULL|            NULL|            NULL|          NULL|             NULL|           NULL|                 NULL|               NULL|                     NULL|                  NULL|                  NULL|             NULL|               NULL|             NULL|                NULL|               NULL|             NULL|              NULL|             NULL|              NULL|              NULL|                 NULL|               NULL|                 NULL|          NULL|    NULL|      NULL|         NULL|       NULL|                  NULL|         NULL|\n",
            "|mpf3x-BjTdTEA3yCZ...|       The UPS Store|87 Grasso Plaza S...|        Affton|   MO|      63123|38.551125|  -90.33569|  3.0|          15|      1|Shipping Centers,...|{Monday -> 0:0-0:...|NULL|   NULL|            NULL|               NULL|          NULL|   NULL|                   NULL|                  NULL|             NULL|             NULL|          NULL|             NULL|                     NULL| NULL|              NULL|       NULL|                      True|       NULL|     NULL|                  NULL|     NULL|     NULL|                NULL|   NULL|  NULL|       NULL|       NULL|      NULL|                    NULL|                   NULL|       NULL|               NULL|       NULL|       NULL|             NULL|           NULL|           NULL|             NULL|            NULL|            NULL|          NULL|             NULL|           NULL|                 NULL|               NULL|                     NULL|                  NULL|                  NULL|             NULL|               NULL|             NULL|                NULL|               NULL|             NULL|              NULL|             NULL|              NULL|              NULL|                 NULL|               NULL|                 NULL|          NULL|    NULL|      NULL|         NULL|       NULL|                  NULL|         NULL|\n",
            "|tUFrWirKiKi_TAnsV...|              Target|5255 E Broadway Blvd|        Tucson|   AZ|      85711|32.223236|-110.880455|  3.5|          22|      0|Department Stores...|{Monday -> 8:0-22...|NULL|  u'no'|            NULL|               NULL|          NULL|   NULL|                  False|                     2|             NULL|            False|         False|             NULL|                     NULL|False|             False|       NULL|                      True|       NULL|    False|                  NULL|    False|     NULL|                True|   NULL| False|       NULL|      False|      NULL|                    NULL|                   NULL|       True|              False|       NULL|       NULL|             NULL|           NULL|           NULL|             NULL|            NULL|            NULL|          NULL|             NULL|           NULL|                false|               true|                    false|                 false|                 false|             NULL|               NULL|             NULL|                NULL|               NULL|             NULL|              NULL|             NULL|              NULL|              NULL|                 NULL|               NULL|                 NULL|          NULL|    NULL|      NULL|         NULL|       NULL|                  NULL|         NULL|\n",
            "|MTSW4McQd7CbVtyjq...|  St Honore Pastries|         935 Race St|  Philadelphia|   PA|      19107|39.955505|  -75.15556|  4.0|          80|      1|Restaurants, Food...|{Monday -> 7:0-20...|NULL|u'free'|            NULL|               NULL|          NULL|   NULL|                   NULL|                     1|             NULL|            False|         False|             NULL|                     NULL| NULL|              True|       NULL|                     False|       NULL|     NULL|                  NULL|     NULL|     NULL|                NULL|   NULL|  True|    u'none'|       NULL|      NULL|                    NULL|                   NULL|       True|              False|       NULL|       NULL|             NULL|           NULL|           NULL|             NULL|            NULL|            NULL|          NULL|             NULL|           NULL|                false|              false|                    false|                 false|                  true|             NULL|               NULL|             NULL|                NULL|               NULL|             NULL|              NULL|             NULL|              NULL|              NULL|                 NULL|               NULL|                 NULL|          NULL|    NULL|      NULL|         NULL|       NULL|                  NULL|         NULL|\n",
            "|mWMc6_wTdE0EUBKIG...|Perkiomen Valley ...|       101 Walnut St|    Green Lane|   PA|      18054|40.338184|  -75.47166|  4.5|          13|      1|Brewpubs, Breweri...|{Wednesday -> 14:...|NULL|   NULL|            NULL|               NULL|          NULL|   NULL|                   NULL|                  NULL|             NULL|             NULL|          NULL|             NULL|                     NULL| NULL|              True|       NULL|                      True|       NULL|     NULL|                  NULL|     NULL|     NULL|                True|   NULL| False|       NULL|       NULL|      NULL|                    NULL|                   NULL|       True|               NULL|       True|       NULL|             NULL|           NULL|           NULL|             NULL|            NULL|            NULL|          NULL|             NULL|           NULL|                false|               true|                     NULL|                  NULL|                  NULL|             NULL|               NULL|             NULL|                NULL|               NULL|             NULL|              NULL|             NULL|              NULL|              NULL|                 NULL|               NULL|                 NULL|          NULL|    NULL|      NULL|         NULL|       NULL|                  NULL|         NULL|\n",
            "|CF33F8-E6oudUQ46H...|      Sonic Drive-In|       615 S Main St|  Ashland City|   TN|      37015|36.269592| -87.058945|  2.0|           6|      1|Burgers, Fast Foo...|{Monday -> 0:0-0:...|NULL|  u'no'|            NULL|               NULL|          NULL|   NULL|                  False|                     1|             NULL|            False|          True|        u'casual'|                     NULL| True|              True|       NULL|                      True|       NULL|    False|                  NULL|    False|     True|                True|   NULL| False|    u'none'|      False|      NULL|                    True|                  False|      False|               True|       True|       NULL|             NULL|           NULL|           NULL|             NULL|            NULL|            NULL|          NULL|             NULL|           NULL|                 NULL|               NULL|                     NULL|                  NULL|                  NULL|             NULL|               NULL|             NULL|                NULL|               NULL|             NULL|              NULL|             NULL|              NULL|              NULL|                 NULL|               NULL|                 NULL|          NULL|    NULL|      NULL|         NULL|       NULL|                  NULL|         NULL|\n",
            "|n_0UpQx1hsNbnPUSl...|     Famous Footwear|8522 Eager Road, ...|     Brentwood|   MO|      63144|38.627693|  -90.34046|  2.5|          13|      1|Sporting Goods, F...|{Monday -> 0:0-0:...|NULL|   NULL|            NULL|               NULL|          NULL|   NULL|                   NULL|                     2|             NULL|             NULL|          NULL|             NULL|                     NULL| NULL|              NULL|       NULL|                      True|       NULL|     NULL|                  NULL|     NULL|     NULL|                NULL|   NULL|  NULL|       NULL|       NULL|      NULL|                    NULL|                   NULL|       True|               NULL|       NULL|       NULL|             NULL|           NULL|           NULL|             NULL|            NULL|            NULL|          NULL|             NULL|           NULL|                false|               true|                    false|                 false|                 false|             NULL|               NULL|             NULL|                NULL|               NULL|             NULL|              NULL|             NULL|              NULL|              NULL|                 NULL|               NULL|                 NULL|          NULL|    NULL|      NULL|         NULL|       NULL|                  NULL|         NULL|\n",
            "|qkRM_2X51Yqxk3btl...|      Temple Beth-El|  400 Pasadena Ave S|St. Petersburg|   FL|      33707| 27.76659|  -82.73299|  3.5|           5|      1|Synagogues, Relig...|{Monday -> 9:0-17...|NULL|   NULL|            NULL|               NULL|          NULL|   NULL|                   NULL|                  NULL|             NULL|             NULL|          NULL|             NULL|                     NULL| NULL|              NULL|       NULL|                      NULL|       NULL|     NULL|                  NULL|     NULL|     NULL|                NULL|   NULL|  NULL|       NULL|       NULL|      NULL|                    NULL|                   NULL|       NULL|               NULL|       NULL|       NULL|             NULL|           NULL|           NULL|             NULL|            NULL|            NULL|          NULL|             NULL|           NULL|                 NULL|               NULL|                     NULL|                  NULL|                  NULL|             NULL|               NULL|             NULL|                NULL|               NULL|             NULL|              NULL|             NULL|              NULL|              NULL|                 NULL|               NULL|                 NULL|          NULL|    NULL|      NULL|         NULL|       NULL|                  NULL|         NULL|\n",
            "|k0hlBqXX-Bt0vf1op...|Tsevi's Pub And G...|   8025 Mackenzie Rd|        Affton|   MO|      63123|38.565166|  -90.32108|  3.0|          19|      0|Pubs, Restaurants...|                NULL|NULL|u'free'|            NULL|               NULL|          NULL|   NULL|                  False|                     1|             NULL|             NULL|          True|        u'casual'|                     NULL| True|              True|       NULL|                      True|       NULL|     NULL|                  NULL|     NULL|     NULL|                NULL|   NULL|  True|u'full_bar'|       NULL|u'average'|                    True|                   NULL|       NULL|              False|       True|       NULL|            false|          false|          false|            false|           false|           false|         false|            false|          false|                false|               true|                    false|                 false|                 false|             NULL|               NULL|             NULL|                NULL|               NULL|             NULL|              NULL|             NULL|              NULL|              NULL|                 NULL|               NULL|                 NULL|          NULL|    NULL|      NULL|         NULL|       NULL|                  NULL|         NULL|\n",
            "|bBDDEgkFA1Otx9Lfe...|      Sonic Drive-In| 2312 Dickerson Pike|     Nashville|   TN|      37207|36.208103|  -86.76817|  1.5|          10|      1|Ice Cream & Froze...|{Monday -> 0:0-0:...|NULL|  u'no'|            NULL|               NULL|          NULL|   NULL|                  False|                     1|             NULL|            False|          True|         'casual'|                     NULL| True|              True|       NULL|                      True|       NULL|    False|                  NULL|    False|     True|                True|   NULL| False|    u'none'|      False|      NULL|                   False|                  False|       NULL|               True|       True|       NULL|             NULL|           NULL|           NULL|             NULL|            NULL|            NULL|          NULL|             NULL|           NULL|                false|              false|                    false|                 false|                 false|             NULL|               NULL|             NULL|                NULL|               NULL|             NULL|              NULL|             NULL|              NULL|              NULL|                 NULL|               NULL|                 NULL|          NULL|    NULL|      NULL|         NULL|       NULL|                  NULL|         NULL|\n",
            "|UJsufbvfyfONHeWdv...|           Marshalls|21705 Village Lak...| Land O' Lakes|   FL|      34639|28.190458|  -82.45738|  3.5|           6|      1|Department Stores...|{Monday -> 9:30-2...|NULL|   NULL|            NULL|               NULL|          NULL|   NULL|                   NULL|                     2|             NULL|             NULL|          NULL|             NULL|                     NULL| NULL|              NULL|       NULL|                      True|       NULL|     NULL|                  NULL|     NULL|     NULL|                NULL|   NULL|  NULL|       NULL|       NULL|      NULL|                    NULL|                   NULL|       True|               NULL|       NULL|       NULL|             NULL|           NULL|           NULL|             NULL|            NULL|            NULL|          NULL|             NULL|           NULL|                false|              false|                    false|                 false|                 false|             NULL|               NULL|             NULL|                NULL|               NULL|             NULL|              NULL|             NULL|              NULL|              NULL|                 NULL|               NULL|                 NULL|          NULL|    NULL|      NULL|         NULL|       NULL|                  NULL|         NULL|\n",
            "|eEOYSgkmpB90uNA7l...|Vietnamese Food T...|                    |     Tampa Bay|   FL|      33602|27.955269|  -82.45632|  4.0|          10|      1|Vietnamese, Food,...|{Monday -> 11:0-1...|NULL|   NULL|            NULL|               NULL|          NULL|   NULL|                  False|                  NULL|             NULL|             NULL|          None|             NULL|                     NULL| NULL|              NULL|       NULL|                      NULL|       NULL|     NULL|                  NULL|     NULL|     NULL|                NULL|   NULL|  NULL|     'none'|       NULL|      NULL|                    NULL|                   NULL|       NULL|               NULL|       NULL|       NULL|            false|          false|          false|            false|           false|           false|         false|            false|          false|                false|              false|                    false|                 false|                 false|             NULL|               NULL|             NULL|                NULL|               NULL|             NULL|              NULL|            false|             false|             false|                false|              false|                false|          NULL|    NULL|      NULL|         NULL|       NULL|                  NULL|         NULL|\n",
            "|il_Ro8jwPlHresjw9...|             Denny's|        8901 US 31 S|  Indianapolis|   IN|      46227|39.637135|  -86.12722|  2.5|          28|      1|American (Traditi...|{Monday -> 6:0-22...|NULL|  u'no'|            NULL|               NULL|          NULL|   NULL|                  False|                     1|             NULL|             NULL|         False|         'casual'|                     NULL| True|              True|       NULL|                      True|       NULL|     NULL|                  NULL|     NULL|     NULL|                NULL|   NULL|  NULL|     'none'|       NULL|      NULL|                    True|                   NULL|      False|               True|       True|       NULL|            false|           true|           NULL|             NULL|            NULL|            NULL|          NULL|             NULL|           NULL|                false|               true|                     NULL|                  NULL|                 false|             NULL|               NULL|             NULL|                NULL|               NULL|             NULL|              NULL|            false|             false|             false|                false|              false|                false|          NULL|    NULL|      NULL|         NULL|       NULL|                  NULL|         NULL|\n",
            "|jaxMSoInw8Poo3XeM...|        Adams Dental|   15 N Missouri Ave|    Clearwater|   FL|      33755|27.966234| -82.787415|  5.0|          10|      1|General Dentistry...|{Monday -> 7:30-1...|NULL|   NULL|            NULL|               NULL|          NULL|   NULL|                   NULL|                  NULL|             NULL|             True|          NULL|             NULL|                     NULL| NULL|              NULL|       NULL|                      NULL|       NULL|     NULL|                  NULL|     NULL|     NULL|                NULL|   NULL|  NULL|       NULL|       NULL|      NULL|                    NULL|                   NULL|       NULL|               NULL|       NULL|       NULL|             NULL|           NULL|           NULL|             NULL|            NULL|            NULL|          NULL|             NULL|           NULL|                 NULL|               NULL|                     NULL|                  NULL|                  NULL|             NULL|               NULL|             NULL|                NULL|               NULL|             NULL|              NULL|             NULL|              NULL|              NULL|                 NULL|               NULL|                 NULL|          NULL|    NULL|      NULL|         NULL|       NULL|                  NULL|         NULL|\n",
            "|0bPLkL0QhhPO5kt1_...|Zio's Italian Market|       2575 E Bay Dr|         Largo|   FL|      33771|27.916117|  -82.76046|  4.5|         100|      0|Food, Delis, Ital...|{Monday -> 10:0-1...|NULL|  u'no'|            NULL|               NULL|          NULL|   NULL|                  False|                     1|             NULL|             NULL|         False|        u'casual'|                     NULL| True|              True|       NULL|                      True|       NULL|     NULL|                 False|     NULL|     NULL|                True|   NULL|  True|    u'none'|       NULL|u'average'|                   False|                  False|       True|               True|       True|       NULL|            false|           true|          false|            false|           false|           false|         false|            false|          false|                false|               true|                    false|                 false|                 false|             NULL|               NULL|             NULL|                NULL|               NULL|             NULL|              NULL|             true|             false|             false|                false|              false|                false|          NULL|    NULL|      NULL|         NULL|       NULL|                  NULL|         NULL|\n",
            "|MUTTqe8uqyMdBl186...|            Tuna Bar|         205 Race St|  Philadelphia|   PA|      19106| 39.95395|  -75.14323|  4.0|         245|      1|Sushi Bars, Resta...|{Tuesday -> 13:30...|NULL| 'free'|            NULL|               NULL|          NULL|   NULL|                   True|                     2|             NULL|             NULL|          True|         'casual'|                     NULL|False|              True|       NULL|                      True|       NULL|     NULL|                  NULL|     True|     NULL|                True|   NULL|  NULL| 'full_bar'|      False|u'average'|                    True|                   True|       NULL|               True|      False|       NULL|            false|          false|          false|            false|           false|           false|         false|            false|           true|                false|              false|                     NULL|                  NULL|                  true|             NULL|               NULL|             NULL|                NULL|               NULL|             NULL|              NULL|             NULL|              NULL|              true|                 NULL|               true|                 NULL|          NULL|    NULL|      NULL|         NULL|       NULL|                  NULL|         NULL|\n",
            "|rBmpy_Y1UbBx8ggHl...|Arizona Truck Out...|     625 N Stone Ave|        Tucson|   AZ|      85705|32.229874| -110.97234|  4.5|          10|      1|Automotive, Auto ...|{Monday -> 0:0-0:...|NULL|u'free'|            NULL|               NULL|          NULL|   NULL|                   NULL|                  NULL|             NULL|            False|          NULL|             NULL|                     NULL| NULL|              NULL|       NULL|                      True|       NULL|     NULL|                  NULL|     NULL|    False|                NULL|   NULL|  NULL|       NULL|       NULL|      NULL|                    NULL|                   NULL|       NULL|               NULL|       NULL|       NULL|             NULL|           NULL|           NULL|             NULL|            NULL|            NULL|          NULL|             NULL|           NULL|                 NULL|               NULL|                     NULL|                  NULL|                  NULL|             NULL|               NULL|             NULL|                NULL|               NULL|             NULL|              NULL|             NULL|              NULL|              NULL|                 NULL|               NULL|                 NULL|          NULL|    NULL|      NULL|         NULL|       NULL|                  NULL|         NULL|\n",
            "|M0XSSHqrASOnhgbWD...|      Herb Import Co|        712 Adams St|   New Orleans|   LA|      70118|29.941467|  -90.12995|  4.0|           5|      1|Vape Shops, Tobac...|{Monday -> 10:0-1...|NULL|   NULL|            NULL|               NULL|          NULL|   NULL|                   NULL|                     2|             NULL|             NULL|          NULL|             NULL|                     NULL| NULL|              NULL|       NULL|                      True|       NULL|     NULL|                  NULL|     NULL|     NULL|                NULL|   NULL|  NULL|       NULL|       NULL|      NULL|                    NULL|                   NULL|       True|               NULL|       NULL|       NULL|             NULL|           NULL|           NULL|             NULL|            NULL|            NULL|          NULL|             NULL|           NULL|                false|              false|                    false|                 false|                  true|             NULL|               NULL|             NULL|                NULL|               NULL|             NULL|              NULL|             NULL|              NULL|              NULL|                 NULL|               NULL|                 NULL|          NULL|    NULL|      NULL|         NULL|       NULL|                  NULL|         NULL|\n",
            "|8wGISYjYkE2tSqn3c...|    Nifty Car Rental|     1241 Airline Dr|        Kenner|   LA|      70062|29.981182|  -90.25401|  3.5|          14|      1|Automotive, Car R...|{Monday -> 8:0-17...|NULL|   NULL|            NULL|               NULL|          NULL|   NULL|                   NULL|                  NULL|             NULL|             NULL|          NULL|             NULL|                     NULL| NULL|              NULL|       NULL|                      NULL|       NULL|     NULL|                  NULL|     NULL|     NULL|                NULL|   NULL|  NULL|       NULL|       NULL|      NULL|                    NULL|                   NULL|       NULL|               NULL|       NULL|       NULL|             NULL|           NULL|           NULL|             NULL|            NULL|            NULL|          NULL|             NULL|           NULL|                 NULL|               NULL|                     NULL|                  NULL|                  NULL|             NULL|               NULL|             NULL|                NULL|               NULL|             NULL|              NULL|             NULL|              NULL|              NULL|                 NULL|               NULL|                 NULL|          NULL|    NULL|      NULL|         NULL|       NULL|                  NULL|         NULL|\n",
            "|ROeacJQwBeh05Rqg7...|                 BAP|       1224 South St|  Philadelphia|   PA|      19147|39.943222|  -75.16257|  4.5|         205|      1| Korean, Restaurants|{Monday -> 11:30-...|NULL|  u'no'|            NULL|               NULL|          NULL|   NULL|                  False|                     1|             NULL|             NULL|          None|        u'casual'|                     NULL| True|              True|       NULL|                      True|       NULL|     NULL|                  NULL|     NULL|     NULL|                NULL|   NULL|  True|    u'none'|       NULL|  u'quiet'|                   False|                   True|       True|               None|       True|       NULL|            false|           true|          false|             NULL|           false|           false|         false|            false|          false|                false|              false|                    false|                 false|                  true|             NULL|               NULL|             NULL|                NULL|               NULL|             NULL|              NULL|             true|             false|              true|                false|              false|                false|          NULL|    NULL|      NULL|         NULL|       NULL|                  NULL|         NULL|\n",
            "+--------------------+--------------------+--------------------+--------------+-----+-----------+---------+-----------+-----+------------+-------+--------------------+--------------------+----+-------+----------------+-------------------+--------------+-------+-----------------------+----------------------+-----------------+-----------------+--------------+-----------------+-------------------------+-----+------------------+-----------+--------------------------+-----------+---------+----------------------+---------+---------+--------------------+-------+------+-----------+-----------+----------+------------------------+-----------------------+-----------+-------------------+-----------+-----------+-----------------+---------------+---------------+-----------------+----------------+----------------+--------------+-----------------+---------------+---------------------+-------------------+-------------------------+----------------------+----------------------+-----------------+-------------------+-----------------+--------------------+-------------------+-----------------+------------------+-----------------+------------------+------------------+---------------------+-------------------+---------------------+--------------+--------+----------+-------------+-----------+----------------------+-------------+\n",
            "only showing top 20 rows\n",
            "\n"
          ]
        }
      ]
    },
    {
      "cell_type": "code",
      "source": [
        "#Split for hours\n",
        "hour_keys = business_df.selectExpr(\"explode(map_keys(hours)) as keys\").select(\"keys\").distinct().collect()\n",
        "select_expr = [\"hours.\" + key[\"keys\"] + \" as hours_\" + key[\"keys\"] for key in hour_keys]\n",
        "business_df = business_df.selectExpr(\"*\", *select_expr)\n",
        "business_df = business_df.drop(\"hours\")"
      ],
      "metadata": {
        "id": "SwuOzqdG2RQc"
      },
      "id": "SwuOzqdG2RQc",
      "execution_count": 13,
      "outputs": []
    },
    {
      "cell_type": "code",
      "execution_count": 14,
      "id": "5c8827fa",
      "metadata": {
        "id": "5c8827fa",
        "colab": {
          "base_uri": "https://localhost:8080/"
        },
        "outputId": "1eb9869b-8357-48c3-fc6c-922c5315f162"
      },
      "outputs": [
        {
          "output_type": "execute_result",
          "data": {
            "text/plain": [
              "['average_stars',\n",
              " 'compliment_cool',\n",
              " 'compliment_cute',\n",
              " 'compliment_funny',\n",
              " 'compliment_hot',\n",
              " 'compliment_list',\n",
              " 'compliment_more',\n",
              " 'compliment_note',\n",
              " 'compliment_photos',\n",
              " 'compliment_plain',\n",
              " 'compliment_profile',\n",
              " 'compliment_writer',\n",
              " 'cool',\n",
              " 'elite',\n",
              " 'fans',\n",
              " 'friends',\n",
              " 'funny',\n",
              " 'name',\n",
              " 'review_count',\n",
              " 'useful',\n",
              " 'user_id',\n",
              " 'yelping_since']"
            ]
          },
          "metadata": {},
          "execution_count": 14
        }
      ],
      "source": [
        "users_df.columns"
      ]
    },
    {
      "cell_type": "code",
      "execution_count": 15,
      "id": "7dda9f90",
      "metadata": {
        "id": "7dda9f90",
        "colab": {
          "base_uri": "https://localhost:8080/"
        },
        "outputId": "1749ac8f-02ae-4484-edfd-1ae1dc2b3d53"
      },
      "outputs": [
        {
          "output_type": "execute_result",
          "data": {
            "text/plain": [
              "['business_id',\n",
              " 'cool',\n",
              " 'date',\n",
              " 'funny',\n",
              " 'review_id',\n",
              " 'stars',\n",
              " 'text',\n",
              " 'useful',\n",
              " 'user_id']"
            ]
          },
          "metadata": {},
          "execution_count": 15
        }
      ],
      "source": [
        "reviews_df.columns"
      ]
    },
    {
      "cell_type": "code",
      "execution_count": 16,
      "id": "26301c01",
      "metadata": {
        "id": "26301c01"
      },
      "outputs": [],
      "source": [
        "#Generic numeric user_id and business_id to use later for modeling functions\n",
        "user_window = Window.orderBy(\"user_id\")\n",
        "business_window = Window.orderBy(\"business_id\")\n",
        "\n",
        "users_df = users_df.withColumn(\"user_number\", func.row_number().over(user_window)) #May need to do this only for PA\n",
        "business_df = business_df.withColumn(\"business_number\", func.row_number().over(business_window))\n",
        "\n",
        "#Create temp views for SQL\n",
        "business_df.createOrReplaceTempView(\"business\")\n",
        "reviews_df.createOrReplaceTempView(\"reviews\")\n",
        "users_df.createOrReplaceTempView(\"users\")"
      ]
    },
    {
      "cell_type": "code",
      "source": [
        "business_df.show()"
      ],
      "metadata": {
        "colab": {
          "base_uri": "https://localhost:8080/"
        },
        "id": "2OcHJZ4rc832",
        "outputId": "1e7e594f-91b2-4eef-8e6a-67a02ecf9037"
      },
      "id": "2OcHJZ4rc832",
      "execution_count": 17,
      "outputs": [
        {
          "output_type": "stream",
          "name": "stdout",
          "text": [
            "+--------------------+--------------------+--------------------+---------------+-----+-----------+---------+-----------+-----+------------+-------+--------------------+-----+-------+----------------+-------------------+--------------+----------+-----------------------+----------------------+-----------------+-----------------+--------------+-----------------+-------------------------+-----+------------------+-----------+--------------------------+-----------+---------+----------------------+---------+---------+--------------------+-------+------+---------------+-----------+----------+------------------------+-----------------------+-----------+-------------------+-----------+-----------+-----------------+---------------+---------------+-----------------+----------------+----------------+--------------+-----------------+---------------+---------------------+-------------------+-------------------------+----------------------+----------------------+-----------------+-------------------+-----------------+--------------------+-------------------+-----------------+------------------+-----------------+------------------+------------------+---------------------+-------------------+---------------------+--------------+--------+----------+-------------+-----------+----------------------+-------------+---------------+-------------+------------+--------------+--------------+------------+------------+---------------+\n",
            "|         business_id|                name|             address|           city|state|postal_code| latitude|  longitude|stars|review_count|is_open|          categories| BYOB|   WiFi|AcceptsInsurance|DietaryRestrictions|GoodForDancing|   Smoking|RestaurantsReservations|RestaurantsPriceRange2|HairSpecializesIn|ByAppointmentOnly|OutdoorSeating|RestaurantsAttire|RestaurantsCounterService|HasTV|RestaurantsTakeOut|BYOBCorkage|BusinessAcceptsCreditCards|Open24Hours|CoatCheck|BusinessAcceptsBitcoin|HappyHour|DriveThru|WheelchairAccessible|Corkage|Caters|        Alcohol|DogsAllowed|NoiseLevel|RestaurantsGoodForGroups|RestaurantsTableService|BikeParking|RestaurantsDelivery|GoodForKids|AgesAllowed|Ambience_romantic|Ambience_casual|Ambience_trendy|Ambience_intimate|Ambience_hipster|Ambience_upscale|Ambience_divey|Ambience_touristy|Ambience_classy|BusinessParking_valet|BusinessParking_lot|BusinessParking_validated|BusinessParking_garage|BusinessParking_street|BestNights_sunday|BestNights_thursday|BestNights_monday|BestNights_wednesday|BestNights_saturday|BestNights_friday|BestNights_tuesday|GoodForMeal_lunch|GoodForMeal_brunch|GoodForMeal_dinner|GoodForMeal_latenight|GoodForMeal_dessert|GoodForMeal_breakfast|Music_no_music|Music_dj|Music_live|Music_karaoke|Music_video|Music_background_music|Music_jukebox|hours_Wednesday|hours_Tuesday|hours_Friday|hours_Thursday|hours_Saturday|hours_Monday|hours_Sunday|business_number|\n",
            "+--------------------+--------------------+--------------------+---------------+-----+-----------+---------+-----------+-----+------------+-------+--------------------+-----+-------+----------------+-------------------+--------------+----------+-----------------------+----------------------+-----------------+-----------------+--------------+-----------------+-------------------------+-----+------------------+-----------+--------------------------+-----------+---------+----------------------+---------+---------+--------------------+-------+------+---------------+-----------+----------+------------------------+-----------------------+-----------+-------------------+-----------+-----------+-----------------+---------------+---------------+-----------------+----------------+----------------+--------------+-----------------+---------------+---------------------+-------------------+-------------------------+----------------------+----------------------+-----------------+-------------------+-----------------+--------------------+-------------------+-----------------+------------------+-----------------+------------------+------------------+---------------------+-------------------+---------------------+--------------+--------+----------+-------------+-----------+----------------------+-------------+---------------+-------------+------------+--------------+--------------+------------+------------+---------------+\n",
            "|---kPU91CF4Lq2-Wl...|   Frankie's Raw Bar|    4903 State Rd 54|New Port Richey|   FL|      34652|28.217289| -82.733345|  4.5|          24|      1|Seafood, Restaura...| True|  u'no'|            NULL|               NULL|          NULL|      NULL|                  False|                  NULL|             NULL|             NULL|          True|             NULL|                     NULL|False|              True|       NULL|                      True|       NULL|     NULL|                 False|     NULL|     NULL|                True|  False|  True|        u'none'|       True|      NULL|                    NULL|                   True|       True|              False|       NULL|       NULL|            false|          false|          false|            false|           false|           false|         false|            false|           true|                false|               true|                    false|                 false|                 false|             NULL|               NULL|             NULL|                NULL|               NULL|             NULL|              NULL|             NULL|              NULL|              NULL|                 NULL|               NULL|                 NULL|          NULL|    NULL|      NULL|         NULL|       NULL|                  NULL|         NULL|      11:0-21:0|    11:0-21:0|   11:0-22:0|     11:0-21:0|     11:0-22:0|     0:0-0:0|        NULL|              1|\n",
            "|--0iUa4sNDFiZFrAd...|Pupuseria Y Resta...|6 S White Horse Pike|      Clementon|   NJ|      08021| 39.81785|  -74.99336|  3.0|          14|      1|Food, Restaurants...| NULL|   NULL|            NULL|               NULL|          NULL|      NULL|                   True|                     1|             NULL|             NULL|          NULL|         'casual'|                     NULL| NULL|              True|       NULL|                     False|       NULL|     NULL|                  NULL|     NULL|     NULL|                NULL|   NULL|  NULL|        u'none'|       NULL|      NULL|                    True|                   NULL|       NULL|              False|       True|       NULL|             NULL|           NULL|           NULL|             NULL|            NULL|            NULL|          NULL|             NULL|           NULL|                false|              false|                    false|                 false|                 false|             NULL|               NULL|             NULL|                NULL|               NULL|             NULL|              NULL|             NULL|              NULL|              NULL|                 NULL|               NULL|                 NULL|          NULL|    NULL|      NULL|         NULL|       NULL|                  NULL|         NULL|           NULL|         NULL|        NULL|          NULL|          NULL|        NULL|        NULL|              2|\n",
            "|--30_8IhuyMHbSOcN...|       Action Karate|        2235 York Rd|        Jamison|   PA|      18929|40.255363|   -75.0884|  3.5|           9|      1|Trainers, Active ...| NULL|   NULL|            NULL|               NULL|          NULL|      NULL|                   NULL|                  NULL|             NULL|             NULL|          NULL|             NULL|                     NULL| NULL|              NULL|       NULL|                      True|       NULL|     NULL|                  NULL|     NULL|     NULL|                NULL|   NULL|  NULL|           NULL|       NULL|      NULL|                    NULL|                   NULL|       NULL|               NULL|       True|       NULL|             NULL|           NULL|           NULL|             NULL|            NULL|            NULL|          NULL|             NULL|           NULL|                 NULL|               NULL|                     NULL|                  NULL|                  NULL|             NULL|               NULL|             NULL|                NULL|               NULL|             NULL|              NULL|             NULL|              NULL|              NULL|                 NULL|               NULL|                 NULL|          NULL|    NULL|      NULL|         NULL|       NULL|                  NULL|         NULL|           NULL|         NULL|        NULL|          NULL|          NULL|        NULL|        NULL|              3|\n",
            "|--7PUidqRWpRSpXeb...|Humpty's Family R...|    9910 108A Avenue|       Edmonton|   AB|        T5H| 53.55466| -113.49304|  2.0|          12|      0|Breakfast & Brunc...| NULL|   NULL|            NULL|               NULL|          NULL|      NULL|                  False|                     2|             NULL|             NULL|         False|        u'casual'|                     NULL| True|              True|       NULL|                      NULL|       NULL|     NULL|                  NULL|     NULL|     NULL|                NULL|   NULL|  NULL|           NULL|       NULL|u'average'|                   False|                   NULL|       NULL|               True|       True|       NULL|             NULL|           NULL|           NULL|             NULL|            NULL|            NULL|          NULL|             NULL|           NULL|                false|              false|                    false|                 false|                 false|             NULL|               NULL|             NULL|                NULL|               NULL|             NULL|              NULL|             NULL|              NULL|              NULL|                 NULL|               NULL|                 NULL|          NULL|    NULL|      NULL|         NULL|       NULL|                  NULL|         NULL|           NULL|         NULL|        NULL|          NULL|          NULL|        NULL|        NULL|              4|\n",
            "|--7jw19RH9JKXgFoh...|McIlwain Family D...|26908 Foggy Creek...|  Wesley Chapel|   FL|      33544|28.189156|  -82.37142|  4.0|          13|      1|Orthodontists, He...| NULL|   NULL|            NULL|               NULL|          NULL|      NULL|                   NULL|                  NULL|             NULL|             True|          NULL|             NULL|                     NULL| NULL|              NULL|       NULL|                      True|       NULL|     NULL|                  NULL|     NULL|     NULL|                NULL|   NULL|  NULL|           NULL|       NULL|      NULL|                    NULL|                   NULL|       NULL|               NULL|       NULL|       NULL|             NULL|           NULL|           NULL|             NULL|            NULL|            NULL|          NULL|             NULL|           NULL|                 NULL|               NULL|                     NULL|                  NULL|                  NULL|             NULL|               NULL|             NULL|                NULL|               NULL|             NULL|              NULL|             NULL|              NULL|              NULL|                 NULL|               NULL|                 NULL|          NULL|    NULL|      NULL|         NULL|       NULL|                  NULL|         NULL|      7:0-17:30|    7:0-17:30|        NULL|     7:0-17:30|          NULL|   7:0-17:30|        NULL|              5|\n",
            "|--8IbOsAAxjKRoYsB...|The Original Ital...|      4706 Paris Ave|       Gentilly|   LA|      70122| 30.00634| -90.074524|  3.0|          27|      0|Food, Restaurants...| NULL| 'free'|            NULL|               NULL|          NULL|      NULL|                  False|                     2|             NULL|             NULL|         False|         'casual'|                     NULL| True|              True|       NULL|                      True|       NULL|     NULL|                  NULL|     True|     NULL|                NULL|   NULL|  NULL|         'none'|       NULL|      NULL|                    True|                   NULL|       True|               True|       True|       NULL|            false|          false|          false|            false|           false|           false|         false|            false|          false|                false|              false|                    false|                 false|                 false|             NULL|               NULL|             NULL|                NULL|               NULL|             NULL|              NULL|            false|             false|             false|                false|              false|                false|          NULL|    NULL|      NULL|         NULL|       NULL|                  NULL|         NULL|     11:0-21:30|   11:0-21:30|  11:0-22:30|    11:0-21:30|    11:0-22:30|  11:0-21:30|  11:0-21:30|              6|\n",
            "|--9osgUCSDUWUkoTL...|    Will You Escape?|    2577 N First Ave|         Tucson|   AZ|      85719|32.253677| -110.96177|  5.0|          29|      1|Active Life, Chal...| NULL|   NULL|            NULL|               NULL|          NULL|      NULL|                   NULL|                  NULL|             NULL|             True|          NULL|             NULL|                     NULL| NULL|              NULL|       NULL|                      True|       NULL|     NULL|                  NULL|     NULL|     NULL|                NULL|   NULL|  NULL|           NULL|       NULL|      NULL|                    NULL|                   NULL|       True|               NULL|       True|       NULL|             NULL|           NULL|           NULL|             NULL|            NULL|            NULL|          NULL|             NULL|           NULL|                 NULL|               NULL|                     NULL|                  NULL|                  NULL|             NULL|               NULL|             NULL|                NULL|               NULL|             NULL|              NULL|             NULL|              NULL|              NULL|                 NULL|               NULL|                 NULL|          NULL|    NULL|      NULL|         NULL|       NULL|                  NULL|         NULL|      11:0-22:0|    11:0-22:0|   11:0-22:0|     11:0-22:0|     16:0-22:0|   11:0-22:0|   15:0-20:0|              7|\n",
            "|--ARBQr1WMsTWiwOK...|     Traveling Corks|3219 Bay To Bay Blvd|          Tampa|   FL|      33629|27.919884|  -82.49593|  4.5|          23|      0|Wine Bars, Nightl...| NULL|u'free'|            NULL|               NULL|         False|u'outdoor'|                  False|                     2|             NULL|             NULL|          True|             NULL|                     NULL| True|              NULL|       NULL|                      True|       NULL|    False|                  NULL|     True|     NULL|                True|   NULL|  NULL|'beer_and_wine'|       NULL|u'average'|                    True|                   NULL|      False|               NULL|       NULL|       NULL|            false|           true|          false|            false|           false|           false|         false|            false|          false|                false|              false|                    false|                 false|                 false|            false|              false|            false|                true|               true|             true|             false|             NULL|              NULL|              NULL|                 NULL|               NULL|                 NULL|         false|   false|     false|        false|      false|                 false|        false|      15:0-22:0|    15:0-22:0|    15:0-0:0|     15:0-22:0|      15:0-0:0|        NULL|        NULL|              8|\n",
            "|--FWWsIwxRwuw9vIM...|Blue River Canyon...|4908 Thoroughbred Ln|      Brentwood|   TN|      37027| 36.03673| -86.791046|  3.5|           8|      0|Day Spas, Beauty ...| NULL|   NULL|            NULL|               NULL|          NULL|      NULL|                   NULL|                     3|             NULL|             True|          NULL|             NULL|                     NULL| NULL|              NULL|       NULL|                      True|       NULL|     NULL|                  NULL|     NULL|     NULL|                NULL|   NULL|  NULL|           NULL|       NULL|      NULL|                    NULL|                   NULL|       NULL|               NULL|       NULL|       NULL|             NULL|           NULL|           NULL|             NULL|            NULL|            NULL|          NULL|             NULL|           NULL|                false|              false|                    false|                 false|                 false|             NULL|               NULL|             NULL|                NULL|               NULL|             NULL|              NULL|             NULL|              NULL|              NULL|                 NULL|               NULL|                 NULL|          NULL|    NULL|      NULL|         NULL|       NULL|                  NULL|         NULL|      9:0-19:30|    9:0-19:30|   9:0-19:30|     9:0-19:30|     9:0-19:30|   9:0-19:30|        NULL|              9|\n",
            "|--FcbSxK1AoEtEAxO...|    Victory Car Wash|       3820 US-301 S|      Riverview|   FL|      33578|27.914364| -82.347755|  3.5|          40|      1|Car Wash, Automotive| NULL|   NULL|            NULL|               NULL|          NULL|      NULL|                   NULL|                  NULL|             NULL|            False|          NULL|             NULL|                     NULL| NULL|              NULL|       NULL|                      True|       NULL|     NULL|                  NULL|     NULL|     NULL|                NULL|   NULL|  NULL|           NULL|       NULL|      NULL|                    NULL|                   NULL|       NULL|               NULL|       NULL|       NULL|             NULL|           NULL|           NULL|             NULL|            NULL|            NULL|          NULL|             NULL|           NULL|                 NULL|               NULL|                     NULL|                  NULL|                  NULL|             NULL|               NULL|             NULL|                NULL|               NULL|             NULL|              NULL|             NULL|              NULL|              NULL|                 NULL|               NULL|                 NULL|          NULL|    NULL|      NULL|         NULL|       NULL|                  NULL|         NULL|           NULL|         NULL|        NULL|          NULL|          NULL|        NULL|        NULL|             10|\n",
            "|--LC8cIrALInl2vyo...|      Studio G Salon|       6537 Gunn Hwy|          Tampa|   FL|      33625|28.065886|   -82.5593|  5.0|           8|      1|Hair Salons, Hair...| NULL|   NULL|            NULL|               NULL|          NULL|      NULL|                   NULL|                     2|             NULL|             True|          NULL|             NULL|                     NULL| NULL|              NULL|       NULL|                      True|       NULL|     NULL|                  NULL|     NULL|     NULL|                NULL|   NULL|  NULL|           NULL|       NULL|      NULL|                    NULL|                   NULL|       True|               NULL|       True|       NULL|             NULL|           NULL|           NULL|             NULL|            NULL|            NULL|          NULL|             NULL|           NULL|                false|              false|                    false|                 false|                 false|             NULL|               NULL|             NULL|                NULL|               NULL|             NULL|              NULL|             NULL|              NULL|              NULL|                 NULL|               NULL|                 NULL|          NULL|    NULL|      NULL|         NULL|       NULL|                  NULL|         NULL|       9:0-20:0|     9:0-17:0|    9:0-20:0|      9:0-20:0|      8:0-16:0|        NULL|        NULL|             11|\n",
            "|--MbOh2O1pATkXa7x...|        Sweet Lizard|6360 N Campbell, ...|         Tucson|   AZ|      85718| 32.32239|-110.928955|  4.0|          25|      0|Food, Ice Cream &...| NULL|   'no'|            NULL|               NULL|          NULL|      NULL|                   NULL|                     1|             NULL|             NULL|          NULL|             NULL|                     NULL| NULL|              True|       NULL|                      True|       NULL|     NULL|                  NULL|     NULL|     NULL|                NULL|   NULL|  NULL|           NULL|       NULL|      NULL|                    NULL|                   NULL|       True|               NULL|       NULL|       NULL|             NULL|           NULL|           NULL|             NULL|            NULL|            NULL|          NULL|             NULL|           NULL|                false|              false|                    false|                 false|                 false|             NULL|               NULL|             NULL|                NULL|               NULL|             NULL|              NULL|             NULL|              NULL|              NULL|                 NULL|               NULL|                 NULL|          NULL|    NULL|      NULL|         NULL|       NULL|                  NULL|         NULL|      12:0-21:0|    12:0-21:0|   12:0-22:0|     12:0-21:0|     12:0-22:0|   12:0-21:0|   12:0-21:0|             12|\n",
            "|--N9yp3ZWqQIm7DqK...|Firestone Complet...|       6291 9th St N|  St Petersburg|   FL|      33702| 27.82929|  -82.64687|  2.5|          23|      1|Automotive, Auto ...| NULL|   NULL|            NULL|               NULL|          NULL|      NULL|                   NULL|                  NULL|             NULL|            False|          NULL|             NULL|                     NULL| NULL|              NULL|       NULL|                      True|       NULL|     NULL|                  NULL|     NULL|     NULL|                NULL|   NULL|  NULL|           NULL|       NULL|      NULL|                    NULL|                   NULL|       NULL|               NULL|       NULL|       NULL|             NULL|           NULL|           NULL|             NULL|            NULL|            NULL|          NULL|             NULL|           NULL|                 NULL|               NULL|                     NULL|                  NULL|                  NULL|             NULL|               NULL|             NULL|                NULL|               NULL|             NULL|              NULL|             NULL|              NULL|              NULL|                 NULL|               NULL|                 NULL|          NULL|    NULL|      NULL|         NULL|       NULL|                  NULL|         NULL|       7:0-19:0|     7:0-19:0|    7:0-19:0|      7:0-19:0|      7:0-18:0|     0:0-0:0|    8:0-17:0|             13|\n",
            "|--O3ip9NpXTKD4oBS...|        Alameda Park|1400 Santa Barbar...|  Santa Barbara|   CA|      93101|34.428303|  -119.7054|  4.5|          65|      1|  Active Life, Parks| NULL|   NULL|            NULL|               NULL|          NULL|      NULL|                   NULL|                  NULL|             NULL|            False|          NULL|             NULL|                     NULL| NULL|              NULL|       NULL|                      NULL|       NULL|     NULL|                  NULL|     NULL|     NULL|                True|   NULL|  NULL|           NULL|       NULL|      NULL|                    NULL|                   NULL|       True|               NULL|       True|       NULL|             NULL|           NULL|           NULL|             NULL|            NULL|            NULL|          NULL|             NULL|           NULL|                false|              false|                    false|                 false|                  true|             NULL|               NULL|             NULL|                NULL|               NULL|             NULL|              NULL|             NULL|              NULL|              NULL|                 NULL|               NULL|                 NULL|          NULL|    NULL|      NULL|         NULL|       NULL|                  NULL|         NULL|       8:0-20:0|     8:0-20:0|    8:0-20:0|      8:0-20:0|      8:0-20:0|    8:0-20:0|    8:0-20:0|             14|\n",
            "|--OS_I7dnABrXvRCC...|Lens Auto Body & ...|    4819 Cottman Ave|   Philadelphia|   PA|      19135| 40.02816| -75.033806|  4.0|           5|      1|Auto Repair, Car ...| NULL|   NULL|            NULL|               NULL|          NULL|      NULL|                   NULL|                  NULL|             NULL|             NULL|          NULL|             NULL|                     NULL| NULL|              NULL|       NULL|                      True|       NULL|     NULL|                  NULL|     NULL|     NULL|                NULL|   NULL|  NULL|           NULL|       NULL|      NULL|                    NULL|                   NULL|       NULL|               NULL|       NULL|       NULL|             NULL|           NULL|           NULL|             NULL|            NULL|            NULL|          NULL|             NULL|           NULL|                 NULL|               NULL|                     NULL|                  NULL|                  NULL|             NULL|               NULL|             NULL|                NULL|               NULL|             NULL|              NULL|             NULL|              NULL|              NULL|                 NULL|               NULL|                 NULL|          NULL|    NULL|      NULL|         NULL|       NULL|                  NULL|         NULL|      7:30-17:0|    7:30-17:0|   7:30-17:0|     7:30-17:0|      8:0-12:0|   7:30-17:0|        NULL|             15|\n",
            "|--S43ruInmIsGrnnk...|     Peaches Records|    4318 Magazine St|    New Orleans|   LA|      70115|29.920622|  -90.10082|  3.5|          91|      1|Music & DVDs, Vin...| NULL|   NULL|            NULL|               NULL|          NULL|      NULL|                   NULL|                     2|             NULL|             NULL|          NULL|             NULL|                     NULL| NULL|              NULL|       NULL|                      True|       NULL|     NULL|                 False|     NULL|     NULL|                True|   NULL|  NULL|           NULL|       True|      NULL|                    NULL|                   NULL|       True|               NULL|       NULL|       NULL|             NULL|           NULL|           NULL|             NULL|            NULL|            NULL|          NULL|             NULL|           NULL|                false|              false|                    false|                 false|                  true|             NULL|               NULL|             NULL|                NULL|               NULL|             NULL|              NULL|             NULL|              NULL|              NULL|                 NULL|               NULL|                 NULL|          NULL|    NULL|      NULL|         NULL|       NULL|                  NULL|         NULL|      10:0-17:0|    10:0-17:0|    9:0-19:0|     10:0-17:0|     10:0-17:0|     0:0-0:0|   10:0-17:0|             16|\n",
            "|--SJXpAa0E-GCp2sm...|          Winn Dixie|   10667 Big Bend Rd|      Riverview|   FL|      33579|27.791332|  -82.33224|  2.5|          13|      1|Grocery, Beer, Wi...| NULL|   NULL|            NULL|               NULL|          NULL|      NULL|                   NULL|                     2|             NULL|             NULL|          NULL|             NULL|                     NULL| NULL|              True|       NULL|                      True|       NULL|     NULL|                  NULL|     NULL|     NULL|                NULL|   NULL|  True|           NULL|       NULL|      NULL|                    NULL|                   NULL|      False|               True|       NULL|       NULL|             NULL|           NULL|           NULL|             NULL|            NULL|            NULL|          NULL|             NULL|           NULL|                false|               true|                    false|                 false|                 false|             NULL|               NULL|             NULL|                NULL|               NULL|             NULL|              NULL|             NULL|              NULL|              NULL|                 NULL|               NULL|                 NULL|          NULL|    NULL|      NULL|         NULL|       NULL|                  NULL|         NULL|       7:0-23:0|     7:0-23:0|    7:0-23:0|      7:0-23:0|      7:0-23:0|    7:0-23:0|    7:0-23:0|             17|\n",
            "|--Sd93OFWITqDHifM...|ProActive Physica...|8770 N Thornydale...|         Tucson|   AZ|      85742| 32.36567|-111.046135|  4.5|           6|      1|Physical Therapy,...| NULL|   NULL|            NULL|               NULL|          NULL|      NULL|                   NULL|                  NULL|             NULL|            False|          NULL|             NULL|                     NULL| NULL|              NULL|       NULL|                      True|       NULL|     NULL|                  NULL|     NULL|     NULL|                NULL|   NULL|  NULL|           NULL|       NULL|      NULL|                    NULL|                   NULL|       NULL|               NULL|       NULL|       NULL|             NULL|           NULL|           NULL|             NULL|            NULL|            NULL|          NULL|             NULL|           NULL|                 NULL|               NULL|                     NULL|                  NULL|                  NULL|             NULL|               NULL|             NULL|                NULL|               NULL|             NULL|              NULL|             NULL|              NULL|              NULL|                 NULL|               NULL|                 NULL|          NULL|    NULL|      NULL|         NULL|       NULL|                  NULL|         NULL|     7:30-18:30|   7:30-18:30|  7:30-18:30|    7:30-18:30|          NULL|     0:0-0:0|        NULL|             18|\n",
            "|--ZVrH2X2QXBFdCil...|Chris's Sandwich ...| 1531 W Wynnewood Rd|        Ardmore|   PA|      19003|  39.9973| -75.292206|  4.5|          32|      0|American (Traditi...|False|u'free'|            NULL|               NULL|          NULL|      NULL|                  False|                     1|             NULL|             NULL|         False|         'casual'|                     NULL| True|              True| 'yes_free'|                      True|       NULL|     NULL|                 False|     NULL|     NULL|                NULL|  False|  True|        u'none'|      False|  u'quiet'|                    True|                  False|       True|              False|       True|       NULL|            false|           true|          false|            false|           false|           false|         false|            false|          false|                false|               true|                    false|                 false|                 false|             NULL|               NULL|             NULL|                NULL|               NULL|             NULL|              NULL|             true|             false|              true|                false|              false|                false|          NULL|    NULL|      NULL|         NULL|       NULL|                  NULL|         NULL|      11:0-21:0|    11:0-21:0|   11:0-21:0|     11:0-21:0|     11:0-21:0|   11:0-21:0|   11:0-21:0|             19|\n",
            "|--ZWv8kGlM2YL58uK...|Erdenheim Bicycle...|  821 Bethlehem Pike|      Erdenheim|   PA|      19038| 40.09547|   -75.2136|  3.0|          12|      0|Bike Rentals, Act...| NULL|   NULL|            NULL|               NULL|          NULL|      NULL|                   NULL|                  NULL|             NULL|             NULL|          NULL|             NULL|                     NULL| NULL|              NULL|       NULL|                      NULL|       NULL|     NULL|                  NULL|     NULL|     NULL|                NULL|   NULL|  NULL|           NULL|       NULL|      NULL|                    NULL|                   NULL|       NULL|               NULL|       True|       NULL|             NULL|           NULL|           NULL|             NULL|            NULL|            NULL|          NULL|             NULL|           NULL|                 NULL|               NULL|                     NULL|                  NULL|                  NULL|             NULL|               NULL|             NULL|                NULL|               NULL|             NULL|              NULL|             NULL|              NULL|              NULL|                 NULL|               NULL|                 NULL|          NULL|    NULL|      NULL|         NULL|       NULL|                  NULL|         NULL|           NULL|         NULL|        NULL|          NULL|          NULL|        NULL|        NULL|             20|\n",
            "+--------------------+--------------------+--------------------+---------------+-----+-----------+---------+-----------+-----+------------+-------+--------------------+-----+-------+----------------+-------------------+--------------+----------+-----------------------+----------------------+-----------------+-----------------+--------------+-----------------+-------------------------+-----+------------------+-----------+--------------------------+-----------+---------+----------------------+---------+---------+--------------------+-------+------+---------------+-----------+----------+------------------------+-----------------------+-----------+-------------------+-----------+-----------+-----------------+---------------+---------------+-----------------+----------------+----------------+--------------+-----------------+---------------+---------------------+-------------------+-------------------------+----------------------+----------------------+-----------------+-------------------+-----------------+--------------------+-------------------+-----------------+------------------+-----------------+------------------+------------------+---------------------+-------------------+---------------------+--------------+--------+----------+-------------+-----------+----------------------+-------------+---------------+-------------+------------+--------------+--------------+------------+------------+---------------+\n",
            "only showing top 20 rows\n",
            "\n"
          ]
        }
      ]
    },
    {
      "cell_type": "code",
      "execution_count": 18,
      "id": "80748b1b",
      "metadata": {
        "id": "80748b1b"
      },
      "outputs": [],
      "source": [
        "#Data Filtering\n",
        "state = 'PA'\n",
        "\n",
        "#Restaurants\n",
        "restaurant_sql = f'''\n",
        "        SELECT\n",
        "            b.*\n",
        "        FROM\n",
        "            business b\n",
        "        WHERE\n",
        "            b.is_open=1 AND LOWER(b.categories) LIKE '%restaurant%' AND b.state = '{state}'\n",
        "        ;\n",
        "    '''\n",
        "\n",
        "restaurants = spark.sql(restaurant_sql)\n",
        "restaurants.createOrReplaceTempView(\"restaurants\")\n",
        "\n",
        "\n",
        "#Reviews for Restaurants\n",
        "restaurant_reviews_sql = f'''\n",
        "        SELECT\n",
        "            rv.*, r.city, r.state\n",
        "        FROM\n",
        "            reviews rv\n",
        "        INNER JOIN\n",
        "            restaurants r\n",
        "        ON rv.business_id = r.business_id\n",
        "        ;\n",
        "    '''\n",
        "\n",
        "restaurant_reviews = spark.sql(restaurant_reviews_sql)\n",
        "restaurant_reviews.createOrReplaceTempView(\"restaurant_reviews\")\n",
        "\n",
        "#Restaurant review volume by state\n",
        "restaurant_review_volume_sql = f'''\n",
        "        SELECT\n",
        "           rv.state, count(*) as review_count\n",
        "        FROM\n",
        "            restaurant_reviews rv\n",
        "        GROUP BY rv.state ORDER BY review_count DESC\n",
        "        ;\n",
        "    '''\n",
        "\n",
        "restaurant_review_volume = spark.sql(restaurant_review_volume_sql)\n",
        "\n",
        "\n",
        "#Users with at least 4 restaurant reviews\n",
        "min_review_per_user = 4\n",
        "\n",
        "multi_restaurant_users_sql = f'''\n",
        "        SELECT\n",
        "            u.user_id, COUNT(DISTINCT r.business_id) AS restaurant_review_count\n",
        "        FROM\n",
        "            users u\n",
        "        INNER JOIN\n",
        "            restaurant_reviews r\n",
        "        ON u.user_id = r.user_id\n",
        "        GROUP BY\n",
        "            u.user_id\n",
        "        HAVING\n",
        "            COUNT(DISTINCT r.business_id) >= {min_review_per_user}\n",
        "        ;\n",
        "    '''\n",
        "\n",
        "multi_restaurant_users = spark.sql(multi_restaurant_users_sql)\n",
        "multi_restaurant_users.createOrReplaceTempView(\"multi_restaurant_users\")\n",
        "\n",
        "\n",
        "#Data for restaurant reviews for users with at least 2 reviews\n",
        "final_reviews_sql = f'''\n",
        "        SELECT\n",
        "            r.user_id, ub.user_number, ub.average_stars, ub.elite, ub.fans, ub.friends, ub.name AS user_name, ub.review_count AS user_review_count, ub.yelping_since,\n",
        "            b.*,\n",
        "            r.review_id, r.date, r.stars AS review_stars, r.cool, r.funny, r.useful\n",
        "        FROM\n",
        "            restaurant_reviews r\n",
        "        INNER JOIN\n",
        "            multi_restaurant_users u\n",
        "        ON r.user_id = u.user_id\n",
        "        INNER JOIN\n",
        "            users ub\n",
        "        ON r.user_id = ub.user_id\n",
        "        INNER JOIN\n",
        "            restaurants b\n",
        "        ON r.business_id = b.business_id\n",
        "        ;\n",
        "    '''\n",
        "\n",
        "final_reviews = spark.sql(final_reviews_sql)"
      ]
    },
    {
      "cell_type": "code",
      "source": [
        "# Set some default values for certain fields\n",
        "final_reviews = final_reviews.fillna(False, subset=[\"Open24Hours\",\"DriveThru\",\"GoodForDancing\"])\n",
        "final_reviews = final_reviews.fillna(\"no\", subset=[\"Smoking\"])\n",
        "\n",
        "# Drop columns manually if not filled in sufficiently / appear irrelevant to prediction\n",
        "columns_to_drop = [\"is_open\",\"longitude\",\"latitude\",\"address\",\"postal_code\",\"BYOB\",\"AcceptsInsurance\",\"DietaryRestrictions\",\"HairSpecializesIn\",\n",
        "                   \"ByAppointmentOnly\",\"RestaurantsCounterService\",\"BYOBCorkage\",\"CoatCheck\",\"BusinessAcceptsBitcoin\",\"AgesAllowed\",\"cool\",\"funny\",\"useful\"]\n",
        "\n",
        "final_reviews_drop = final_reviews.drop(*columns_to_drop)\n",
        "\n",
        "final_reviews_drop.createOrReplaceTempView(\"final_reviews\")"
      ],
      "metadata": {
        "id": "o2jp2CkyengQ"
      },
      "id": "o2jp2CkyengQ",
      "execution_count": 19,
      "outputs": []
    },
    {
      "cell_type": "code",
      "execution_count": 20,
      "id": "38703a83",
      "metadata": {
        "id": "38703a83"
      },
      "outputs": [],
      "source": [
        "#For each user, pull 70% for training and 30% for testing - do on user basis, so we can test user's recommendations\n",
        "# Define the percentage for training and testing data\n",
        "train_percentage = 0.7\n",
        "test_percentage = 1 - train_percentage\n",
        "seed = 42\n",
        "\n",
        "#Random shuffle\n",
        "shuffled_final = final_reviews_drop.orderBy(func.rand(42))\n",
        "\n",
        "# Define window specification partitioned by the user_id column and corresponding row number\n",
        "window_spec = Window.partitionBy(\"user_id\").orderBy(\"user_id\")\n",
        "final_reviews_with_row_number = shuffled_final.withColumn(\"row_number\", func.row_number().over(window_spec))\n",
        "\n",
        "# Calculate the total number of rows for each user\n",
        "user_counts = final_reviews_with_row_number.groupBy(\"user_id\").count()\n",
        "\n",
        "# Calculate the number of rows to include in the training set for each user\n",
        "user_test_counts = user_counts.withColumn(\"test_count\", (func.col(\"count\") * test_percentage).cast(\"int\"))\n",
        "\n",
        "#Join row number data with test count\n",
        "final_with_test_counts = final_reviews_with_row_number.join(user_test_counts, \"user_id\", \"inner\")\n",
        "\n",
        "# Create training and testing DataFrames for each user\n",
        "train_data = final_with_test_counts.filter(func.col(\"row_number\") <= (func.col(\"count\") - func.col(\"test_count\")))\n",
        "test_data = final_with_test_counts.filter(func.col(\"row_number\") > (func.col(\"count\") - func.col(\"test_count\")))\n",
        "\n",
        "# Drop the intermediate columns\n",
        "train_data = train_data.drop(\"row_number\", \"count\", \"test_count\")\n",
        "test_data = test_data.drop(\"row_number\", \"count\", \"test_count\")\n",
        "\n",
        "#test_data.count()\n",
        "#train_data.count()"
      ]
    },
    {
      "cell_type": "markdown",
      "source": [
        "# Collaborative Filtering"
      ],
      "metadata": {
        "id": "dJSklMJzhfDN"
      },
      "id": "dJSklMJzhfDN"
    },
    {
      "cell_type": "code",
      "execution_count": 21,
      "id": "014a2727",
      "metadata": {
        "id": "014a2727",
        "colab": {
          "base_uri": "https://localhost:8080/",
          "height": 426
        },
        "outputId": "80124969-55da-4470-a80e-cf824b89b4c3"
      },
      "outputs": [
        {
          "output_type": "error",
          "ename": "KeyboardInterrupt",
          "evalue": "",
          "traceback": [
            "\u001b[0;31m---------------------------------------------------------------------------\u001b[0m",
            "\u001b[0;31mIndexError\u001b[0m                                Traceback (most recent call last)",
            "\u001b[0;32m/usr/lib/python3.10/multiprocessing/pool.py\u001b[0m in \u001b[0;36mnext\u001b[0;34m(self, timeout)\u001b[0m\n\u001b[1;32m    855\u001b[0m             \u001b[0;32mtry\u001b[0m\u001b[0;34m:\u001b[0m\u001b[0;34m\u001b[0m\u001b[0;34m\u001b[0m\u001b[0m\n\u001b[0;32m--> 856\u001b[0;31m                 \u001b[0mitem\u001b[0m \u001b[0;34m=\u001b[0m \u001b[0mself\u001b[0m\u001b[0;34m.\u001b[0m\u001b[0m_items\u001b[0m\u001b[0;34m.\u001b[0m\u001b[0mpopleft\u001b[0m\u001b[0;34m(\u001b[0m\u001b[0;34m)\u001b[0m\u001b[0;34m\u001b[0m\u001b[0;34m\u001b[0m\u001b[0m\n\u001b[0m\u001b[1;32m    857\u001b[0m             \u001b[0;32mexcept\u001b[0m \u001b[0mIndexError\u001b[0m\u001b[0;34m:\u001b[0m\u001b[0;34m\u001b[0m\u001b[0;34m\u001b[0m\u001b[0m\n",
            "\u001b[0;31mIndexError\u001b[0m: pop from an empty deque",
            "\nDuring handling of the above exception, another exception occurred:\n",
            "\u001b[0;31mKeyboardInterrupt\u001b[0m                         Traceback (most recent call last)",
            "\u001b[0;32m<ipython-input-21-eb4772a80103>\u001b[0m in \u001b[0;36m<cell line: 19>\u001b[0;34m()\u001b[0m\n\u001b[1;32m     17\u001b[0m                           numFolds=5) \n\u001b[1;32m     18\u001b[0m \u001b[0;34m\u001b[0m\u001b[0m\n\u001b[0;32m---> 19\u001b[0;31m \u001b[0mcvModel\u001b[0m \u001b[0;34m=\u001b[0m \u001b[0mcrossval\u001b[0m\u001b[0;34m.\u001b[0m\u001b[0mfit\u001b[0m\u001b[0;34m(\u001b[0m\u001b[0mtrain_data\u001b[0m\u001b[0;34m)\u001b[0m\u001b[0;34m\u001b[0m\u001b[0;34m\u001b[0m\u001b[0m\n\u001b[0m",
            "\u001b[0;32m/usr/local/lib/python3.10/dist-packages/pyspark/ml/base.py\u001b[0m in \u001b[0;36mfit\u001b[0;34m(self, dataset, params)\u001b[0m\n\u001b[1;32m    203\u001b[0m                 \u001b[0;32mreturn\u001b[0m \u001b[0mself\u001b[0m\u001b[0;34m.\u001b[0m\u001b[0mcopy\u001b[0m\u001b[0;34m(\u001b[0m\u001b[0mparams\u001b[0m\u001b[0;34m)\u001b[0m\u001b[0;34m.\u001b[0m\u001b[0m_fit\u001b[0m\u001b[0;34m(\u001b[0m\u001b[0mdataset\u001b[0m\u001b[0;34m)\u001b[0m\u001b[0;34m\u001b[0m\u001b[0;34m\u001b[0m\u001b[0m\n\u001b[1;32m    204\u001b[0m             \u001b[0;32melse\u001b[0m\u001b[0;34m:\u001b[0m\u001b[0;34m\u001b[0m\u001b[0;34m\u001b[0m\u001b[0m\n\u001b[0;32m--> 205\u001b[0;31m                 \u001b[0;32mreturn\u001b[0m \u001b[0mself\u001b[0m\u001b[0;34m.\u001b[0m\u001b[0m_fit\u001b[0m\u001b[0;34m(\u001b[0m\u001b[0mdataset\u001b[0m\u001b[0;34m)\u001b[0m\u001b[0;34m\u001b[0m\u001b[0;34m\u001b[0m\u001b[0m\n\u001b[0m\u001b[1;32m    206\u001b[0m         \u001b[0;32melse\u001b[0m\u001b[0;34m:\u001b[0m\u001b[0;34m\u001b[0m\u001b[0;34m\u001b[0m\u001b[0m\n\u001b[1;32m    207\u001b[0m             raise TypeError(\n",
            "\u001b[0;32m/usr/local/lib/python3.10/dist-packages/pyspark/ml/tuning.py\u001b[0m in \u001b[0;36m_fit\u001b[0;34m(self, dataset)\u001b[0m\n\u001b[1;32m    845\u001b[0m                 \u001b[0m_parallelFitTasks\u001b[0m\u001b[0;34m(\u001b[0m\u001b[0mest\u001b[0m\u001b[0;34m,\u001b[0m \u001b[0mtrain\u001b[0m\u001b[0;34m,\u001b[0m \u001b[0meva\u001b[0m\u001b[0;34m,\u001b[0m \u001b[0mvalidation\u001b[0m\u001b[0;34m,\u001b[0m \u001b[0mepm\u001b[0m\u001b[0;34m,\u001b[0m \u001b[0mcollectSubModelsParam\u001b[0m\u001b[0;34m)\u001b[0m\u001b[0;34m,\u001b[0m\u001b[0;34m\u001b[0m\u001b[0;34m\u001b[0m\u001b[0m\n\u001b[1;32m    846\u001b[0m             )\n\u001b[0;32m--> 847\u001b[0;31m             \u001b[0;32mfor\u001b[0m \u001b[0mj\u001b[0m\u001b[0;34m,\u001b[0m \u001b[0mmetric\u001b[0m\u001b[0;34m,\u001b[0m \u001b[0msubModel\u001b[0m \u001b[0;32min\u001b[0m \u001b[0mpool\u001b[0m\u001b[0;34m.\u001b[0m\u001b[0mimap_unordered\u001b[0m\u001b[0;34m(\u001b[0m\u001b[0;32mlambda\u001b[0m \u001b[0mf\u001b[0m\u001b[0;34m:\u001b[0m \u001b[0mf\u001b[0m\u001b[0;34m(\u001b[0m\u001b[0;34m)\u001b[0m\u001b[0;34m,\u001b[0m \u001b[0mtasks\u001b[0m\u001b[0;34m)\u001b[0m\u001b[0;34m:\u001b[0m\u001b[0;34m\u001b[0m\u001b[0;34m\u001b[0m\u001b[0m\n\u001b[0m\u001b[1;32m    848\u001b[0m                 \u001b[0mmetrics_all\u001b[0m\u001b[0;34m[\u001b[0m\u001b[0mi\u001b[0m\u001b[0;34m]\u001b[0m\u001b[0;34m[\u001b[0m\u001b[0mj\u001b[0m\u001b[0;34m]\u001b[0m \u001b[0;34m=\u001b[0m \u001b[0mmetric\u001b[0m\u001b[0;34m\u001b[0m\u001b[0;34m\u001b[0m\u001b[0m\n\u001b[1;32m    849\u001b[0m                 \u001b[0;32mif\u001b[0m \u001b[0mcollectSubModelsParam\u001b[0m\u001b[0;34m:\u001b[0m\u001b[0;34m\u001b[0m\u001b[0;34m\u001b[0m\u001b[0m\n",
            "\u001b[0;32m/usr/lib/python3.10/multiprocessing/pool.py\u001b[0m in \u001b[0;36mnext\u001b[0;34m(self, timeout)\u001b[0m\n\u001b[1;32m    859\u001b[0m                     \u001b[0mself\u001b[0m\u001b[0;34m.\u001b[0m\u001b[0m_pool\u001b[0m \u001b[0;34m=\u001b[0m \u001b[0;32mNone\u001b[0m\u001b[0;34m\u001b[0m\u001b[0;34m\u001b[0m\u001b[0m\n\u001b[1;32m    860\u001b[0m                     \u001b[0;32mraise\u001b[0m \u001b[0mStopIteration\u001b[0m \u001b[0;32mfrom\u001b[0m \u001b[0;32mNone\u001b[0m\u001b[0;34m\u001b[0m\u001b[0;34m\u001b[0m\u001b[0m\n\u001b[0;32m--> 861\u001b[0;31m                 \u001b[0mself\u001b[0m\u001b[0;34m.\u001b[0m\u001b[0m_cond\u001b[0m\u001b[0;34m.\u001b[0m\u001b[0mwait\u001b[0m\u001b[0;34m(\u001b[0m\u001b[0mtimeout\u001b[0m\u001b[0;34m)\u001b[0m\u001b[0;34m\u001b[0m\u001b[0;34m\u001b[0m\u001b[0m\n\u001b[0m\u001b[1;32m    862\u001b[0m                 \u001b[0;32mtry\u001b[0m\u001b[0;34m:\u001b[0m\u001b[0;34m\u001b[0m\u001b[0;34m\u001b[0m\u001b[0m\n\u001b[1;32m    863\u001b[0m                     \u001b[0mitem\u001b[0m \u001b[0;34m=\u001b[0m \u001b[0mself\u001b[0m\u001b[0;34m.\u001b[0m\u001b[0m_items\u001b[0m\u001b[0;34m.\u001b[0m\u001b[0mpopleft\u001b[0m\u001b[0;34m(\u001b[0m\u001b[0;34m)\u001b[0m\u001b[0;34m\u001b[0m\u001b[0;34m\u001b[0m\u001b[0m\n",
            "\u001b[0;32m/usr/lib/python3.10/threading.py\u001b[0m in \u001b[0;36mwait\u001b[0;34m(self, timeout)\u001b[0m\n\u001b[1;32m    318\u001b[0m         \u001b[0;32mtry\u001b[0m\u001b[0;34m:\u001b[0m    \u001b[0;31m# restore state no matter what (e.g., KeyboardInterrupt)\u001b[0m\u001b[0;34m\u001b[0m\u001b[0;34m\u001b[0m\u001b[0m\n\u001b[1;32m    319\u001b[0m             \u001b[0;32mif\u001b[0m \u001b[0mtimeout\u001b[0m \u001b[0;32mis\u001b[0m \u001b[0;32mNone\u001b[0m\u001b[0;34m:\u001b[0m\u001b[0;34m\u001b[0m\u001b[0;34m\u001b[0m\u001b[0m\n\u001b[0;32m--> 320\u001b[0;31m                 \u001b[0mwaiter\u001b[0m\u001b[0;34m.\u001b[0m\u001b[0macquire\u001b[0m\u001b[0;34m(\u001b[0m\u001b[0;34m)\u001b[0m\u001b[0;34m\u001b[0m\u001b[0;34m\u001b[0m\u001b[0m\n\u001b[0m\u001b[1;32m    321\u001b[0m                 \u001b[0mgotit\u001b[0m \u001b[0;34m=\u001b[0m \u001b[0;32mTrue\u001b[0m\u001b[0;34m\u001b[0m\u001b[0;34m\u001b[0m\u001b[0m\n\u001b[1;32m    322\u001b[0m             \u001b[0;32melse\u001b[0m\u001b[0;34m:\u001b[0m\u001b[0;34m\u001b[0m\u001b[0;34m\u001b[0m\u001b[0m\n",
            "\u001b[0;31mKeyboardInterrupt\u001b[0m: "
          ]
        }
      ],
      "source": [
        "#Build model\n",
        "als = ALS(userCol=\"user_number\", itemCol=\"business_number\", ratingCol=\"review_stars\",\n",
        "          coldStartStrategy=\"drop\")\n",
        "\n",
        "#Tune parameters; limited due to memory\n",
        "paramGrid = ParamGridBuilder() \\\n",
        "    .addGrid(als.rank, [10, 15]) \\\n",
        "    .addGrid(als.maxIter, [5, 10]) \\\n",
        "    .addGrid(als.regParam, [0.01, 0.1, 1.0]) \\\n",
        "    .build()\n",
        "\n",
        "evaluator = RegressionEvaluator(metricName=\"rmse\", labelCol=\"review_stars\", predictionCol=\"prediction\")\n",
        "\n",
        "crossval = CrossValidator(estimator=als,\n",
        "                          estimatorParamMaps=paramGrid,\n",
        "                          evaluator=evaluator,\n",
        "                          numFolds=5)\n",
        "\n",
        "cvModel = crossval.fit(train_data)"
      ]
    },
    {
      "cell_type": "code",
      "source": [
        "best_model = cvModel.bestModel\n",
        "best_rank = best_model.rank\n",
        "best_max_iter = best_model._java_obj.parent().getMaxIter()\n",
        "best_reg_param = best_model._java_obj.parent().getRegParam()"
      ],
      "metadata": {
        "id": "pFd9oI3eQQA-"
      },
      "id": "pFd9oI3eQQA-",
      "execution_count": null,
      "outputs": []
    },
    {
      "cell_type": "code",
      "execution_count": null,
      "id": "0900d360",
      "metadata": {
        "id": "0900d360"
      },
      "outputs": [],
      "source": [
        "#Evaluate the best model\n",
        "predictions = cvModel.transform(test_data)\n",
        "rmse = evaluator.evaluate(predictions)\n",
        "print(\"Root Mean Squared Error (RMSE):\", rmse)"
      ]
    },
    {
      "cell_type": "code",
      "source": [
        "print(best_rank)\n",
        "print(best_max_iter)\n",
        "print(best_reg_param)"
      ],
      "metadata": {
        "id": "GN33l-OFWu1j"
      },
      "id": "GN33l-OFWu1j",
      "execution_count": null,
      "outputs": []
    },
    {
      "cell_type": "code",
      "execution_count": 27,
      "id": "236141b5",
      "metadata": {
        "id": "236141b5",
        "colab": {
          "base_uri": "https://localhost:8080/"
        },
        "outputId": "127774a7-f7ce-483a-8eb0-2e2211529352"
      },
      "outputs": [
        {
          "output_type": "stream",
          "name": "stdout",
          "text": [
            "Root Mean Squared Error (RMSE) = 2.339397800837598\n"
          ]
        }
      ],
      "source": [
        "#Extract/output/save the optimal parameters for the collaborative filtering model\n",
        "#Calculate recall\n",
        "\n",
        "rmse = evaluator.evaluate(predictions)\n",
        "print(\"Root Mean Squared Error (RMSE) =\", rmse)"
      ]
    },
    {
      "cell_type": "markdown",
      "source": [
        "# Content-Based"
      ],
      "metadata": {
        "id": "tppPZ0Ohhjkm"
      },
      "id": "tppPZ0Ohhjkm"
    },
    {
      "cell_type": "code",
      "source": [
        "final_reviews_drop.columns"
      ],
      "metadata": {
        "colab": {
          "base_uri": "https://localhost:8080/"
        },
        "id": "P1XLVDP1AxEB",
        "outputId": "3dde03f8-4e18-4e05-f1bd-e266a8c1b87b"
      },
      "id": "P1XLVDP1AxEB",
      "execution_count": 26,
      "outputs": [
        {
          "output_type": "execute_result",
          "data": {
            "text/plain": [
              "['user_id',\n",
              " 'user_number',\n",
              " 'average_stars',\n",
              " 'elite',\n",
              " 'fans',\n",
              " 'friends',\n",
              " 'user_name',\n",
              " 'user_review_count',\n",
              " 'yelping_since',\n",
              " 'business_id',\n",
              " 'name',\n",
              " 'city',\n",
              " 'state',\n",
              " 'stars',\n",
              " 'review_count',\n",
              " 'categories',\n",
              " 'WiFi',\n",
              " 'GoodForDancing',\n",
              " 'Smoking',\n",
              " 'RestaurantsReservations',\n",
              " 'RestaurantsPriceRange2',\n",
              " 'OutdoorSeating',\n",
              " 'RestaurantsAttire',\n",
              " 'HasTV',\n",
              " 'RestaurantsTakeOut',\n",
              " 'BusinessAcceptsCreditCards',\n",
              " 'Open24Hours',\n",
              " 'HappyHour',\n",
              " 'DriveThru',\n",
              " 'WheelchairAccessible',\n",
              " 'Corkage',\n",
              " 'Caters',\n",
              " 'Alcohol',\n",
              " 'DogsAllowed',\n",
              " 'NoiseLevel',\n",
              " 'RestaurantsGoodForGroups',\n",
              " 'RestaurantsTableService',\n",
              " 'BikeParking',\n",
              " 'RestaurantsDelivery',\n",
              " 'GoodForKids',\n",
              " 'Ambience_romantic',\n",
              " 'Ambience_casual',\n",
              " 'Ambience_trendy',\n",
              " 'Ambience_intimate',\n",
              " 'Ambience_hipster',\n",
              " 'Ambience_upscale',\n",
              " 'Ambience_divey',\n",
              " 'Ambience_touristy',\n",
              " 'Ambience_classy',\n",
              " 'BusinessParking_valet',\n",
              " 'BusinessParking_lot',\n",
              " 'BusinessParking_validated',\n",
              " 'BusinessParking_garage',\n",
              " 'BusinessParking_street',\n",
              " 'BestNights_sunday',\n",
              " 'BestNights_thursday',\n",
              " 'BestNights_monday',\n",
              " 'BestNights_wednesday',\n",
              " 'BestNights_saturday',\n",
              " 'BestNights_friday',\n",
              " 'BestNights_tuesday',\n",
              " 'GoodForMeal_lunch',\n",
              " 'GoodForMeal_brunch',\n",
              " 'GoodForMeal_dinner',\n",
              " 'GoodForMeal_latenight',\n",
              " 'GoodForMeal_dessert',\n",
              " 'GoodForMeal_breakfast',\n",
              " 'Music_no_music',\n",
              " 'Music_dj',\n",
              " 'Music_live',\n",
              " 'Music_karaoke',\n",
              " 'Music_video',\n",
              " 'Music_background_music',\n",
              " 'Music_jukebox',\n",
              " 'hours_Wednesday',\n",
              " 'hours_Tuesday',\n",
              " 'hours_Friday',\n",
              " 'hours_Thursday',\n",
              " 'hours_Saturday',\n",
              " 'hours_Monday',\n",
              " 'hours_Sunday',\n",
              " 'business_number',\n",
              " 'review_id',\n",
              " 'date',\n",
              " 'review_stars']"
            ]
          },
          "metadata": {},
          "execution_count": 26
        }
      ]
    },
    {
      "cell_type": "code",
      "source": [
        "import pandas as pd\n",
        "from pyspark.ml import Pipeline\n",
        "from pyspark.ml.feature import StringIndexer, OneHotEncoder, VectorAssembler, Normalizer\n",
        "from pyspark.sql.window import Window\n",
        "\n",
        "# Filter only for 4+ reviews in training data\n",
        "review_4 = train_data.filter(func.col(\"review_stars\") >= 4)"
      ],
      "metadata": {
        "id": "_hm9i02XhlD3"
      },
      "id": "_hm9i02XhlD3",
      "execution_count": 21,
      "outputs": []
    },
    {
      "cell_type": "code",
      "source": [
        "to_num = [\"friends\",\"RestaurantsPriceRange2\"]\n",
        "to_bool = [\"GoodForDancing\",\"RestaurantsReservations\",\"OutdoorSeating\",\"HasTV\",\"RestaurantsTakeOut\",\"BusinessAcceptsCreditCards\",\"Open24Hours\",\"HappyHour\",\n",
        "           \"DriveThru\",\"WheelchairAccessible\",\"Corkage\",\"Caters\",\"DogsAllowed\",\"RestaurantsGoodForGroups\",\"RestaurantsTableService\",\"BikeParking\",\"RestaurantsDelivery\",\"GoodForKids\"]\n",
        "#Convert to int\n",
        "for c in to_num:\n",
        "    review_4 = review_4.withColumn(c, func.col(c).cast(\"int\"))\n",
        "\n",
        "# Convert to boolean\n",
        "for c in to_bool:\n",
        "    review_4 = review_4.withColumn(c, func.when(func.col(c) == \"True\", True).otherwise(False))"
      ],
      "metadata": {
        "id": "85LALmZrdjQc"
      },
      "id": "85LALmZrdjQc",
      "execution_count": 28,
      "outputs": []
    },
    {
      "cell_type": "code",
      "source": [
        "# Define input columns for each type\n",
        "string_columns = ['categories', 'city', 'WiFi', 'RestaurantsAttire', 'Alcohol', 'NoiseLevel']\n",
        "numeric_columns = ['stars','review_count','RestaurantsPriceRange2']\n",
        "boolean_columns = ['Ambience_romantic',\n",
        "    'Ambience_casual',\n",
        "    'Ambience_trendy',\n",
        "    'Ambience_intimate',\n",
        "    'Ambience_hipster',\n",
        "    'Ambience_upscale',\n",
        "    'Ambience_divey',\n",
        "    'Ambience_touristy',\n",
        "    'Ambience_classy',\n",
        "    'BusinessParking_valet',\n",
        "    'BusinessParking_lot',\n",
        "    'BusinessParking_validated',\n",
        "    'BusinessParking_garage',\n",
        "    'BusinessParking_street',\n",
        "    'BestNights_sunday',\n",
        "    'BestNights_thursday',\n",
        "    'BestNights_monday',\n",
        "    'BestNights_wednesday',\n",
        "    'BestNights_saturday',\n",
        "    'BestNights_friday',\n",
        "    'BestNights_tuesday',\n",
        "    'GoodForMeal_lunch',\n",
        "    'GoodForMeal_brunch',\n",
        "    'GoodForMeal_dinner',\n",
        "    'GoodForMeal_latenight',\n",
        "    'GoodForMeal_dessert',\n",
        "    'GoodForMeal_breakfast',\n",
        "    'Music_no_music',\n",
        "    'Music_dj',\n",
        "    'Music_live',\n",
        "    'Music_karaoke',\n",
        "    'Music_video',\n",
        "    'Music_background_music',\n",
        "    'Music_jukebox',\n",
        "    'GoodForDancing','RestaurantsReservations','OutdoorSeating','HasTV','RestaurantsTakeOut','BusinessAcceptsCreditCards','Open24Hours','HappyHour','DriveThru',\n",
        "    'WheelchairAccessible','Corkage','Caters','DogsAllowed','RestaurantsGoodForGroups','RestaurantsTableService','BikeParking','RestaurantsDelivery','GoodForKids']\n",
        "\n",
        "# String feature encoding\n",
        "string_indexers = [StringIndexer(inputCol=col, outputCol=col+\"_indexed\") for col in string_columns]\n",
        "model = string_indexers.fit(review_4)\n",
        "indexed_df = model.transform(review_4)\n",
        "\n",
        "# One-hot encoding for string features\n",
        "encoder = OneHotEncoder(inputCols=[col+\"_indexed\" for col in string_columns],\n",
        "                        outputCols=[col+\"_encoded\" for col in string_columns])\n",
        "\n",
        "# VectorAssembler for numeric columns\n",
        "numeric_assembler = VectorAssembler(inputCols=numeric_columns,\n",
        "                                    outputCol=\"numeric_features\", handleInvalid=\"keep\")\n",
        "\n",
        "# Normalizer for numeric features\n",
        "normalizer = Normalizer(inputCol=\"numeric_features\", outputCol=\"normalized_numeric_features\")\n",
        "\n",
        "# VectorAssembler for all features\n",
        "assembler = VectorAssembler(inputCols=[\"normalized_numeric_features\"] + boolean_columns + [col+\"_encoded\" for col in string_columns],\n",
        "                            outputCol=\"features\",handleInvalid=\"keep\")\n",
        "\n",
        "# Define pipeline\n",
        "stages = string_indexers + [encoder, numeric_assembler, normalizer, assembler]\n",
        "pipeline = Pipeline(stages=stages)"
      ],
      "metadata": {
        "id": "HdPZcuKF-qWp"
      },
      "id": "HdPZcuKF-qWp",
      "execution_count": 38,
      "outputs": []
    },
    {
      "cell_type": "code",
      "source": [
        "# Fit and transform the pipeline\n",
        "review_limit = review_4.limit(1000)\n",
        "model = pipeline.fit(review_limit)\n",
        "transformed_df = model.transform(review_limit)\n",
        "\n",
        "# Compute Cartesian product to get all pairs of businesses\n",
        "cartesian_df = transformed_df.crossJoin(transformed_df.withColumnRenamed(\"business_id\", \"business_id2\").withColumnRenamed(\"features\", \"features2\"))\n",
        "\n",
        "# Compute dot product of normalized feature vectors\n",
        "dot_udf = func.udf(lambda x, y: float(x.dot(y)), \"double\")\n",
        "dot_product_df = cartesian_df.withColumn(\"dot_product\", dot_udf(\"features\", \"features2\"))\n",
        "\n",
        "# Compute magnitudes of feature vectors\n",
        "magnitude_udf = func.udf(lambda x: float(x.norm(2)), \"double\")\n",
        "magnitude_df = dot_product_df.withColumn(\"magnitude\", magnitude_udf(\"features\")) \\\n",
        "    .withColumn(\"magnitude2\", magnitude_udf(\"features2\"))\n",
        "\n",
        "# Compute cosine similarity\n",
        "cosine_similarity_df = magnitude_df.withColumn(\"cosine_similarity\",\n",
        "                                               func.col(\"dot_product\") / (func.col(\"magnitude\") * func.col(\"magnitude2\")))\n",
        "\n",
        "# Rank items by cosine similarity within each group (item)\n",
        "window = Window.partitionBy(\"business_id\").orderBy(func.col(\"cosine_similarity\").desc())\n",
        "\n",
        "# Select top N similar items\n",
        "similarity_threshold = 0.6\n",
        "top_similar_items = cosine_similarity_df \\\n",
        "    .filter(func.col(\"business_id\") != func.col(\"business_id2\")) \\\n",
        "    .select(\"business_id\", \"business_id2\", \"cosine_similarity\", func.row_number().over(window).alias(\"rank\")) \\\n",
        "    .where(func.col(\"cosine_similarity\") >= similarity_threshold)\n",
        "\n"
      ],
      "metadata": {
        "id": "ERvSII2TB9I2"
      },
      "id": "ERvSII2TB9I2",
      "execution_count": 39,
      "outputs": []
    },
    {
      "cell_type": "code",
      "source": [
        "# Show the recommendations\n",
        "top_similar_items.show()"
      ],
      "metadata": {
        "colab": {
          "base_uri": "https://localhost:8080/",
          "height": 1000
        },
        "id": "RysDypD6otkD",
        "outputId": "fa2edb4e-de5b-493d-cc76-cadc15003e4a"
      },
      "id": "RysDypD6otkD",
      "execution_count": 40,
      "outputs": [
        {
          "output_type": "error",
          "ename": "Py4JJavaError",
          "evalue": "An error occurred while calling o2894.showString.\n: org.apache.spark.SparkException: Job aborted due to stage failure: Task 0 in stage 1665.0 failed 1 times, most recent failure: Lost task 0.0 in stage 1665.0 (TID 4583) (9843ae8c7541 executor driver): org.apache.spark.SparkException: [FAILED_EXECUTE_UDF] Failed to execute user defined function (`StringIndexerModel$$Lambda$4768/0x00000008418e0840`: (string) => double).\n\tat org.apache.spark.sql.errors.QueryExecutionErrors$.failedExecuteUserDefinedFunctionError(QueryExecutionErrors.scala:198)\n\tat org.apache.spark.sql.errors.QueryExecutionErrors.failedExecuteUserDefinedFunctionError(QueryExecutionErrors.scala)\n\tat org.apache.spark.sql.catalyst.expressions.GeneratedClass$GeneratedIteratorForCodegenStage75.processNext(Unknown Source)\n\tat org.apache.spark.sql.execution.BufferedRowIterator.hasNext(BufferedRowIterator.java:43)\n\tat org.apache.spark.sql.execution.WholeStageCodegenEvaluatorFactory$WholeStageCodegenPartitionEvaluator$$anon$1.hasNext(WholeStageCodegenEvaluatorFactory.scala:43)\n\tat org.apache.spark.sql.execution.SparkPlan.$anonfun$getByteArrayRdd$1(SparkPlan.scala:388)\n\tat org.apache.spark.rdd.RDD.$anonfun$mapPartitionsInternal$2(RDD.scala:893)\n\tat org.apache.spark.rdd.RDD.$anonfun$mapPartitionsInternal$2$adapted(RDD.scala:893)\n\tat org.apache.spark.rdd.MapPartitionsRDD.compute(MapPartitionsRDD.scala:52)\n\tat org.apache.spark.rdd.RDD.computeOrReadCheckpoint(RDD.scala:367)\n\tat org.apache.spark.rdd.RDD.iterator(RDD.scala:331)\n\tat org.apache.spark.scheduler.ResultTask.runTask(ResultTask.scala:93)\n\tat org.apache.spark.TaskContext.runTaskWithListeners(TaskContext.scala:166)\n\tat org.apache.spark.scheduler.Task.run(Task.scala:141)\n\tat org.apache.spark.executor.Executor$TaskRunner.$anonfun$run$4(Executor.scala:620)\n\tat org.apache.spark.util.SparkErrorUtils.tryWithSafeFinally(SparkErrorUtils.scala:64)\n\tat org.apache.spark.util.SparkErrorUtils.tryWithSafeFinally$(SparkErrorUtils.scala:61)\n\tat org.apache.spark.util.Utils$.tryWithSafeFinally(Utils.scala:94)\n\tat org.apache.spark.executor.Executor$TaskRunner.run(Executor.scala:623)\n\tat java.base/java.util.concurrent.ThreadPoolExecutor.runWorker(ThreadPoolExecutor.java:1128)\n\tat java.base/java.util.concurrent.ThreadPoolExecutor$Worker.run(ThreadPoolExecutor.java:628)\n\tat java.base/java.lang.Thread.run(Thread.java:829)\nCaused by: org.apache.spark.SparkException: StringIndexer encountered NULL value. To handle or skip NULLS, try setting StringIndexer.handleInvalid.\n\tat org.apache.spark.ml.feature.StringIndexerModel.$anonfun$getIndexer$1(StringIndexer.scala:396)\n\tat org.apache.spark.ml.feature.StringIndexerModel.$anonfun$getIndexer$1$adapted(StringIndexer.scala:391)\n\t... 20 more\n\nDriver stacktrace:\n\tat org.apache.spark.scheduler.DAGScheduler.failJobAndIndependentStages(DAGScheduler.scala:2856)\n\tat org.apache.spark.scheduler.DAGScheduler.$anonfun$abortStage$2(DAGScheduler.scala:2792)\n\tat org.apache.spark.scheduler.DAGScheduler.$anonfun$abortStage$2$adapted(DAGScheduler.scala:2791)\n\tat scala.collection.mutable.ResizableArray.foreach(ResizableArray.scala:62)\n\tat scala.collection.mutable.ResizableArray.foreach$(ResizableArray.scala:55)\n\tat scala.collection.mutable.ArrayBuffer.foreach(ArrayBuffer.scala:49)\n\tat org.apache.spark.scheduler.DAGScheduler.abortStage(DAGScheduler.scala:2791)\n\tat org.apache.spark.scheduler.DAGScheduler.$anonfun$handleTaskSetFailed$1(DAGScheduler.scala:1247)\n\tat org.apache.spark.scheduler.DAGScheduler.$anonfun$handleTaskSetFailed$1$adapted(DAGScheduler.scala:1247)\n\tat scala.Option.foreach(Option.scala:407)\n\tat org.apache.spark.scheduler.DAGScheduler.handleTaskSetFailed(DAGScheduler.scala:1247)\n\tat org.apache.spark.scheduler.DAGSchedulerEventProcessLoop.doOnReceive(DAGScheduler.scala:3060)\n\tat org.apache.spark.scheduler.DAGSchedulerEventProcessLoop.onReceive(DAGScheduler.scala:2994)\n\tat org.apache.spark.scheduler.DAGSchedulerEventProcessLoop.onReceive(DAGScheduler.scala:2983)\n\tat org.apache.spark.util.EventLoop$$anon$1.run(EventLoop.scala:49)\n\tat org.apache.spark.scheduler.DAGScheduler.runJob(DAGScheduler.scala:989)\n\tat org.apache.spark.SparkContext.runJob(SparkContext.scala:2398)\n\tat org.apache.spark.SparkContext.runJob(SparkContext.scala:2419)\n\tat org.apache.spark.SparkContext.runJob(SparkContext.scala:2438)\n\tat org.apache.spark.SparkContext.runJob(SparkContext.scala:2463)\n\tat org.apache.spark.rdd.RDD.$anonfun$collect$1(RDD.scala:1049)\n\tat org.apache.spark.rdd.RDDOperationScope$.withScope(RDDOperationScope.scala:151)\n\tat org.apache.spark.rdd.RDDOperationScope$.withScope(RDDOperationScope.scala:112)\n\tat org.apache.spark.rdd.RDD.withScope(RDD.scala:410)\n\tat org.apache.spark.rdd.RDD.collect(RDD.scala:1048)\n\tat org.apache.spark.sql.execution.SparkPlan.executeCollectIterator(SparkPlan.scala:455)\n\tat org.apache.spark.sql.execution.exchange.BroadcastExchangeExec.$anonfun$relationFuture$1(BroadcastExchangeExec.scala:140)\n\tat org.apache.spark.sql.execution.SQLExecution$.$anonfun$withThreadLocalCaptured$2(SQLExecution.scala:224)\n\tat org.apache.spark.JobArtifactSet$.withActiveJobArtifactState(JobArtifactSet.scala:94)\n\tat org.apache.spark.sql.execution.SQLExecution$.$anonfun$withThreadLocalCaptured$1(SQLExecution.scala:219)\n\tat java.base/java.util.concurrent.FutureTask.run(FutureTask.java:264)\n\tat java.base/java.util.concurrent.ThreadPoolExecutor.runWorker(ThreadPoolExecutor.java:1128)\n\tat java.base/java.util.concurrent.ThreadPoolExecutor$Worker.run(ThreadPoolExecutor.java:628)\n\tat java.base/java.lang.Thread.run(Thread.java:829)\nCaused by: org.apache.spark.SparkException: [FAILED_EXECUTE_UDF] Failed to execute user defined function (`StringIndexerModel$$Lambda$4768/0x00000008418e0840`: (string) => double).\n\tat org.apache.spark.sql.errors.QueryExecutionErrors$.failedExecuteUserDefinedFunctionError(QueryExecutionErrors.scala:198)\n\tat org.apache.spark.sql.errors.QueryExecutionErrors.failedExecuteUserDefinedFunctionError(QueryExecutionErrors.scala)\n\tat org.apache.spark.sql.catalyst.expressions.GeneratedClass$GeneratedIteratorForCodegenStage75.processNext(Unknown Source)\n\tat org.apache.spark.sql.execution.BufferedRowIterator.hasNext(BufferedRowIterator.java:43)\n\tat org.apache.spark.sql.execution.WholeStageCodegenEvaluatorFactory$WholeStageCodegenPartitionEvaluator$$anon$1.hasNext(WholeStageCodegenEvaluatorFactory.scala:43)\n\tat org.apache.spark.sql.execution.SparkPlan.$anonfun$getByteArrayRdd$1(SparkPlan.scala:388)\n\tat org.apache.spark.rdd.RDD.$anonfun$mapPartitionsInternal$2(RDD.scala:893)\n\tat org.apache.spark.rdd.RDD.$anonfun$mapPartitionsInternal$2$adapted(RDD.scala:893)\n\tat org.apache.spark.rdd.MapPartitionsRDD.compute(MapPartitionsRDD.scala:52)\n\tat org.apache.spark.rdd.RDD.computeOrReadCheckpoint(RDD.scala:367)\n\tat org.apache.spark.rdd.RDD.iterator(RDD.scala:331)\n\tat org.apache.spark.scheduler.ResultTask.runTask(ResultTask.scala:93)\n\tat org.apache.spark.TaskContext.runTaskWithListeners(TaskContext.scala:166)\n\tat org.apache.spark.scheduler.Task.run(Task.scala:141)\n\tat org.apache.spark.executor.Executor$TaskRunner.$anonfun$run$4(Executor.scala:620)\n\tat org.apache.spark.util.SparkErrorUtils.tryWithSafeFinally(SparkErrorUtils.scala:64)\n\tat org.apache.spark.util.SparkErrorUtils.tryWithSafeFinally$(SparkErrorUtils.scala:61)\n\tat org.apache.spark.util.Utils$.tryWithSafeFinally(Utils.scala:94)\n\tat org.apache.spark.executor.Executor$TaskRunner.run(Executor.scala:623)\n\t... 3 more\nCaused by: org.apache.spark.SparkException: StringIndexer encountered NULL value. To handle or skip NULLS, try setting StringIndexer.handleInvalid.\n\tat org.apache.spark.ml.feature.StringIndexerModel.$anonfun$getIndexer$1(StringIndexer.scala:396)\n\tat org.apache.spark.ml.feature.StringIndexerModel.$anonfun$getIndexer$1$adapted(StringIndexer.scala:391)\n\t... 20 more\n",
          "traceback": [
            "\u001b[0;31m---------------------------------------------------------------------------\u001b[0m",
            "\u001b[0;31mPy4JJavaError\u001b[0m                             Traceback (most recent call last)",
            "\u001b[0;32m<ipython-input-40-95c1b9b8f0d5>\u001b[0m in \u001b[0;36m<cell line: 2>\u001b[0;34m()\u001b[0m\n\u001b[1;32m      1\u001b[0m \u001b[0;31m# Show the recommendations\u001b[0m\u001b[0;34m\u001b[0m\u001b[0;34m\u001b[0m\u001b[0m\n\u001b[0;32m----> 2\u001b[0;31m \u001b[0mtop_similar_items\u001b[0m\u001b[0;34m.\u001b[0m\u001b[0mshow\u001b[0m\u001b[0;34m(\u001b[0m\u001b[0;34m)\u001b[0m\u001b[0;34m\u001b[0m\u001b[0;34m\u001b[0m\u001b[0m\n\u001b[0m",
            "\u001b[0;32m/usr/local/lib/python3.10/dist-packages/pyspark/sql/dataframe.py\u001b[0m in \u001b[0;36mshow\u001b[0;34m(self, n, truncate, vertical)\u001b[0m\n\u001b[1;32m    943\u001b[0m         \u001b[0mname\u001b[0m \u001b[0;34m|\u001b[0m \u001b[0mBob\u001b[0m\u001b[0;34m\u001b[0m\u001b[0;34m\u001b[0m\u001b[0m\n\u001b[1;32m    944\u001b[0m         \"\"\"\n\u001b[0;32m--> 945\u001b[0;31m         \u001b[0mprint\u001b[0m\u001b[0;34m(\u001b[0m\u001b[0mself\u001b[0m\u001b[0;34m.\u001b[0m\u001b[0m_show_string\u001b[0m\u001b[0;34m(\u001b[0m\u001b[0mn\u001b[0m\u001b[0;34m,\u001b[0m \u001b[0mtruncate\u001b[0m\u001b[0;34m,\u001b[0m \u001b[0mvertical\u001b[0m\u001b[0;34m)\u001b[0m\u001b[0;34m)\u001b[0m\u001b[0;34m\u001b[0m\u001b[0;34m\u001b[0m\u001b[0m\n\u001b[0m\u001b[1;32m    946\u001b[0m \u001b[0;34m\u001b[0m\u001b[0m\n\u001b[1;32m    947\u001b[0m     def _show_string(\n",
            "\u001b[0;32m/usr/local/lib/python3.10/dist-packages/pyspark/sql/dataframe.py\u001b[0m in \u001b[0;36m_show_string\u001b[0;34m(self, n, truncate, vertical)\u001b[0m\n\u001b[1;32m    961\u001b[0m \u001b[0;34m\u001b[0m\u001b[0m\n\u001b[1;32m    962\u001b[0m         \u001b[0;32mif\u001b[0m \u001b[0misinstance\u001b[0m\u001b[0;34m(\u001b[0m\u001b[0mtruncate\u001b[0m\u001b[0;34m,\u001b[0m \u001b[0mbool\u001b[0m\u001b[0;34m)\u001b[0m \u001b[0;32mand\u001b[0m \u001b[0mtruncate\u001b[0m\u001b[0;34m:\u001b[0m\u001b[0;34m\u001b[0m\u001b[0;34m\u001b[0m\u001b[0m\n\u001b[0;32m--> 963\u001b[0;31m             \u001b[0;32mreturn\u001b[0m \u001b[0mself\u001b[0m\u001b[0;34m.\u001b[0m\u001b[0m_jdf\u001b[0m\u001b[0;34m.\u001b[0m\u001b[0mshowString\u001b[0m\u001b[0;34m(\u001b[0m\u001b[0mn\u001b[0m\u001b[0;34m,\u001b[0m \u001b[0;36m20\u001b[0m\u001b[0;34m,\u001b[0m \u001b[0mvertical\u001b[0m\u001b[0;34m)\u001b[0m\u001b[0;34m\u001b[0m\u001b[0;34m\u001b[0m\u001b[0m\n\u001b[0m\u001b[1;32m    964\u001b[0m         \u001b[0;32melse\u001b[0m\u001b[0;34m:\u001b[0m\u001b[0;34m\u001b[0m\u001b[0;34m\u001b[0m\u001b[0m\n\u001b[1;32m    965\u001b[0m             \u001b[0;32mtry\u001b[0m\u001b[0;34m:\u001b[0m\u001b[0;34m\u001b[0m\u001b[0;34m\u001b[0m\u001b[0m\n",
            "\u001b[0;32m/usr/local/lib/python3.10/dist-packages/py4j/java_gateway.py\u001b[0m in \u001b[0;36m__call__\u001b[0;34m(self, *args)\u001b[0m\n\u001b[1;32m   1320\u001b[0m \u001b[0;34m\u001b[0m\u001b[0m\n\u001b[1;32m   1321\u001b[0m         \u001b[0manswer\u001b[0m \u001b[0;34m=\u001b[0m \u001b[0mself\u001b[0m\u001b[0;34m.\u001b[0m\u001b[0mgateway_client\u001b[0m\u001b[0;34m.\u001b[0m\u001b[0msend_command\u001b[0m\u001b[0;34m(\u001b[0m\u001b[0mcommand\u001b[0m\u001b[0;34m)\u001b[0m\u001b[0;34m\u001b[0m\u001b[0;34m\u001b[0m\u001b[0m\n\u001b[0;32m-> 1322\u001b[0;31m         return_value = get_return_value(\n\u001b[0m\u001b[1;32m   1323\u001b[0m             answer, self.gateway_client, self.target_id, self.name)\n\u001b[1;32m   1324\u001b[0m \u001b[0;34m\u001b[0m\u001b[0m\n",
            "\u001b[0;32m/usr/local/lib/python3.10/dist-packages/pyspark/errors/exceptions/captured.py\u001b[0m in \u001b[0;36mdeco\u001b[0;34m(*a, **kw)\u001b[0m\n\u001b[1;32m    177\u001b[0m     \u001b[0;32mdef\u001b[0m \u001b[0mdeco\u001b[0m\u001b[0;34m(\u001b[0m\u001b[0;34m*\u001b[0m\u001b[0ma\u001b[0m\u001b[0;34m:\u001b[0m \u001b[0mAny\u001b[0m\u001b[0;34m,\u001b[0m \u001b[0;34m**\u001b[0m\u001b[0mkw\u001b[0m\u001b[0;34m:\u001b[0m \u001b[0mAny\u001b[0m\u001b[0;34m)\u001b[0m \u001b[0;34m->\u001b[0m \u001b[0mAny\u001b[0m\u001b[0;34m:\u001b[0m\u001b[0;34m\u001b[0m\u001b[0;34m\u001b[0m\u001b[0m\n\u001b[1;32m    178\u001b[0m         \u001b[0;32mtry\u001b[0m\u001b[0;34m:\u001b[0m\u001b[0;34m\u001b[0m\u001b[0;34m\u001b[0m\u001b[0m\n\u001b[0;32m--> 179\u001b[0;31m             \u001b[0;32mreturn\u001b[0m \u001b[0mf\u001b[0m\u001b[0;34m(\u001b[0m\u001b[0;34m*\u001b[0m\u001b[0ma\u001b[0m\u001b[0;34m,\u001b[0m \u001b[0;34m**\u001b[0m\u001b[0mkw\u001b[0m\u001b[0;34m)\u001b[0m\u001b[0;34m\u001b[0m\u001b[0;34m\u001b[0m\u001b[0m\n\u001b[0m\u001b[1;32m    180\u001b[0m         \u001b[0;32mexcept\u001b[0m \u001b[0mPy4JJavaError\u001b[0m \u001b[0;32mas\u001b[0m \u001b[0me\u001b[0m\u001b[0;34m:\u001b[0m\u001b[0;34m\u001b[0m\u001b[0;34m\u001b[0m\u001b[0m\n\u001b[1;32m    181\u001b[0m             \u001b[0mconverted\u001b[0m \u001b[0;34m=\u001b[0m \u001b[0mconvert_exception\u001b[0m\u001b[0;34m(\u001b[0m\u001b[0me\u001b[0m\u001b[0;34m.\u001b[0m\u001b[0mjava_exception\u001b[0m\u001b[0;34m)\u001b[0m\u001b[0;34m\u001b[0m\u001b[0;34m\u001b[0m\u001b[0m\n",
            "\u001b[0;32m/usr/local/lib/python3.10/dist-packages/py4j/protocol.py\u001b[0m in \u001b[0;36mget_return_value\u001b[0;34m(answer, gateway_client, target_id, name)\u001b[0m\n\u001b[1;32m    324\u001b[0m             \u001b[0mvalue\u001b[0m \u001b[0;34m=\u001b[0m \u001b[0mOUTPUT_CONVERTER\u001b[0m\u001b[0;34m[\u001b[0m\u001b[0mtype\u001b[0m\u001b[0;34m]\u001b[0m\u001b[0;34m(\u001b[0m\u001b[0manswer\u001b[0m\u001b[0;34m[\u001b[0m\u001b[0;36m2\u001b[0m\u001b[0;34m:\u001b[0m\u001b[0;34m]\u001b[0m\u001b[0;34m,\u001b[0m \u001b[0mgateway_client\u001b[0m\u001b[0;34m)\u001b[0m\u001b[0;34m\u001b[0m\u001b[0;34m\u001b[0m\u001b[0m\n\u001b[1;32m    325\u001b[0m             \u001b[0;32mif\u001b[0m \u001b[0manswer\u001b[0m\u001b[0;34m[\u001b[0m\u001b[0;36m1\u001b[0m\u001b[0;34m]\u001b[0m \u001b[0;34m==\u001b[0m \u001b[0mREFERENCE_TYPE\u001b[0m\u001b[0;34m:\u001b[0m\u001b[0;34m\u001b[0m\u001b[0;34m\u001b[0m\u001b[0m\n\u001b[0;32m--> 326\u001b[0;31m                 raise Py4JJavaError(\n\u001b[0m\u001b[1;32m    327\u001b[0m                     \u001b[0;34m\"An error occurred while calling {0}{1}{2}.\\n\"\u001b[0m\u001b[0;34m.\u001b[0m\u001b[0;34m\u001b[0m\u001b[0;34m\u001b[0m\u001b[0m\n\u001b[1;32m    328\u001b[0m                     format(target_id, \".\", name), value)\n",
            "\u001b[0;31mPy4JJavaError\u001b[0m: An error occurred while calling o2894.showString.\n: org.apache.spark.SparkException: Job aborted due to stage failure: Task 0 in stage 1665.0 failed 1 times, most recent failure: Lost task 0.0 in stage 1665.0 (TID 4583) (9843ae8c7541 executor driver): org.apache.spark.SparkException: [FAILED_EXECUTE_UDF] Failed to execute user defined function (`StringIndexerModel$$Lambda$4768/0x00000008418e0840`: (string) => double).\n\tat org.apache.spark.sql.errors.QueryExecutionErrors$.failedExecuteUserDefinedFunctionError(QueryExecutionErrors.scala:198)\n\tat org.apache.spark.sql.errors.QueryExecutionErrors.failedExecuteUserDefinedFunctionError(QueryExecutionErrors.scala)\n\tat org.apache.spark.sql.catalyst.expressions.GeneratedClass$GeneratedIteratorForCodegenStage75.processNext(Unknown Source)\n\tat org.apache.spark.sql.execution.BufferedRowIterator.hasNext(BufferedRowIterator.java:43)\n\tat org.apache.spark.sql.execution.WholeStageCodegenEvaluatorFactory$WholeStageCodegenPartitionEvaluator$$anon$1.hasNext(WholeStageCodegenEvaluatorFactory.scala:43)\n\tat org.apache.spark.sql.execution.SparkPlan.$anonfun$getByteArrayRdd$1(SparkPlan.scala:388)\n\tat org.apache.spark.rdd.RDD.$anonfun$mapPartitionsInternal$2(RDD.scala:893)\n\tat org.apache.spark.rdd.RDD.$anonfun$mapPartitionsInternal$2$adapted(RDD.scala:893)\n\tat org.apache.spark.rdd.MapPartitionsRDD.compute(MapPartitionsRDD.scala:52)\n\tat org.apache.spark.rdd.RDD.computeOrReadCheckpoint(RDD.scala:367)\n\tat org.apache.spark.rdd.RDD.iterator(RDD.scala:331)\n\tat org.apache.spark.scheduler.ResultTask.runTask(ResultTask.scala:93)\n\tat org.apache.spark.TaskContext.runTaskWithListeners(TaskContext.scala:166)\n\tat org.apache.spark.scheduler.Task.run(Task.scala:141)\n\tat org.apache.spark.executor.Executor$TaskRunner.$anonfun$run$4(Executor.scala:620)\n\tat org.apache.spark.util.SparkErrorUtils.tryWithSafeFinally(SparkErrorUtils.scala:64)\n\tat org.apache.spark.util.SparkErrorUtils.tryWithSafeFinally$(SparkErrorUtils.scala:61)\n\tat org.apache.spark.util.Utils$.tryWithSafeFinally(Utils.scala:94)\n\tat org.apache.spark.executor.Executor$TaskRunner.run(Executor.scala:623)\n\tat java.base/java.util.concurrent.ThreadPoolExecutor.runWorker(ThreadPoolExecutor.java:1128)\n\tat java.base/java.util.concurrent.ThreadPoolExecutor$Worker.run(ThreadPoolExecutor.java:628)\n\tat java.base/java.lang.Thread.run(Thread.java:829)\nCaused by: org.apache.spark.SparkException: StringIndexer encountered NULL value. To handle or skip NULLS, try setting StringIndexer.handleInvalid.\n\tat org.apache.spark.ml.feature.StringIndexerModel.$anonfun$getIndexer$1(StringIndexer.scala:396)\n\tat org.apache.spark.ml.feature.StringIndexerModel.$anonfun$getIndexer$1$adapted(StringIndexer.scala:391)\n\t... 20 more\n\nDriver stacktrace:\n\tat org.apache.spark.scheduler.DAGScheduler.failJobAndIndependentStages(DAGScheduler.scala:2856)\n\tat org.apache.spark.scheduler.DAGScheduler.$anonfun$abortStage$2(DAGScheduler.scala:2792)\n\tat org.apache.spark.scheduler.DAGScheduler.$anonfun$abortStage$2$adapted(DAGScheduler.scala:2791)\n\tat scala.collection.mutable.ResizableArray.foreach(ResizableArray.scala:62)\n\tat scala.collection.mutable.ResizableArray.foreach$(ResizableArray.scala:55)\n\tat scala.collection.mutable.ArrayBuffer.foreach(ArrayBuffer.scala:49)\n\tat org.apache.spark.scheduler.DAGScheduler.abortStage(DAGScheduler.scala:2791)\n\tat org.apache.spark.scheduler.DAGScheduler.$anonfun$handleTaskSetFailed$1(DAGScheduler.scala:1247)\n\tat org.apache.spark.scheduler.DAGScheduler.$anonfun$handleTaskSetFailed$1$adapted(DAGScheduler.scala:1247)\n\tat scala.Option.foreach(Option.scala:407)\n\tat org.apache.spark.scheduler.DAGScheduler.handleTaskSetFailed(DAGScheduler.scala:1247)\n\tat org.apache.spark.scheduler.DAGSchedulerEventProcessLoop.doOnReceive(DAGScheduler.scala:3060)\n\tat org.apache.spark.scheduler.DAGSchedulerEventProcessLoop.onReceive(DAGScheduler.scala:2994)\n\tat org.apache.spark.scheduler.DAGSchedulerEventProcessLoop.onReceive(DAGScheduler.scala:2983)\n\tat org.apache.spark.util.EventLoop$$anon$1.run(EventLoop.scala:49)\n\tat org.apache.spark.scheduler.DAGScheduler.runJob(DAGScheduler.scala:989)\n\tat org.apache.spark.SparkContext.runJob(SparkContext.scala:2398)\n\tat org.apache.spark.SparkContext.runJob(SparkContext.scala:2419)\n\tat org.apache.spark.SparkContext.runJob(SparkContext.scala:2438)\n\tat org.apache.spark.SparkContext.runJob(SparkContext.scala:2463)\n\tat org.apache.spark.rdd.RDD.$anonfun$collect$1(RDD.scala:1049)\n\tat org.apache.spark.rdd.RDDOperationScope$.withScope(RDDOperationScope.scala:151)\n\tat org.apache.spark.rdd.RDDOperationScope$.withScope(RDDOperationScope.scala:112)\n\tat org.apache.spark.rdd.RDD.withScope(RDD.scala:410)\n\tat org.apache.spark.rdd.RDD.collect(RDD.scala:1048)\n\tat org.apache.spark.sql.execution.SparkPlan.executeCollectIterator(SparkPlan.scala:455)\n\tat org.apache.spark.sql.execution.exchange.BroadcastExchangeExec.$anonfun$relationFuture$1(BroadcastExchangeExec.scala:140)\n\tat org.apache.spark.sql.execution.SQLExecution$.$anonfun$withThreadLocalCaptured$2(SQLExecution.scala:224)\n\tat org.apache.spark.JobArtifactSet$.withActiveJobArtifactState(JobArtifactSet.scala:94)\n\tat org.apache.spark.sql.execution.SQLExecution$.$anonfun$withThreadLocalCaptured$1(SQLExecution.scala:219)\n\tat java.base/java.util.concurrent.FutureTask.run(FutureTask.java:264)\n\tat java.base/java.util.concurrent.ThreadPoolExecutor.runWorker(ThreadPoolExecutor.java:1128)\n\tat java.base/java.util.concurrent.ThreadPoolExecutor$Worker.run(ThreadPoolExecutor.java:628)\n\tat java.base/java.lang.Thread.run(Thread.java:829)\nCaused by: org.apache.spark.SparkException: [FAILED_EXECUTE_UDF] Failed to execute user defined function (`StringIndexerModel$$Lambda$4768/0x00000008418e0840`: (string) => double).\n\tat org.apache.spark.sql.errors.QueryExecutionErrors$.failedExecuteUserDefinedFunctionError(QueryExecutionErrors.scala:198)\n\tat org.apache.spark.sql.errors.QueryExecutionErrors.failedExecuteUserDefinedFunctionError(QueryExecutionErrors.scala)\n\tat org.apache.spark.sql.catalyst.expressions.GeneratedClass$GeneratedIteratorForCodegenStage75.processNext(Unknown Source)\n\tat org.apache.spark.sql.execution.BufferedRowIterator.hasNext(BufferedRowIterator.java:43)\n\tat org.apache.spark.sql.execution.WholeStageCodegenEvaluatorFactory$WholeStageCodegenPartitionEvaluator$$anon$1.hasNext(WholeStageCodegenEvaluatorFactory.scala:43)\n\tat org.apache.spark.sql.execution.SparkPlan.$anonfun$getByteArrayRdd$1(SparkPlan.scala:388)\n\tat org.apache.spark.rdd.RDD.$anonfun$mapPartitionsInternal$2(RDD.scala:893)\n\tat org.apache.spark.rdd.RDD.$anonfun$mapPartitionsInternal$2$adapted(RDD.scala:893)\n\tat org.apache.spark.rdd.MapPartitionsRDD.compute(MapPartitionsRDD.scala:52)\n\tat org.apache.spark.rdd.RDD.computeOrReadCheckpoint(RDD.scala:367)\n\tat org.apache.spark.rdd.RDD.iterator(RDD.scala:331)\n\tat org.apache.spark.scheduler.ResultTask.runTask(ResultTask.scala:93)\n\tat org.apache.spark.TaskContext.runTaskWithListeners(TaskContext.scala:166)\n\tat org.apache.spark.scheduler.Task.run(Task.scala:141)\n\tat org.apache.spark.executor.Executor$TaskRunner.$anonfun$run$4(Executor.scala:620)\n\tat org.apache.spark.util.SparkErrorUtils.tryWithSafeFinally(SparkErrorUtils.scala:64)\n\tat org.apache.spark.util.SparkErrorUtils.tryWithSafeFinally$(SparkErrorUtils.scala:61)\n\tat org.apache.spark.util.Utils$.tryWithSafeFinally(Utils.scala:94)\n\tat org.apache.spark.executor.Executor$TaskRunner.run(Executor.scala:623)\n\t... 3 more\nCaused by: org.apache.spark.SparkException: StringIndexer encountered NULL value. To handle or skip NULLS, try setting StringIndexer.handleInvalid.\n\tat org.apache.spark.ml.feature.StringIndexerModel.$anonfun$getIndexer$1(StringIndexer.scala:396)\n\tat org.apache.spark.ml.feature.StringIndexerModel.$anonfun$getIndexer$1$adapted(StringIndexer.scala:391)\n\t... 20 more\n"
          ]
        }
      ]
    },
    {
      "cell_type": "code",
      "source": [
        "def get_recall(ground_truth_df, recommended_df, user_col, item_col):\n",
        "    # Join ground truth and recommended items on user ID\n",
        "    joined_df = ground_truth_df.join(recommended_df, on=user_col)\n",
        "\n",
        "    # Count the number of relevant recommended items and total relevant items for each user\n",
        "    relevant_recommended_items = joined_df.filter(func.col(item_col + \"_ground_truth\") == func.col(item_col))\n",
        "    total_relevant_items = ground_truth_df.groupBy(user_col).count()\n",
        "\n",
        "    # Compute recall for each user\n",
        "    recall_df = relevant_recommended_items.groupBy(user_col).count().withColumnRenamed(\"count\", \"relevant_count\") \\\n",
        "        .join(total_relevant_items, on=user_col)\n",
        "    recall_df = recall_df.withColumn(\"recall\", func.col(\"relevant_count\") / func.col(\"count\"))\n",
        "\n",
        "    # Average recall across all users\n",
        "    average_recall = recall_df.selectExpr(\"avg(recall)\").collect()[0][0]\n",
        "\n",
        "    return average_recall\n",
        "\n",
        "#Define ground truth and recommended df\n",
        "ground_truth_df = test_data.select(\"user_id\", \"business_id\")\n",
        "recommended_df = ground_truth_df.join(top_similar_items, on=\"business_id\", how=\"left\").select(\"user_id\",'business_id2').withColumnRenamed(\"business_id2\", \"business_id\")\n",
        "#Don't trust Haley's definition of recommended_df above; working on it rn\n",
        "\n",
        "# Calculate recall\n",
        "recall = get_recall(ground_truth_df, recommended_df, \"user_id\", \"business_id\")\n",
        "print(\"Recall:\", recall)"
      ],
      "metadata": {
        "id": "Dd0gKnnItTO2"
      },
      "id": "Dd0gKnnItTO2",
      "execution_count": null,
      "outputs": []
    },
    {
      "cell_type": "markdown",
      "id": "5d163a15",
      "metadata": {
        "id": "5d163a15"
      },
      "source": [
        "#Do we want to do the content-based? If we're able to process review text, could maybe do key word trends / sentiment analysis as part of it\n",
        "\n",
        "Not sure if we have enough information on the business to make informed decision - need to unnest some of the data because all my fields are captured under attributes. If we have enough attributes, can do content-based and knn to find \"similar\" restaurants\n",
        "\n",
        "Have issues with memory on my computer for the model fitting... Didn't try to do CV because it's already struggling\n",
        "\n",
        "If we use attributes, use PCA to cut down dimensions"
      ]
    },
    {
      "cell_type": "markdown",
      "id": "72b7e044",
      "metadata": {
        "id": "72b7e044"
      },
      "source": [
        "Try to run in Google Colab\n",
        "\n",
        "Content-based with text analysis of reviews (TFIDF)\n",
        "\n",
        "Content-based with attributes unnested\n",
        "\n",
        "Schedule\n",
        "\n",
        "Step 1: Dataset Overview\n",
        "The Yelp dataset includes several types of information, but for our content-based system, we'll focus on:\n",
        "Businesses: Information about individual businesses, including their categories (e.g., restaurants, bars).\n",
        "Reviews: Textual reviews written by users for businesses.\n",
        "Step 2: Data Preprocessing\n",
        "Filter Restaurants: From the businesses data, filter out to keep only those in the 'Restaurants' category.\n",
        "Aggregate Reviews: For each restaurant, aggregate all its reviews into a single text document. This creates a comprehensive text representation of each restaurant's reviews.\n",
        "Text Preprocessing: Clean and preprocess the aggregated review texts for each restaurant. This involves steps like converting to lowercase, removing punctuation and stop words, and possibly stemming or lemmatization.\n",
        "Step 3: Feature Extraction\n",
        "TF-IDF: Apply Term Frequency-Inverse Document Frequency (TF-IDF) vectorization to the preprocessed review texts. This converts the textual data into a numerical format that captures the importance of words in relation to the document they appear in and the entire corpus of review texts. The result is a sparse matrix where each row represents a restaurant and each column represents a term's TF-IDF score.\n",
        "Step 4: User Profile Creation\n",
        "Identify User Preferences: For the target user, identify a set of restaurants they have rated highly or reviewed positively.\n",
        "Aggregate Preferred Reviews: Aggregate the review texts of these preferred restaurants to create a \"preference profile\" for the user. This text represents the kind of language and themes the user appears to favor in their preferred dining experiences.\n",
        "Vectorize User Profile: Apply the same TF-IDF vectorization used on the restaurant reviews to this aggregated preference profile text. This results in a TF-IDF vector representing the user's preferences.\n",
        "Step 5: Recommendation Generation\n",
        "Calculate Similarity: Compute the similarity between the user's preference vector and each restaurant's TF-IDF vector. This can be done using cosine similarity, which measures the cosine of the angle between two vectors, providing a similarity score between 0 and 1.\n",
        "Rank Restaurants: Rank the restaurants based on their similarity scores relative to the user's preference vector. Higher scores indicate a closer match to the user's preferences as inferred from their favored reviews.\n",
        "Step 6: Provide Recommendations\n",
        "Select Top-N: Select the top N restaurants with the highest similarity scores. These are the system's recommendations to the user, as they are the most similar to the user's expressed preferences based on past reviews.\n",
        "Example Output\n",
        "Assume our target user has shown a preference for restaurants with words like \"cozy\", \"artisanal coffee\", and \"homemade pastries\" frequently appearing in their positive reviews. The system might recommend restaurants whose aggregated reviews also frequently mention these terms, indicating a potential match in ambiance and offerings.\n",
        "Considerations\n",
        "Performance: Depending on the size of the dataset, steps like TF-IDF vectorization and similarity calculation can be computationally expensive. Techniques like dimensionality reduction or efficient similarity search algorithms can help mitigate this.\n",
        "Cold Start Problem: New users or restaurants without sufficient reviews pose a challenge, as there's little data to base recommendations on. Hybrid approaches or content-based features not reliant on user interaction can help address this.\n",
        "Diversity and Serendipity: Pure content-based systems might over-specialize in recommending items too similar to what the user has already experienced. Incorporating elements to introduce diversity and serendipity can enhance user satisfaction."
      ]
    },
    {
      "cell_type": "markdown",
      "id": "689fa0d9",
      "metadata": {
        "id": "689fa0d9"
      },
      "source": [
        "Performance - Use recall for content-based AND collaborative filtering; we also have RMSE\n",
        "\n",
        "\n",
        "Content-based filtering is a recommendation technique that utilizes information about the items themselves to make recommendations. When evaluating the performance of a content-based filtering system, you can use various metrics to assess its effectiveness. Here are some common performance metrics for content-based filtering:\n",
        "\n",
        "Precision and Recall: Precision measures the proportion of recommended items that are relevant to the user, while recall measures the proportion of relevant items that are recommended to the user. These metrics are typically calculated at different levels, such as precision@k and recall@k, where k is the number of recommended items.\n",
        "\n",
        "F1 Score: The F1 score is the harmonic mean of precision and recall and provides a single metric that balances both precision and recall. It's calculated as\n",
        "2\n",
        "×\n",
        "Precision\n",
        "×\n",
        "Recall\n",
        "Precision\n",
        "+\n",
        "Recall\n",
        "2×\n",
        "Precision+Recall\n",
        "Precision×Recall\n",
        "​\n",
        " .\n",
        "\n",
        "Mean Average Precision (MAP): MAP measures the average precision across all users. It considers both the relevance of recommended items and their rank in the list of recommendations.\n",
        "\n",
        "Normalized Discounted Cumulative Gain (NDCG): NDCG evaluates the ranking quality of recommended items by considering both relevance and rank. It penalizes items that are ranked lower in the list of recommendations.\n",
        "\n",
        "Mean Reciprocal Rank (MRR): MRR measures the average rank of the first relevant item in the list of recommendations. It provides an indication of how quickly relevant items are found.\n",
        "\n",
        "Coverage: Coverage measures the proportion of items in the catalog that are recommended to at least one user. It provides insights into the diversity of recommendations.\n",
        "\n",
        "Novelty: Novelty measures the degree to which recommended items are different from those that the user has interacted with before. It helps ensure that recommendations introduce users to new and interesting items.\n",
        "\n",
        "User Satisfaction: User satisfaction can be assessed through user feedback, surveys, or other qualitative measures. It provides insights into whether users find the recommendations useful and relevant.\n",
        "\n",
        "When evaluating a content-based filtering system, it's essential to consider a combination of these metrics to gain a comprehensive understanding of its performance. Additionally, the choice of metrics may depend on the specific goals and characteristics of the recommendation system and the domain in which it operates."
      ]
    },
    {
      "cell_type": "markdown",
      "id": "c838d8f9",
      "metadata": {
        "id": "c838d8f9"
      },
      "source": [
        "Schedule\n",
        "Haley to commit data to GitHub for Daemon\n",
        "\n",
        "Due: Apr 27\n",
        "\n",
        "Try converting to parquet file first, but it might impact nested json\n",
        "\n",
        "Tues @ 9 PM EST - sync; have models ready with recall calculation for each model\n",
        "\n",
        "Paper (can start Wed and finish initial draft by Fri and final edits to submit Sat); do we want to meet Fri or Sat before submitting to review or just review / comment async?\n",
        "- Preprocessing\n",
        "  - Text analysis\n",
        "  - Train / test split\n",
        "- Analyze / compare results - does one model do better at recall for certain types of restaurants than the other; what about general performance (recall)\n"
      ]
    },
    {
      "cell_type": "code",
      "execution_count": null,
      "id": "c29c82f3",
      "metadata": {
        "id": "c29c82f3"
      },
      "outputs": [],
      "source": []
    }
  ],
  "metadata": {
    "kernelspec": {
      "display_name": "Python 3 (ipykernel)",
      "language": "python",
      "name": "python3"
    },
    "language_info": {
      "codemirror_mode": {
        "name": "ipython",
        "version": 3
      },
      "file_extension": ".py",
      "mimetype": "text/x-python",
      "name": "python",
      "nbconvert_exporter": "python",
      "pygments_lexer": "ipython3",
      "version": "3.7.15"
    },
    "colab": {
      "provenance": []
    }
  },
  "nbformat": 4,
  "nbformat_minor": 5
}