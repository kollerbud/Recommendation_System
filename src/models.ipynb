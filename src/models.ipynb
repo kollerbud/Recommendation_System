{
 "cells": [
  {
   "cell_type": "code",
   "execution_count": 1,
   "metadata": {},
   "outputs": [],
   "source": [
    "import pyspark.sql.functions as func\n",
    "from pyspark.sql.types import IntegerType, StructType, StructField, StringType, FloatType\n",
    "import math\n",
    "from pyspark.ml.linalg import Vectors\n",
    "from pyspark.ml.feature import StringIndexer\n",
    "from pyspark.sql import SparkSession, DataFrame, Window, Row\n",
    "from typing import Optional\n",
    "import matplotlib.pyplot as plt"
   ]
  },
  {
   "cell_type": "code",
   "execution_count": 2,
   "metadata": {},
   "outputs": [
    {
     "name": "stderr",
     "output_type": "stream",
     "text": [
      "24/04/27 21:22:16 WARN Utils: Your hostname, codespaces-b70f2a resolves to a loopback address: 127.0.0.1; using 172.16.5.4 instead (on interface eth0)\n",
      "24/04/27 21:22:16 WARN Utils: Set SPARK_LOCAL_IP if you need to bind to another address\n",
      "Setting default log level to \"WARN\".\n",
      "To adjust logging level use sc.setLogLevel(newLevel). For SparkR, use setLogLevel(newLevel).\n",
      "24/04/27 21:22:17 WARN NativeCodeLoader: Unable to load native-hadoop library for your platform... using builtin-java classes where applicable\n"
     ]
    }
   ],
   "source": [
    "spark = (SparkSession.builder\n",
    "                     .appName('Recommendations')\n",
    "                     .config(\"spark.serializer\", \"org.apache.spark.serializer.KryoSerializer\")\n",
    "                     .config(\"spark.kryoserializer.buffer.max\", \"2047m\")\n",
    "                     .config(\"spark.driver.memory\", \"15g\")\n",
    "                     .getOrCreate()\n",
    "          )\n",
    "\n",
    "# Set Hadoop configurations to use the service account JSON key\n",
    "# sc = spark.sparkContext\n",
    "# sc._jsc.hadoopConfiguration().set(\"fs.gs.impl\", \"com.google.cloud.hadoop.fs.gcs.GoogleHadoopFileSystem\")\n",
    "# sc._jsc.hadoopConfiguration().set(\"fs.gs.auth.service.account.enable\", \"true\")\n",
    "# sc._jsc.hadoopConfiguration().set(\"fs.gs.auth.service.account.json.keyfile\", f\"../keys/{json_key}\")"
   ]
  },
  {
   "cell_type": "code",
   "execution_count": 3,
   "metadata": {},
   "outputs": [],
   "source": [
    "def preprocessing_business(spark,\n",
    "                           city_name:str ='Philadelphia',\n",
    "                           category:str = 'restaurant',\n",
    "                           min_star_rating: Optional[int]= None,\n",
    "                           min_review_count:int =10):\n",
    "\n",
    "    df = spark.read.csv('./dataset_business.csv', header=True)\n",
    "    df_filter = df.filter(\n",
    "        (func.col('is_open')==1) &\n",
    "        (func.lower(func.col('city'))== city_name.lower()) &\n",
    "        (func.lower(func.col('categories')).contains(category.lower())) &\n",
    "        (func.col('review_count') >= min_review_count)\n",
    "    )\n",
    "    if min_star_rating is not None:\n",
    "        df_filter = df_filter.filter(func.col('stars') >= min_star_rating)\n",
    "\n",
    "    df_select = df_filter.select(\n",
    "        func.col('business_id'),\n",
    "        func.col('categories'),\n",
    "        func.col('name'),\n",
    "        func.col('review_count'),\n",
    "        func.col('stars').alias('business_stars')\n",
    "    )\n",
    "\n",
    "    string_indexer = StringIndexer(inputCol='business_id', outputCol='business_id_encode')\n",
    "    model = string_indexer.fit(df_select)\n",
    "    city_business_num_id = model.transform(df_select)\n",
    "\n",
    "    # Convert encoded business_id to integer type\n",
    "    city_business_num_id = city_business_num_id.withColumn(\n",
    "        'business_id_encode',\n",
    "        func.col('business_id_encode').cast(IntegerType())\n",
    "    )\n",
    "\n",
    "    return city_business_num_id"
   ]
  },
  {
   "cell_type": "code",
   "execution_count": 4,
   "metadata": {},
   "outputs": [],
   "source": [
    "def preprocess_review(spark,\n",
    "                      min_review_count: int = 10,\n",
    "                      min_star_rating: Optional[int] = None,\n",
    "                      ) -> DataFrame:\n",
    "\n",
    "    df_reviews = spark.read.json('./slim_review.json')\n",
    "\n",
    "    # Group by user_id to calculate review counts per user\n",
    "    df_user_review_counts = df_reviews.groupBy(\"user_id\").agg(\n",
    "        func.count(\"review_id\").alias(\"user_review_count\")\n",
    "    ).filter(func.col(\"user_review_count\") >= min_review_count)\n",
    "\n",
    "    # Join back to the original reviews to filter users by their review counts\n",
    "    df_filtered_reviews = df_reviews.join(\n",
    "        df_user_review_counts, \"user_id\"\n",
    "    )\n",
    "\n",
    "    # Optionally filter by star rating\n",
    "    if min_star_rating is not None:\n",
    "        df_filtered_reviews = df_filtered_reviews.filter(\n",
    "            func.col(\"stars\") >= min_star_rating\n",
    "        )\n",
    "\n",
    "    # Select and rename columns to match the SQL query\n",
    "    df_final = df_filtered_reviews.select(\n",
    "        func.col(\"user_id\"),\n",
    "        func.col(\"business_id\"),\n",
    "        func.col(\"date\"),\n",
    "        func.col(\"review_id\"),\n",
    "        func.col(\"stars\").alias(\"user_stars\"),\n",
    "        func.col(\"text\").alias(\"user_reviews\")\n",
    "    )\n",
    "\n",
    "    # Encode the user_id using StringIndexer\n",
    "    string_indexer = StringIndexer(inputCol='user_id', outputCol='user_id_encode')\n",
    "    model = string_indexer.fit(df_final)\n",
    "    user_reviews_num_id = model.transform(df_final)\n",
    "\n",
    "    # Convert encoded user_id to integer type\n",
    "    user_reviews_num_id = user_reviews_num_id.withColumn(\n",
    "        'user_id_encode',\n",
    "        func.col('user_id_encode').cast(IntegerType())\n",
    "    )\n",
    "\n",
    "    return user_reviews_num_id"
   ]
  },
  {
   "cell_type": "code",
   "execution_count": 5,
   "metadata": {},
   "outputs": [
    {
     "name": "stderr",
     "output_type": "stream",
     "text": [
      "                                                                                \r"
     ]
    }
   ],
   "source": [
    "reviews = preprocess_review(spark=spark)\n",
    "businesses = preprocessing_business(spark=spark)\n",
    "\n",
    "business_user_review = reviews.join(businesses,\n",
    "                                    on='business_id',\n",
    "                                    how='inner')"
   ]
  },
  {
   "cell_type": "code",
   "execution_count": 6,
   "metadata": {},
   "outputs": [
    {
     "name": "stdout",
     "output_type": "stream",
     "text": [
      "root\n",
      " |-- business_id: string (nullable = true)\n",
      " |-- categories: string (nullable = true)\n",
      " |-- name: string (nullable = true)\n",
      " |-- review_count: string (nullable = true)\n",
      " |-- business_stars: string (nullable = true)\n",
      " |-- business_id_encode: integer (nullable = true)\n",
      "\n"
     ]
    }
   ],
   "source": [
    "businesses.printSchema()"
   ]
  },
  {
   "cell_type": "code",
   "execution_count": 7,
   "metadata": {},
   "outputs": [
    {
     "name": "stdout",
     "output_type": "stream",
     "text": [
      "root\n",
      " |-- user_id: string (nullable = true)\n",
      " |-- business_id: string (nullable = true)\n",
      " |-- date: string (nullable = true)\n",
      " |-- review_id: string (nullable = true)\n",
      " |-- user_stars: long (nullable = true)\n",
      " |-- user_reviews: string (nullable = true)\n",
      " |-- user_id_encode: integer (nullable = true)\n",
      "\n"
     ]
    }
   ],
   "source": [
    "reviews.printSchema()"
   ]
  },
  {
   "cell_type": "code",
   "execution_count": 8,
   "metadata": {},
   "outputs": [
    {
     "name": "stderr",
     "output_type": "stream",
     "text": [
      "[Stage 15:=====================>                                    (3 + 5) / 8]\r"
     ]
    },
    {
     "name": "stdout",
     "output_type": "stream",
     "text": [
      "+--------------------+--------------------+-------------------+--------------------+----------+--------------------+--------------+\n",
      "|             user_id|         business_id|               date|           review_id|user_stars|        user_reviews|user_id_encode|\n",
      "+--------------------+--------------------+-------------------+--------------------+----------+--------------------+--------------+\n",
      "|-Cw2rJx6v8gHgWOBX...|6_T2xzR74JqGCTPef...|2011-08-16 00:08:57|bZBN5lFvhz1UebCmj...|         5|FRESH FRESH FRESH...|          5444|\n",
      "|-Cw2rJx6v8gHgWOBX...|PP3BBaVxZLcJU54uP...|2011-08-29 15:15:25|iZGzgccv0AXwEidKw...|         4|How could you not...|          5444|\n",
      "|-Cw2rJx6v8gHgWOBX...|hX_8ZUmIqWFWzjdiP...|2012-01-20 19:50:08|WlxKsYqEtaGYnAdoT...|         4|Ordered the pigno...|          5444|\n",
      "|-Cw2rJx6v8gHgWOBX...|ntiIq1FNqduOyyowM...|2011-08-16 00:10:12|rYV5irskfexITtv-p...|         5|affordable and ve...|          5444|\n",
      "|-Cw2rJx6v8gHgWOBX...|IWHdx0NhDKADkGOgX...|2011-08-16 01:03:23|MveqEVKQQYy-V70x9...|         3|very unique. the ...|          5444|\n",
      "|-Cw2rJx6v8gHgWOBX...|ytynqOUb3hjKeJfRj...|2012-01-20 19:45:59|Gi8AcZSfQ3kEyEXnv...|         4|Came back here fo...|          5444|\n",
      "|-Cw2rJx6v8gHgWOBX...|3ldp8B52AOzNSFnPM...|2013-08-13 16:42:51|4UXVL7bCD5mrqLjxK...|         4|I NEVER eat Beef ...|          5444|\n",
      "|-Cw2rJx6v8gHgWOBX...|6_T2xzR74JqGCTPef...|2012-09-04 21:05:10|XHhJnYrxpUC0nWC9j...|         5|Went here again w...|          5444|\n",
      "|-Cw2rJx6v8gHgWOBX...|838bEDzZSPveDkAGr...|2012-09-04 21:11:58|RUIW-C4LuF0L9N5T-...|         4|Packed, I'm givin...|          5444|\n",
      "|-Cw2rJx6v8gHgWOBX...|cXSyVvOr9YRN9diDk...|2011-08-16 00:13:29|zKullxpbsq4VRNzg2...|         3|WOW! We waited 1....|          5444|\n",
      "+--------------------+--------------------+-------------------+--------------------+----------+--------------------+--------------+\n",
      "only showing top 10 rows\n",
      "\n"
     ]
    },
    {
     "name": "stderr",
     "output_type": "stream",
     "text": [
      "                                                                                \r"
     ]
    }
   ],
   "source": [
    "reviews.show(10)"
   ]
  },
  {
   "cell_type": "code",
   "execution_count": 9,
   "metadata": {},
   "outputs": [
    {
     "name": "stdout",
     "output_type": "stream",
     "text": [
      "root\n",
      " |-- business_id: string (nullable = true)\n",
      " |-- user_id: string (nullable = true)\n",
      " |-- date: string (nullable = true)\n",
      " |-- review_id: string (nullable = true)\n",
      " |-- user_stars: long (nullable = true)\n",
      " |-- user_reviews: string (nullable = true)\n",
      " |-- user_id_encode: integer (nullable = true)\n",
      " |-- categories: string (nullable = true)\n",
      " |-- name: string (nullable = true)\n",
      " |-- review_count: string (nullable = true)\n",
      " |-- business_stars: string (nullable = true)\n",
      " |-- business_id_encode: integer (nullable = true)\n",
      "\n"
     ]
    }
   ],
   "source": [
    "business_user_review.printSchema()"
   ]
  },
  {
   "cell_type": "code",
   "execution_count": 10,
   "metadata": {},
   "outputs": [],
   "source": [
    "from pyspark.ml.evaluation import RegressionEvaluator\n",
    "from pyspark.ml.recommendation import ALS\n",
    "from pyspark.ml.tuning import CrossValidator, ParamGridBuilder\n",
    "from pyspark.ml.feature import StopWordsRemover, RegexTokenizer, HashingTF, IDF, Normalizer\n",
    "from pyspark.ml import Pipeline\n",
    "from pyspark.ml.linalg import Vectors"
   ]
  },
  {
   "cell_type": "code",
   "execution_count": 11,
   "metadata": {},
   "outputs": [],
   "source": [
    "def train_test_split(\n",
    "    df_reviews: DataFrame,\n",
    "    train_perc: int = 0.7) -> DataFrame:\n",
    "    \n",
    "    #Random shuffle\n",
    "    shuffled_final = df_reviews.orderBy(func.rand(42))\n",
    "\n",
    "    # Define window specification partitioned by the user_id column and corresponding row number\n",
    "    window_spec = Window.partitionBy(\"user_id\").orderBy(\"user_id\")\n",
    "    final_reviews_with_row_number = shuffled_final.withColumn(\"row_number\", func.row_number().over(window_spec))\n",
    "\n",
    "    # Calculate the total number of rows for each user\n",
    "    user_counts = final_reviews_with_row_number.groupBy(\"user_id\").count()\n",
    "\n",
    "    # Calculate the number of rows to include in the training set for each user\n",
    "    user_test_counts = user_counts.withColumn(\"test_count\", (func.col(\"count\") * (1-train_perc)).cast(\"int\"))\n",
    "\n",
    "    #Join row number data with test count\n",
    "    final_with_test_counts = final_reviews_with_row_number.join(user_test_counts, \"user_id\", \"inner\")\n",
    "\n",
    "    # Create training and testing DataFrames for each user\n",
    "    train_data = final_with_test_counts.filter(func.col(\"row_number\") <= (func.col(\"count\") - func.col(\"test_count\")))\n",
    "    test_data = final_with_test_counts.filter(func.col(\"row_number\") > (func.col(\"count\") - func.col(\"test_count\")))\n",
    "\n",
    "    # Drop the intermediate columns\n",
    "    train_data = train_data.drop(\"row_number\", \"count\", \"test_count\")\n",
    "    test_data = test_data.drop(\"row_number\", \"count\", \"test_count\")\n",
    "    \n",
    "    return train_data, test_data"
   ]
  },
  {
   "cell_type": "code",
   "execution_count": 12,
   "metadata": {},
   "outputs": [],
   "source": [
    "(train, test) = train_test_split(df_reviews=business_user_review)"
   ]
  },
  {
   "cell_type": "code",
   "execution_count": 13,
   "metadata": {},
   "outputs": [
    {
     "name": "stderr",
     "output_type": "stream",
     "text": [
      "24/04/27 21:22:31 WARN GarbageCollectionMetrics: To enable non-built-in garbage collector(s) List(G1 Concurrent GC), users should configure it(them) to spark.eventLog.gcMetrics.youngGenerationGarbageCollectors or spark.eventLog.gcMetrics.oldGenerationGarbageCollectors\n",
      "                                                                                \r"
     ]
    },
    {
     "data": {
      "text/plain": [
       "(142445, 56510)"
      ]
     },
     "execution_count": 13,
     "metadata": {},
     "output_type": "execute_result"
    }
   ],
   "source": [
    "# initial train test datasets size\n",
    "train.count(), test.count()"
   ]
  },
  {
   "cell_type": "code",
   "execution_count": 14,
   "metadata": {},
   "outputs": [],
   "source": [
    "# model = cv.fit(train)"
   ]
  },
  {
   "cell_type": "code",
   "execution_count": 15,
   "metadata": {},
   "outputs": [],
   "source": [
    "def rank_to_rmse_curve(rank_limits=(50,200)):\n",
    "    \n",
    "    ranks = [r for r in range(rank_limits[0], rank_limits[1], 10)]\n",
    "    \n",
    "    evaluator = RegressionEvaluator(\n",
    "    metricName='rmse',\n",
    "    labelCol='user_stars',\n",
    "    predictionCol='prediction'\n",
    "    )\n",
    "    \n",
    "    rmses = []\n",
    "    for rank in ranks:\n",
    "        als = ALS(userCol='user_id_encode',\n",
    "          itemCol='business_id_encode',\n",
    "          ratingCol='user_stars',\n",
    "          coldStartStrategy='drop',\n",
    "          nonnegative=True,\n",
    "          rank=rank,\n",
    "          regParam=0.19,\n",
    "          seed=42\n",
    "          )\n",
    "        model = als.fit(train)\n",
    "        predictions = model.transform(test)\n",
    "        rmse = evaluator.evaluate(predictions)\n",
    "        rmses.append(rmse)\n",
    "        \n",
    "    plt.plot(ranks, rmses)\n",
    "    plt.xlabel('ranks')\n",
    "    plt.ylabel('RMSE')\n",
    "    plt.title('Ranks vs RMSE for ALS model')\n",
    "    plt.show()"
   ]
  },
  {
   "cell_type": "code",
   "execution_count": 16,
   "metadata": {},
   "outputs": [
    {
     "name": "stderr",
     "output_type": "stream",
     "text": [
      "24/04/27 21:22:43 WARN InstanceBuilder: Failed to load implementation from:dev.ludovic.netlib.blas.JNIBLAS\n",
      "24/04/27 21:22:43 WARN InstanceBuilder: Failed to load implementation from:dev.ludovic.netlib.blas.VectorBLAS\n",
      "                                                                                \r"
     ]
    },
    {
     "data": {
      "image/png": "[encoded data removed]",
      "text/plain": [
       "<Figure size 640x480 with 1 Axes>"
      ]
     },
     "metadata": {},
     "output_type": "display_data"
    }
   ],
   "source": [
    "rank_to_rmse_curve(rank_limits=(10,20))"
   ]
  },
  {
   "cell_type": "code",
   "execution_count": 17,
   "metadata": {},
   "outputs": [],
   "source": [
    "als = ALS(userCol='user_id_encode',\n",
    "          itemCol='business_id_encode',\n",
    "          ratingCol='user_stars',\n",
    "          coldStartStrategy='drop',\n",
    "          nonnegative=True,\n",
    "          rank=110,\n",
    "          regParam=0.19,\n",
    "          seed=42\n",
    "          )\n",
    "\n",
    "# make ALS model\n",
    "# best rank: 110\n",
    "# best regParam: 0.19\n",
    "\n",
    "evaluator = RegressionEvaluator(\n",
    "    metricName='rmse',\n",
    "    labelCol='user_stars',\n",
    "    predictionCol='prediction'\n",
    ")"
   ]
  },
  {
   "cell_type": "code",
   "execution_count": 18,
   "metadata": {},
   "outputs": [],
   "source": [
    "als_params = ParamGridBuilder().addGrid(als.rank, [12,13,14]) \\\n",
    "                               .addGrid(als.regParam, [0.17,0.18,0.19]) \\\n",
    "                               .build()        \n",
    "cv = CrossValidator(\n",
    "        estimator=als,\n",
    "        estimatorParamMaps=als_params,\n",
    "        evaluator=evaluator\n",
    "    )"
   ]
  },
  {
   "cell_type": "code",
   "execution_count": 19,
   "metadata": {},
   "outputs": [],
   "source": [
    "# recombine train and test\n",
    "df_combine = train.unionByName(test)"
   ]
  },
  {
   "cell_type": "code",
   "execution_count": 20,
   "metadata": {},
   "outputs": [
    {
     "name": "stderr",
     "output_type": "stream",
     "text": [
      "                                                                                \r"
     ]
    }
   ],
   "source": [
    "model = als.fit(df_combine)\n",
    "predictions = model.transform(test)\n",
    "rmse = evaluator.evaluate(predictions)\n",
    "# print(rmse)"
   ]
  },
  {
   "cell_type": "code",
   "execution_count": 21,
   "metadata": {},
   "outputs": [],
   "source": [
    "user_rec = model.recommendForAllUsers(10)\n",
    "# https://github.com/apache/spark/blob/master/examples/src/main/python/ml/als_example.py"
   ]
  },
  {
   "cell_type": "code",
   "execution_count": 22,
   "metadata": {},
   "outputs": [],
   "source": [
    "# user_rec.count()"
   ]
  },
  {
   "cell_type": "code",
   "execution_count": 23,
   "metadata": {},
   "outputs": [],
   "source": [
    "# test.printSchema()"
   ]
  },
  {
   "cell_type": "code",
   "execution_count": 24,
   "metadata": {},
   "outputs": [],
   "source": [
    "# filtered_user_rec = user_rec.withColumn(\n",
    "#     \"filtered_recommendations\",\n",
    "#     func.expr(\"filter(recommendations, item -> item.rating > 4.0)\")\n",
    "# )\n",
    "\n",
    "# non_empty_user_rec = filtered_user_rec.filter(\n",
    "#     func.size(func.col(\"filtered_recommendations\")) > 0\n",
    "# )\n",
    "# # Display the filtered results\n",
    "# non_empty_user_rec.select(\"user_id_encode\", \"filtered_recommendations\").show(10, truncate=False)"
   ]
  },
  {
   "cell_type": "code",
   "execution_count": 25,
   "metadata": {},
   "outputs": [],
   "source": [
    "# test.filter((func.col('user_id_encode')==928) & (func.col('business_id_encode')==1209)).show()"
   ]
  },
  {
   "cell_type": "code",
   "execution_count": 26,
   "metadata": {},
   "outputs": [],
   "source": [
    "# preprocess_review(spark=spark).show(5)"
   ]
  },
  {
   "cell_type": "code",
   "execution_count": 27,
   "metadata": {},
   "outputs": [],
   "source": [
    "# preprocessing_business(spark=spark, min_review_count=3).show(5)"
   ]
  },
  {
   "cell_type": "code",
   "execution_count": 28,
   "metadata": {},
   "outputs": [],
   "source": [
    "# process text reviews by user\n",
    "def review_text_processing(df_train: DataFrame,\n",
    "                           df_test: DataFrame,\n",
    "                           reivew_col: str = 'user_reviews',\n",
    "                           rating_cut_off: float = 0) -> DataFrame:\n",
    "\n",
    "    df_train_lower = df_train.withColumn(reivew_col, func.lower(reivew_col))\n",
    "    df_test_lower = df_test.withColumn(reivew_col, func.lower(reivew_col))\n",
    "    \n",
    "    \n",
    "    # aggregate reviews by business in train\n",
    "    df_train_agg = df_train_lower.groupBy('business_id', 'name').agg(\n",
    "        func.concat_ws(' ', func.collect_list('user_reviews')).alias(reivew_col),\n",
    "        func.mean('business_stars').alias('business_stars'),\n",
    "    ).filter(\n",
    "        func.col('business_stars') >= rating_cut_off\n",
    "    )\n",
    "    # aggregate reviews by user\n",
    "    df_test_agg = df_test_lower.groupBy('user_id').agg(\n",
    "        func.concat_ws(' ', func.collect_list('user_reviews')).alias(reivew_col)\n",
    "    )\n",
    "    # Define the regex tokenizer\n",
    "    regex_tokenizer = RegexTokenizer(\n",
    "        inputCol=reivew_col,\n",
    "        outputCol='words',\n",
    "        pattern=\"\\\\W\"  # This regex splits the text at any non-word character\n",
    "    )\n",
    "    # Define the stopwords remover\n",
    "    stopwords_remover = StopWordsRemover(inputCol='words', outputCol='filtered_words')\n",
    "\n",
    "    # tf-idf\n",
    "    hashing_tf = HashingTF(inputCol='filtered_words',\n",
    "                           outputCol='raw_features', numFeatures=100)\n",
    "    idf = IDF(inputCol='raw_features', outputCol='features')\n",
    "    # Define the pipeline with the stages\n",
    "    pipeline = Pipeline(stages=[regex_tokenizer, stopwords_remover, hashing_tf, idf])\n",
    "\n",
    "    # Fit the pipeline to the data and transform the data\n",
    "    model = pipeline.fit(df_train_agg)\n",
    "    train_transformed = model.transform(df_train_agg)\n",
    "    test_transformed = model.transform(df_test_agg)\n",
    "\n",
    "    # remove extra columns\n",
    "    train_transformed = train_transformed.drop(\n",
    "        'date',\n",
    "        # 'user_id',\n",
    "        'categories',\n",
    "        'review_count',\n",
    "        # 'business_id',\n",
    "        'words',\n",
    "        'filtered_words',\n",
    "        'raw_features',\n",
    "        reivew_col\n",
    "    )\n",
    "    test_transformed = test_transformed.drop(\n",
    "        'date',\n",
    "        # 'user_id',\n",
    "        'categories',\n",
    "        'review_count',\n",
    "        # 'business_id',\n",
    "        'words',\n",
    "        'filtered_words',\n",
    "        'raw_features',\n",
    "        reivew_col\n",
    "    )\n",
    "\n",
    "    for col in train_transformed.columns:\n",
    "        if col != 'features':\n",
    "            train_transformed = train_transformed.withColumnRenamed(col, 'train_'+col)\n",
    "\n",
    "    for col in test_transformed.columns:\n",
    "        if col != 'features':\n",
    "            test_transformed = test_transformed.withColumnRenamed(col, 'test_'+col)\n",
    "\n",
    "    return train_transformed, test_transformed"
   ]
  },
  {
   "cell_type": "code",
   "execution_count": 29,
   "metadata": {},
   "outputs": [],
   "source": [
    "# df_train.show(5)"
   ]
  },
  {
   "cell_type": "code",
   "execution_count": 30,
   "metadata": {},
   "outputs": [],
   "source": [
    "# def cosine_similarity(features1, features2):\n",
    "#     return float(float(features1.dot(features2)) / (Vectors.norm(features1, 2) * Vectors.norm(features2, 2)))\n",
    "\n",
    "# cosine_similarity_udf = func.udf(cosine_similarity, FloatType())\n",
    "\n",
    "# def cosine_recommendation(train_transformed: DataFrame,\n",
    "#                           test_transformed: DataFrame,\n",
    "#                           sim_cut_off: float = 0.5) -> DataFrame:\n",
    "\n",
    "#     normalizer = Normalizer(inputCol='features', outputCol='norm_features', p=2.0)\n",
    "#     train_normalized = normalizer.transform(train_transformed).withColumnRenamed(\"norm_features\", \"train_norm_features\")\n",
    "#     test_normalized = normalizer.transform(test_transformed).withColumnRenamed(\"norm_features\", \"test_norm_features\")\n",
    "\n",
    "\n",
    "#     # Perform a Cartesian join to calculate cosine similarity between every test and train pair\n",
    "#     cartesian_df = test_normalized.crossJoin(func.broadcast(train_normalized))\n",
    "    \n",
    "#     result_df = cartesian_df.withColumn(\n",
    "#         'similarity',\n",
    "#         cosine_similarity_udf(cartesian_df['test_norm_features'], cartesian_df['train_norm_features'])\n",
    "#     )\n",
    "#     result_df = result_df.filter(\n",
    "#         func.col('similarity') >= sim_cut_off\n",
    "#     )\n",
    "    \n",
    "#     # Define window spec\n",
    "#     windowSpec = Window.partitionBy(\"test_user_id\").orderBy(func.col(\"similarity\").desc())\n",
    "\n",
    "#     # Apply window function to rank similarities and filter top N\n",
    "#     result_df = result_df.withColumn(\"rank\", func.row_number().over(windowSpec)).filter(func.col(\"rank\") <= 5)\n",
    "\n",
    "#     return result_df"
   ]
  },
  {
   "cell_type": "code",
   "execution_count": 31,
   "metadata": {},
   "outputs": [],
   "source": [
    "def cosine_similarity(v1, v2):\n",
    "    dot_product = sum(x * y for x, y in zip(v1, v2))\n",
    "    norm1 = math.sqrt(sum(x**2 for x in v1))\n",
    "    norm2 = math.sqrt(sum(y**2 for y in v2))\n",
    "    if norm1 * norm2:\n",
    "        return dot_product / (norm1 * norm2)\n",
    "    else:\n",
    "        return 0.0\n",
    "\n",
    "def cosine_recommendation(train_transformed: DataFrame, test_transformed: DataFrame, sim_cut_off: float = 0.5) -> DataFrame:\n",
    "    normalizer = Normalizer(inputCol='features', outputCol='norm_features')\n",
    "    train_normalized = normalizer.transform(train_transformed)\n",
    "    test_normalized = normalizer.transform(test_transformed)\n",
    "\n",
    "    # Convert DataFrames to RDDs for manual vector handling\n",
    "    train_rdd = train_normalized.rdd.map(lambda x: (x['train_business_id'], x['norm_features'].toArray()))\n",
    "    test_rdd = test_normalized.rdd.map(lambda x: (x['test_user_id'], x['norm_features'].toArray()))\n",
    "\n",
    "    # Perform Cartesian product and calculate cosine similarity\n",
    "    result_rdd = test_rdd.cartesian(train_rdd).map(lambda x: Row(\n",
    "        test_user_id=x[0][0],\n",
    "        train_business_id=x[1][0],\n",
    "        similarity=float(cosine_similarity(x[0][1], x[1][1]))  # Cast to float here\n",
    "    ))\n",
    "\n",
    "    # Define schema explicitly for DataFrame conversion\n",
    "    schema = StructType([\n",
    "        StructField(\"test_user_id\", StringType(), False),\n",
    "        StructField(\"train_business_id\", StringType(), False),\n",
    "        StructField(\"similarity\", FloatType(), False)\n",
    "    ])\n",
    "\n",
    "    # Convert RDD back to DataFrame using the defined schema\n",
    "    result_df = spark.createDataFrame(result_rdd, schema)\n",
    "\n",
    "    # Filter by similarity cutoff and apply window function to get top 5 results\n",
    "    windowSpec = Window.partitionBy(\"test_user_id\").orderBy(func.col(\"similarity\").desc())\n",
    "    result_df = result_df.filter(func.col(\"similarity\") >= sim_cut_off).withColumn(\"rank\", func.row_number().over(windowSpec)).filter(func.col(\"rank\") <= 10)\n",
    "\n",
    "    return result_df"
   ]
  },
  {
   "cell_type": "code",
   "execution_count": 32,
   "metadata": {},
   "outputs": [],
   "source": [
    "def get_hit_rate(ground_truth_df, # test data\n",
    "                 recommended_df, # result_df\n",
    "                 user_col, # user_id\n",
    "                 item_col # business_id\n",
    "                 ):\n",
    "    # Join ground truth and recommended items on user ID\n",
    "    joined_df = ground_truth_df.join(recommended_df, on=user_col)\n",
    "\n",
    "    # Filter to count hits (correct recommendations) for each user\n",
    "    hits_df = joined_df.filter(func.col(\"recommended_\" + item_col) == func.col(item_col)) \\\n",
    "                       .select(user_col).distinct()\n",
    "\n",
    "    # Count the distinct users with at least one correct recommendation\n",
    "    users_with_hits = hits_df.select(func.countDistinct(user_col)).collect()[0][0]\n",
    "\n",
    "    # Count the total number of distinct users for whom recommendations were made\n",
    "    total_users = recommended_df.select(func.countDistinct(user_col)).collect()[0][0]\n",
    "\n",
    "    # Calculate total hit rate\n",
    "    total_hit_rate = users_with_hits / total_users\n",
    "\n",
    "    return total_hit_rate\n",
    "\n",
    "def get_recall(ground_truth_df,\n",
    "               recommended_df,\n",
    "               user_col,\n",
    "               item_col):\n",
    "    # Join ground truth and recommended items on user ID\n",
    "    joined_df = ground_truth_df.join(recommended_df, on=user_col)\n",
    "\n",
    "    # Count the number of relevant recommended items and total relevant items for each user\n",
    "    relevant_recommended_items = joined_df.filter(func.col(\"recommended_\"+item_col) == func.col(item_col))\n",
    "    total_relevant_items = ground_truth_df.groupBy(user_col).count()\n",
    "\n",
    "    # Compute recall for each user\n",
    "    recall_df = relevant_recommended_items.groupBy(user_col).count().withColumnRenamed(\"count\", \"relevant_count\") \\\n",
    "        .join(total_relevant_items, on=user_col)\n",
    "    recall_df = recall_df.withColumn(\"recall\", func.col(\"relevant_count\") / func.col(\"count\"))\n",
    "\n",
    "    # Average recall across all users\n",
    "    average_recall = recall_df.selectExpr(\"avg(recall)\").collect()[0][0]\n",
    "\n",
    "    return average_recall"
   ]
  },
  {
   "cell_type": "code",
   "execution_count": 33,
   "metadata": {},
   "outputs": [
    {
     "name": "stderr",
     "output_type": "stream",
     "text": [
      "                                                                                \r"
     ]
    }
   ],
   "source": [
    "df_train, df_test = review_text_processing(\n",
    "                        df_train=train,\n",
    "                        df_test=test,\n",
    "                        rating_cut_off=4)  # only 4-star or above restaurant will be recommended"
   ]
  },
  {
   "cell_type": "code",
   "execution_count": 34,
   "metadata": {},
   "outputs": [
    {
     "name": "stdout",
     "output_type": "stream",
     "text": [
      "root\n",
      " |-- test_user_id: string (nullable = true)\n",
      " |-- features: vector (nullable = true)\n",
      "\n"
     ]
    }
   ],
   "source": [
    "df_test.printSchema()"
   ]
  },
  {
   "cell_type": "code",
   "execution_count": 35,
   "metadata": {},
   "outputs": [
    {
     "name": "stderr",
     "output_type": "stream",
     "text": [
      "                                                                                \r"
     ]
    }
   ],
   "source": [
    "result_df = cosine_recommendation(train_transformed=df_train, test_transformed=df_test, sim_cut_off=0.7)"
   ]
  },
  {
   "cell_type": "code",
   "execution_count": 36,
   "metadata": {},
   "outputs": [],
   "source": [
    "# result_df.select(\"test_user_id_encode\").distinct().count()"
   ]
  },
  {
   "cell_type": "code",
   "execution_count": 37,
   "metadata": {},
   "outputs": [
    {
     "name": "stdout",
     "output_type": "stream",
     "text": [
      "root\n",
      " |-- user_id: string (nullable = true)\n",
      " |-- business_id: string (nullable = true)\n",
      " |-- date: string (nullable = true)\n",
      " |-- review_id: string (nullable = true)\n",
      " |-- user_stars: long (nullable = true)\n",
      " |-- user_reviews: string (nullable = true)\n",
      " |-- user_id_encode: integer (nullable = true)\n",
      " |-- categories: string (nullable = true)\n",
      " |-- name: string (nullable = true)\n",
      " |-- review_count: string (nullable = true)\n",
      " |-- business_stars: string (nullable = true)\n",
      " |-- business_id_encode: integer (nullable = true)\n",
      " |-- prediction: float (nullable = false)\n",
      "\n"
     ]
    }
   ],
   "source": [
    "predictions.printSchema()"
   ]
  },
  {
   "cell_type": "code",
   "execution_count": 38,
   "metadata": {},
   "outputs": [
    {
     "name": "stderr",
     "output_type": "stream",
     "text": [
      "24/04/27 21:23:37 WARN DAGScheduler: Broadcasting large task binary with size 1045.3 KiB\n",
      "                                                                                \r"
     ]
    },
    {
     "name": "stdout",
     "output_type": "stream",
     "text": [
      "Root Mean Squared Error (RMSE): 0.7636999948212142\n",
      "Avg Recall: 0.5416377773486272\n",
      "Hit Rate: 1.0\n",
      "+-----------------------------+----------+\n",
      "|Name                         |prediction|\n",
      "+-----------------------------+----------+\n",
      "|Southwark Restaurant         |4.221628  |\n",
      "|Meskerem Ethiopian Restaurant|4.190869  |\n",
      "|Southwark Restaurant         |4.221628  |\n",
      "+-----------------------------+----------+\n",
      "\n"
     ]
    }
   ],
   "source": [
    "# calculate hit rate and recall for ALS\n",
    "als_threshold_rating = 4\n",
    "filtered_predictions = predictions.filter(predictions[\"prediction\"] >= als_threshold_rating).withColumnRenamed(\"business_id\", \"recommended_business_id\")\n",
    "\n",
    "recall_als = get_recall(test, filtered_predictions, \"user_id\", \"business_id\")\n",
    "hit_rate_als = get_hit_rate(test, filtered_predictions, \"user_id\", \"business_id\")\n",
    "print(\"Root Mean Squared Error (RMSE):\", rmse)\n",
    "print(\"Avg Recall:\", recall_als)\n",
    "print(\"Hit Rate:\", hit_rate_als)\n",
    "\n",
    "example_rec = filtered_predictions.filter(func.col('user_id')=='-AwZjQNFpCqc0bVNNyBqwg').select('Name', 'prediction', )\n",
    "example_rec.show(20, truncate=False)"
   ]
  },
  {
   "cell_type": "code",
   "execution_count": 39,
   "metadata": {},
   "outputs": [],
   "source": [
    "result_df = result_df.withColumnRenamed('test_user_id', 'user_id').withColumnRenamed('train_business_id', 'recommended_business_id')"
   ]
  },
  {
   "cell_type": "code",
   "execution_count": 40,
   "metadata": {},
   "outputs": [
    {
     "name": "stdout",
     "output_type": "stream",
     "text": [
      "root\n",
      " |-- user_id: string (nullable = false)\n",
      " |-- recommended_business_id: string (nullable = false)\n",
      " |-- similarity: float (nullable = false)\n",
      " |-- rank: integer (nullable = false)\n",
      "\n"
     ]
    }
   ],
   "source": [
    "result_df.printSchema()"
   ]
  },
  {
   "cell_type": "code",
   "execution_count": 41,
   "metadata": {},
   "outputs": [],
   "source": [
    "# result_df.count()"
   ]
  },
  {
   "cell_type": "code",
   "execution_count": 42,
   "metadata": {},
   "outputs": [],
   "source": [
    "# calculate hit rate and recall for content based\n",
    "#Define ground truth and recommended df\n",
    "# Calculate recall\n",
    "# recall = get_recall(test, result_df, \"user_id\", \"business_id\")\n",
    "# hit_rate = get_hit_rate(test, result_df, \"user_id\", \"business_id\")\n",
    "# print(\"Avg Recall:\", recall)\n",
    "# print(\"Hit Rate:\", hit_rate)"
   ]
  },
  {
   "cell_type": "code",
   "execution_count": 43,
   "metadata": {},
   "outputs": [
    {
     "name": "stdout",
     "output_type": "stream",
     "text": [
      "root\n",
      " |-- user_id: string (nullable = true)\n",
      " |-- business_id: string (nullable = true)\n",
      " |-- date: string (nullable = true)\n",
      " |-- review_id: string (nullable = true)\n",
      " |-- user_stars: long (nullable = true)\n",
      " |-- user_reviews: string (nullable = true)\n",
      " |-- user_id_encode: integer (nullable = true)\n",
      " |-- categories: string (nullable = true)\n",
      " |-- name: string (nullable = true)\n",
      " |-- review_count: string (nullable = true)\n",
      " |-- business_stars: string (nullable = true)\n",
      " |-- business_id_encode: integer (nullable = true)\n",
      "\n"
     ]
    }
   ],
   "source": [
    "df_combine.printSchema()"
   ]
  },
  {
   "cell_type": "code",
   "execution_count": 44,
   "metadata": {},
   "outputs": [
    {
     "name": "stdout",
     "output_type": "stream",
     "text": [
      "root\n",
      " |-- user_id: string (nullable = false)\n",
      " |-- recommended_business_id: string (nullable = false)\n",
      " |-- similarity: float (nullable = false)\n",
      " |-- rank: integer (nullable = false)\n",
      "\n"
     ]
    }
   ],
   "source": [
    "result_df.printSchema()"
   ]
  },
  {
   "cell_type": "code",
   "execution_count": 46,
   "metadata": {},
   "outputs": [
    {
     "name": "stderr",
     "output_type": "stream",
     "text": [
      "[Stage 1013:=====================================================>(80 + 1) / 81]\r"
     ]
    },
    {
     "name": "stdout",
     "output_type": "stream",
     "text": [
      "+-----------------------+----------------------+----------+\n",
      "|recommended_business_id|name                  |similarity|\n",
      "+-----------------------+----------------------+----------+\n",
      "|85e8Uyn8tIyEZCqBP80rqA |Lolita                |0.8909454 |\n",
      "|dVC2Rg_BGW3XOIlvEFxh9g |DAWA Sushi & Ramen Bar|0.8915551 |\n",
      "|ZKPrXH_GNW_AtZ31tP3NmA |White Dog Cafe        |0.8895499 |\n",
      "|73UjNbSoQjQAOS45rcihFg |Cantina Dos Segundos  |0.8914666 |\n",
      "|q9WA6PqTLnB78DWPu5YJ5A |Perla                 |0.8955451 |\n",
      "|j6usntbtSzFyuwx4n2mn1g |Las Bugambilias       |0.8985427 |\n",
      "|0K4RwxdAcViifyU3Htzxww |Southwark Restaurant  |0.89000714|\n",
      "|ILvJAuSP0sYWJKAQ-Goh4Q |Kensington Quarters   |0.8907577 |\n",
      "|7mpYTDb24SywNMRn3yeakQ |The Twisted Tail      |0.8910358 |\n",
      "|kxKai8GE5oDMPevV7oxvbA |Tequilas Restaurant   |0.89200604|\n",
      "+-----------------------+----------------------+----------+\n",
      "\n"
     ]
    },
    {
     "name": "stderr",
     "output_type": "stream",
     "text": [
      "                                                                                \r"
     ]
    }
   ],
   "source": [
    "joined_df = result_df.filter(func.col(\"user_id\") == '-AwZjQNFpCqc0bVNNyBqwg') \\\n",
    "    .join(df_combine, result_df.recommended_business_id == df_combine.business_id) \\\n",
    "    .select(result_df.user_id, result_df.recommended_business_id, df_combine.name, result_df.similarity, result_df.rank)\n",
    "\n",
    "# Selecting distinct rows based on recommended_business_id to ensure uniqueness\n",
    "unique_business_ids = joined_df.select(\"recommended_business_id\", \"name\", 'similarity').distinct()\n",
    "\n",
    "# Show the results with distinct recommended_business_id\n",
    "unique_business_ids.show(truncate=False)"
   ]
  },
  {
   "cell_type": "markdown",
   "metadata": {},
   "source": []
  }
 ],
 "metadata": {
  "kernelspec": {
   "display_name": "6740_project",
   "language": "python",
   "name": "python3"
  },
  "language_info": {
   "codemirror_mode": {
    "name": "ipython",
    "version": 3
   },
   "file_extension": ".py",
   "mimetype": "text/x-python",
   "name": "python",
   "nbconvert_exporter": "python",
   "pygments_lexer": "ipython3",
   "version": "3.10.13"
  }
 },
 "nbformat": 4,
 "nbformat_minor": 2
}
